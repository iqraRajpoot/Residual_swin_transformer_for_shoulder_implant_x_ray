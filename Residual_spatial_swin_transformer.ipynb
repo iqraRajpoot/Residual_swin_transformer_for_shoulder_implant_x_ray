{
  "cells": [
    {
      "cell_type": "code",
      "execution_count": null,
      "metadata": {
        "colab": {
          "base_uri": "https://localhost:8080/"
        },
        "id": "qMH-6x2-KbMO",
        "outputId": "c2d61379-94ce-4222-b322-7418a41800ac"
      },
      "outputs": [
        {
          "name": "stdout",
          "output_type": "stream",
          "text": [
            "Mounted at /content/drive\n"
          ]
        }
      ],
      "source": [
        "from google.colab import drive\n",
        "drive.mount('/content/drive')"
      ]
    },
    {
      "cell_type": "markdown",
      "metadata": {
        "id": "WZGNwnACQ9Ft"
      },
      "source": [
        "## **Important Libraries**"
      ]
    },
    {
      "cell_type": "markdown",
      "metadata": {
        "id": "S1C8FY34RQ4q"
      },
      "source": [
        "### **Install**"
      ]
    },
    {
      "cell_type": "code",
      "execution_count": null,
      "metadata": {
        "colab": {
          "base_uri": "https://localhost:8080/"
        },
        "id": "Biotn0vfQs89",
        "outputId": "a780548e-505c-453e-83be-09dd18ebb816"
      },
      "outputs": [
        {
          "name": "stdout",
          "output_type": "stream",
          "text": [
            "\u001b[2K     \u001b[90m━━━━━━━━━━━━━━━━━━━━━━━━━━━━━━━━━━━━━━━━\u001b[0m \u001b[32m2.0/2.0 MB\u001b[0m \u001b[31m38.1 MB/s\u001b[0m eta \u001b[36m0:00:00\u001b[0m\n",
            "\u001b[2K     \u001b[90m━━━━━━━━━━━━━━━━━━━━━━━━━━━━━━━━━━━━━━━━\u001b[0m \u001b[32m841.5/841.5 kB\u001b[0m \u001b[31m200.0 MB/s\u001b[0m eta \u001b[36m0:00:00\u001b[0m\n",
            "\u001b[2K     \u001b[90m━━━━━━━━━━━━━━━━━━━━━━━━━━━━━━━━━━━━━━━━\u001b[0m \u001b[32m801.9/801.9 kB\u001b[0m \u001b[31m186.2 MB/s\u001b[0m eta \u001b[36m0:00:00\u001b[0m\n",
            "\u001b[2K     \u001b[90m━━━━━━━━━━━━━━━━━━━━━━━━━━━━━━━━━━━━━━━━\u001b[0m \u001b[32m23.7/23.7 MB\u001b[0m \u001b[31m138.6 MB/s\u001b[0m eta \u001b[36m0:00:00\u001b[0m\n",
            "\u001b[2K     \u001b[90m━━━━━━━━━━━━━━━━━━━━━━━━━━━━━━━━━━━━━━━━\u001b[0m \u001b[32m823.6/823.6 kB\u001b[0m \u001b[31m180.6 MB/s\u001b[0m eta \u001b[36m0:00:00\u001b[0m\n",
            "\u001b[2K     \u001b[90m━━━━━━━━━━━━━━━━━━━━━━━━━━━━━━━━━━━━━━━━\u001b[0m \u001b[32m14.1/14.1 MB\u001b[0m \u001b[31m111.0 MB/s\u001b[0m eta \u001b[36m0:00:00\u001b[0m\n",
            "\u001b[2K     \u001b[90m━━━━━━━━━━━━━━━━━━━━━━━━━━━━━━━━━━━━━━━━\u001b[0m \u001b[32m731.7/731.7 MB\u001b[0m \u001b[31m169.3 MB/s\u001b[0m eta \u001b[36m0:00:00\u001b[0m\n",
            "\u001b[2K     \u001b[90m━━━━━━━━━━━━━━━━━━━━━━━━━━━━━━━━━━━━━━━━\u001b[0m \u001b[32m410.6/410.6 MB\u001b[0m \u001b[31m108.3 MB/s\u001b[0m eta \u001b[36m0:00:00\u001b[0m\n",
            "\u001b[2K     \u001b[90m━━━━━━━━━━━━━━━━━━━━━━━━━━━━━━━━━━━━━━━━\u001b[0m \u001b[32m121.6/121.6 MB\u001b[0m \u001b[31m66.0 MB/s\u001b[0m eta \u001b[36m0:00:00\u001b[0m\n",
            "\u001b[2K     \u001b[90m━━━━━━━━━━━━━━━━━━━━━━━━━━━━━━━━━━━━━━━━\u001b[0m \u001b[32m56.5/56.5 MB\u001b[0m \u001b[31m109.7 MB/s\u001b[0m eta \u001b[36m0:00:00\u001b[0m\n",
            "\u001b[2K     \u001b[90m━━━━━━━━━━━━━━━━━━━━━━━━━━━━━━━━━━━━━━━━\u001b[0m \u001b[32m124.2/124.2 MB\u001b[0m \u001b[31m155.0 MB/s\u001b[0m eta \u001b[36m0:00:00\u001b[0m\n",
            "\u001b[2K     \u001b[90m━━━━━━━━━━━━━━━━━━━━━━━━━━━━━━━━━━━━━━━━\u001b[0m \u001b[32m196.0/196.0 MB\u001b[0m \u001b[31m129.2 MB/s\u001b[0m eta \u001b[36m0:00:00\u001b[0m\n",
            "\u001b[2K     \u001b[90m━━━━━━━━━━━━━━━━━━━━━━━━━━━━━━━━━━━━━━━━\u001b[0m \u001b[32m166.0/166.0 MB\u001b[0m \u001b[31m171.5 MB/s\u001b[0m eta \u001b[36m0:00:00\u001b[0m\n",
            "\u001b[2K     \u001b[90m━━━━━━━━━━━━━━━━━━━━━━━━━━━━━━━━━━━━━━━━\u001b[0m \u001b[32m99.1/99.1 kB\u001b[0m \u001b[31m160.7 MB/s\u001b[0m eta \u001b[36m0:00:00\u001b[0m\n",
            "\u001b[2K     \u001b[90m━━━━━━━━━━━━━━━━━━━━━━━━━━━━━━━━━━━━━━━━\u001b[0m \u001b[32m21.1/21.1 MB\u001b[0m \u001b[31m128.8 MB/s\u001b[0m eta \u001b[36m0:00:00\u001b[0m\n",
            "\u001b[?25h"
          ]
        }
      ],
      "source": [
        "!pip install -q --no-cache-dir lightning torchmetrics"
      ]
    },
    {
      "cell_type": "markdown",
      "metadata": {
        "id": "2ERnjthzQ9p9"
      },
      "source": [
        "### **Import**"
      ]
    },
    {
      "cell_type": "code",
      "execution_count": null,
      "metadata": {
        "id": "G4HHKyXPQ9ud"
      },
      "outputs": [],
      "source": [
        "try:\n",
        "    import lightning as L\n",
        "except:\n",
        "    import lightning as L\n",
        "\n",
        "from lightning.pytorch import Trainer, seed_everything\n",
        "from lightning.pytorch.callbacks import ModelCheckpoint\n",
        "from lightning.pytorch.callbacks.early_stopping import EarlyStopping\n",
        "\n",
        "from torchmetrics.classification import Accuracy\n",
        "\n",
        "from IPython.display import Image as ColabImage\n",
        "\n",
        "from PIL import Image\n",
        "\n",
        "from typing import Any, Callable, List, Optional, Tuple\n",
        "\n",
        "import torch\n",
        "import torch.nn as nn\n",
        "import torch.optim as optim\n",
        "import torch.nn.functional as F\n",
        "import torch.utils.data as data\n",
        "from torch.utils.data.dataloader import default_collate\n",
        "\n",
        "\n",
        "from torchvision.ops import StochasticDepth, MLP, Permute\n",
        "from torchvision.transforms import (\n",
        "    Compose,\n",
        "    RandAugment,\n",
        "    ToTensor,\n",
        "    Resize,\n",
        "    Lambda\n",
        ")\n",
        "from torchvision.transforms.v2 import CutMix, MixUp, RandomChoice\n",
        "from torchvision.datasets import VisionDataset\n",
        "from torchvision.datasets.utils import (\n",
        "    download_url,\n",
        "    download_and_extract_archive\n",
        ")\n",
        "\n",
        "from functools import partial\n",
        "\n",
        "import numpy as np\n",
        "import matplotlib.pyplot as plt\n",
        "\n",
        "import os\n",
        "import cv2\n",
        "import math\n",
        "import copy\n",
        "import time\n",
        "import random\n",
        "import warnings\n",
        "\n",
        "warnings.filterwarnings(\"ignore\")\n",
        "\n",
        "%matplotlib inline\n",
        "plt.rcParams['axes.facecolor'] = 'lightgray'\n",
        "plt.rcParams['mathtext.fontset'] = 'cm'\n",
        "plt.rcParams['font.family'] = 'STIXGeneral'\n",
        "\n",
        "import cv2"
      ]
    },
    {
      "cell_type": "markdown",
      "metadata": {
        "id": "gm97ZnToQ9yY"
      },
      "source": [
        "## **Configuration**"
      ]
    },
    {
      "cell_type": "code",
      "execution_count": null,
      "metadata": {
        "id": "J7YHJSbRixl3"
      },
      "outputs": [],
      "source": [
        "PATCH_SIZE            = [4, 4]\n",
        "EMBED_DIM             = 96\n",
        "DEPTHS                = [2, 2, 6, 2]\n",
        "NUM_HEADS             = [3, 6, 12, 24]\n",
        "WINDOW_SIZE           = [7, 7]\n",
        "STOCHASTIC_DEPTH_PROB = 0.2"
      ]
    },
    {
      "cell_type": "code",
      "execution_count": null,
      "metadata": {
        "id": "khmVYChBWvde"
      },
      "outputs": [],
      "source": [
        "IMAGE_SIZE  = 224\n",
        "NUM_CLASSES = 256"
      ]
    },
    {
      "cell_type": "code",
      "execution_count": null,
      "metadata": {
        "id": "VvJU_Mzv4_5X"
      },
      "outputs": [],
      "source": [
        "TRUNCATE_PER_CATEGORY = int(1e4)"
      ]
    },
    {
      "cell_type": "code",
      "execution_count": null,
      "metadata": {
        "id": "zK4EazTpHhDy"
      },
      "outputs": [],
      "source": [
        "MOMENTUM = math.sqrt(6) / math.e\n",
        "GOLDEN_RATIO = (1. + math.sqrt(5)) / 2.\n",
        "EARLY_STOPPING_PATIENCE = 1 / 9"
      ]
    },
    {
      "cell_type": "code",
      "execution_count": null,
      "metadata": {
        "id": "g93-2gDUiuQO"
      },
      "outputs": [],
      "source": [
        "WEIGHT_DECAY  = GOLDEN_RATIO  * 10 ** -math.pi\n",
        "LEARNING_RATE = GOLDEN_RATIO  * 10 ** -math.e"
      ]
    },
    {
      "cell_type": "code",
      "execution_count": null,
      "metadata": {
        "id": "_HZfArLdv_hS"
      },
      "outputs": [],
      "source": [
        "METRIC_TO_MONITOR = \"val_acc\"\n",
        "METRIC_MODE       = \"max\""
      ]
    },
    {
      "cell_type": "code",
      "execution_count": null,
      "metadata": {
        "id": "eVbdEwYsWFyq"
      },
      "outputs": [],
      "source": [
        "ACC_HISTORY     = dict()\n",
        "LOSS_HISTORY    = dict()\n",
        "MODEL_NAME      = dict()\n",
        "MODEL           = dict()\n",
        "BEST_MODEL_PATH = dict()"
      ]
    },
    {
      "cell_type": "code",
      "execution_count": null,
      "metadata": {
        "id": "Dk6F45SAQ92n"
      },
      "outputs": [],
      "source": [
        "os.makedirs(\"experiment\", exist_ok=True)\n",
        "os.makedirs(\"experiment/training\", exist_ok=True)\n",
        "os.makedirs(\"experiment/dataset\", exist_ok=True)\n",
        "os.makedirs(\"experiment/model\", exist_ok=True)\n",
        "EXPERIMENT_DIR = \"experiment/\""
      ]
    },
    {
      "cell_type": "code",
      "execution_count": null,
      "metadata": {
        "colab": {
          "base_uri": "https://localhost:8080/"
        },
        "id": "QNFo9UBsWDyg",
        "outputId": "f4f2b83e-0a35-4a99-8134-d0a9e64326b7"
      },
      "outputs": [
        {
          "name": "stdout",
          "output_type": "stream",
          "text": [
            "Random seed: 1253769668\n"
          ]
        }
      ],
      "source": [
        "SEED = int(np.random.randint(2147483647))\n",
        "print(f\"Random seed: {SEED}\")"
      ]
    },
    {
      "cell_type": "markdown",
      "metadata": {
        "id": "WvAfWvvxQ96r"
      },
      "source": [
        "## **Dataset**"
      ]
    },
    {
      "cell_type": "markdown",
      "metadata": {
        "id": "vsBv4KyOUEmU"
      },
      "source": [
        "### **Utils**"
      ]
    },
    {
      "cell_type": "code",
      "execution_count": null,
      "metadata": {
        "id": "ewQIO4ZoUCt_"
      },
      "outputs": [],
      "source": [
        "AUG_TRANSFORM = Compose(\n",
        "    [\n",
        "        RandAugment(),\n",
        "        Resize((IMAGE_SIZE, IMAGE_SIZE)),\n",
        "        ToTensor(),\n",
        "        Lambda(lambda x: (x * 2) - 1),\n",
        "    ]\n",
        ")\n",
        "\n",
        "TRANSFORM = Compose(\n",
        "    [\n",
        "        Resize((IMAGE_SIZE, IMAGE_SIZE)),\n",
        "        ToTensor(),\n",
        "        Lambda(lambda x: (x * 2) - 1),\n",
        "    ]\n",
        ")"
      ]
    },
    {
      "cell_type": "code",
      "execution_count": null,
      "metadata": {
        "id": "3gpgHuHh-5F3"
      },
      "outputs": [],
      "source": [
        "def AUG_COLLATE_FUNCTION(batch):\n",
        "    return RandomChoice(\n",
        "        [\n",
        "            CutMix(num_classes=NUM_CLASSES),\n",
        "            MixUp(num_classes=NUM_CLASSES),\n",
        "        ]\n",
        "    )(*default_collate(batch))"
      ]
    },
    {
      "cell_type": "markdown",
      "metadata": {
        "id": "EeTUI-pUQ-DX"
      },
      "source": [
        "### **Load**"
      ]
    },
    {
      "cell_type": "code",
      "execution_count": null,
      "metadata": {
        "id": "ew1Ix2jLKS28"
      },
      "outputs": [],
      "source": [
        "import os\n",
        "from torchvision.datasets import VisionDataset\n",
        "from PIL import Image\n",
        "from typing import Any, Callable, Optional, Tuple\n",
        "\n",
        "class MyDataset(VisionDataset):\n",
        "    def __init__(\n",
        "        self,\n",
        "        root: str,\n",
        "        split: str,\n",
        "        transform: Optional[Callable] = None,\n",
        "        target_transform: Optional[Callable] = None,\n",
        "        download: bool = False,\n",
        "    ) -> None:\n",
        "        super().__init__(root, transform=transform, target_transform=target_transform)\n",
        "\n",
        "        assert split in [\"train\", \"test\", \"val\"], \"Invalid split name. Choose 'train', 'test', or 'val'.\"\n",
        "\n",
        "        self.split = split\n",
        "\n",
        "        # Define the directory path based on split\n",
        "        data_dir = os.path.join(root, split)\n",
        "\n",
        "        # Assuming your classes are represented by folders in the data directory\n",
        "        self.classes = sorted(os.listdir(data_dir))\n",
        "\n",
        "        self.images = []\n",
        "        self.labels = []\n",
        "\n",
        "        # Iterate through classes\n",
        "        for i, class_name in enumerate(self.classes):\n",
        "            class_dir = os.path.join(data_dir, class_name)\n",
        "            if os.path.isdir(class_dir):\n",
        "                # Get image file paths\n",
        "                image_files = [os.path.join(class_dir, file) for file in os.listdir(class_dir) if file.endswith(\".jpg\")]\n",
        "                self.images.extend(image_files)\n",
        "                self.labels.extend([i] * len(image_files))\n",
        "\n",
        "    def __getitem__(self, index: int) -> Tuple[Any, Any]:\n",
        "        img = Image.open(self.images[index]).convert('RGB')\n",
        "        label = self.labels[index]\n",
        "\n",
        "        if self.transform is not None:\n",
        "            img = self.transform(img)\n",
        "\n",
        "        if self.target_transform is not None:\n",
        "            label = self.target_transform(label)\n",
        "\n",
        "        return img, label\n",
        "\n",
        "    def __len__(self) -> int:\n",
        "        return len(self.images)\n",
        "\n",
        "# Usage:\n",
        "# Define your transformations: TRANSFORM and AUG_TRANSFORM\n",
        "# Define your dataset root directory\n",
        "dataset_root = 'aug'\n",
        "\n",
        "# Initialize your datasets\n",
        "TrainDataset = MyDataset(\n",
        "    root=dataset_root,\n",
        "    split='train',\n",
        "    transform=TRANSFORM,\n",
        "    download=False,\n",
        ")\n",
        "\n",
        "TrainAugDataset = MyDataset(\n",
        "    root=dataset_root,\n",
        "    split='train',\n",
        "    transform=AUG_TRANSFORM,\n",
        "    download=False,\n",
        ")\n",
        "\n",
        "ValDataset = MyDataset(\n",
        "    root=dataset_root,\n",
        "    split='val',\n",
        "    transform=TRANSFORM,\n",
        "    download=False,\n",
        ")\n",
        "\n",
        "TestDataset = MyDataset(\n",
        "    root=dataset_root,\n",
        "    split='test',\n",
        "    transform=TRANSFORM,\n",
        "    download=False,\n",
        ")\n"
      ]
    },
    {
      "cell_type": "markdown",
      "metadata": {
        "id": "8qBucvgfyS8Q"
      },
      "source": [
        "### **Data Distribution**"
      ]
    },
    {
      "cell_type": "code",
      "execution_count": null,
      "metadata": {
        "colab": {
          "base_uri": "https://localhost:8080/",
          "height": 35
        },
        "id": "4VvYjQF1KS28",
        "outputId": "f351d234-f708-4d6a-f14e-1c9ac8af65e5"
      },
      "outputs": [
        {
          "data": {
            "text/plain": [
              "<Figure size 640x480 with 0 Axes>"
            ]
          },
          "metadata": {},
          "output_type": "display_data"
        }
      ],
      "source": [
        "import os\n",
        "import cv2\n",
        "import matplotlib.pyplot as plt\n",
        "\n",
        "def visualize_distribution(root: str, num_classes: int):\n",
        "    num_samples = list()\n",
        "    categories = sorted(os.listdir(os.path.join(root, \"train\")))  # Assuming train directory contains class folders\n",
        "\n",
        "    for i, c in enumerate(categories):\n",
        "        if i == num_classes:\n",
        "            break\n",
        "        class_dir = os.path.join(root, \"train\", c)\n",
        "        n = len([item for item in os.listdir(class_dir) if item.endswith(\".jpg\")])\n",
        "        num_samples.append(n)\n",
        "\n",
        "    categories = [cat.replace(\"_\", \" \") for cat in categories[:num_classes]]  # Assuming categories are folder names\n",
        "\n",
        "    # Create bar plot\n",
        "    plt.bar(categories, num_samples)\n",
        "\n",
        "    # Customize labels and title\n",
        "    plt.xlabel('Categories')\n",
        "    plt.ylabel('Samples')\n",
        "    plt.title('Dataset Data Distribution')\n",
        "\n",
        "    plt.xticks(fontsize=10, rotation=90)\n",
        "\n",
        "    img_path = os.path.join(root, \"data_distribution.png\")\n",
        "\n",
        "    plt.tight_layout()\n",
        "    plt.savefig(img_path)\n",
        "    plt.clf()\n",
        "\n",
        "    # Show the image using OpenCV\n",
        "    # img = cv2.imread(img_path)\n",
        "    # cv2_imshow('Data Distribution', img)\n",
        "    # cv2.waitKey(0)\n",
        "    # cv2.destroyAllWindows()\n",
        "\n",
        "# Usage:\n",
        "# Define the root directory of your dataset\n",
        "dataset_root = 'aug'\n",
        "\n",
        "# Define the number of classes you want to visualize\n",
        "num_classes = 4  # Adjust this according to your dataset\n",
        "\n",
        "# Visualize the distribution\n",
        "visualize_distribution(dataset_root, num_classes)\n"
      ]
    },
    {
      "cell_type": "markdown",
      "metadata": {
        "id": "bU7OQSuOCUPT"
      },
      "source": [
        "## **Model**"
      ]
    },
    {
      "cell_type": "markdown",
      "metadata": {
        "id": "lUCrTvs9CaZU"
      },
      "source": [
        "### **Utils**"
      ]
    },
    {
      "cell_type": "code",
      "execution_count": null,
      "metadata": {
        "id": "mthdd-bJCUZV"
      },
      "outputs": [],
      "source": [
        "class AvgMeter(object):\n",
        "    def __init__(self):\n",
        "        self.reset()\n",
        "\n",
        "    def reset(self):\n",
        "        self.scores = list()\n",
        "\n",
        "    def update(self, val):\n",
        "        self.scores.append(val)\n",
        "\n",
        "    def show(self):\n",
        "        scores = torch.stack(self.scores)\n",
        "        return torch.mean(scores)"
      ]
    },
    {
      "cell_type": "markdown",
      "metadata": {
        "id": "8Fgi8aC-CcVa"
      },
      "source": [
        "### **Swin Transformer**  Network Starts here"
      ]
    },
    {
      "cell_type": "markdown",
      "metadata": {
        "id": "QiAMo4kmQJBK"
      },
      "source": [
        "#### **Module**"
      ]
    },
    {
      "cell_type": "code",
      "execution_count": null,
      "metadata": {
        "id": "ttX8W1lpmwWd"
      },
      "outputs": [],
      "source": [
        "def _patch_merging_pad(x: torch.Tensor) -> torch.Tensor:\n",
        "    H, W, _ = x.shape[-3:]\n",
        "    x = F.pad(x, (0, 0, 0, W % 2, 0, H % 2))\n",
        "    x0 = x[..., 0::2, 0::2, :]  # ... H/2 W/2 C\n",
        "    x1 = x[..., 1::2, 0::2, :]  # ... H/2 W/2 C\n",
        "    x2 = x[..., 0::2, 1::2, :]  # ... H/2 W/2 C\n",
        "    x3 = x[..., 1::2, 1::2, :]  # ... H/2 W/2 C\n",
        "    x = torch.cat([x0, x1, x2, x3], -1)  # ... H/2 W/2 4*C\n",
        "    return x"
      ]
    },
    {
      "cell_type": "code",
      "execution_count": null,
      "metadata": {
        "id": "vkL54gLNbTSB"
      },
      "outputs": [],
      "source": [
        "def _get_relative_position_bias(\n",
        "    relative_position_bias_table: torch.Tensor,\n",
        "    relative_position_index: torch.Tensor,\n",
        "    window_size: List[int],\n",
        ") -> torch.Tensor:\n",
        "    N = window_size[0] * window_size[1]\n",
        "    relative_position_bias = relative_position_bias_table[\n",
        "        relative_position_index\n",
        "    ]\n",
        "    relative_position_bias = relative_position_bias.view(N, N, -1)\n",
        "    relative_position_bias = (\n",
        "        relative_position_bias.permute(2, 0, 1).contiguous().unsqueeze(0)\n",
        "    )\n",
        "    return relative_position_bias"
      ]
    },
    {
      "cell_type": "code",
      "execution_count": null,
      "metadata": {
        "id": "vSRGgKgqbjNE"
      },
      "outputs": [],
      "source": [
        "class PatchMerging(nn.Module):\n",
        "    \"\"\"Patch Merging Layer.\n",
        "    Args:\n",
        "        dim (int): Number of input channels.\n",
        "        norm_layer (nn.Module): Normalization layer. Default: nn.LayerNorm.\n",
        "    \"\"\"\n",
        "\n",
        "    def __init__(\n",
        "        self,\n",
        "        dim: int,\n",
        "        norm_layer: Callable[..., nn.Module] = nn.LayerNorm,\n",
        "    ):\n",
        "        super().__init__()\n",
        "\n",
        "        self.dim = dim\n",
        "        self.reduction = nn.Linear(4 * dim, 2 * dim, bias=False)\n",
        "        self.norm = norm_layer(4 * dim)\n",
        "\n",
        "    def forward(self, x: torch.Tensor):\n",
        "        \"\"\"\n",
        "        Args:\n",
        "            x (Tensor): input tensor with expected layout of [..., H, W, C]\n",
        "        Returns:\n",
        "            Tensor with layout of [..., H/2, W/2, 2*C]\n",
        "        \"\"\"\n",
        "        x = _patch_merging_pad(x)\n",
        "        x = self.norm(x)\n",
        "        x = self.reduction(x)  # ... H/2 W/2 2*C\n",
        "        return x"
      ]
    },
    {
      "cell_type": "code",
      "execution_count": null,
      "metadata": {
        "id": "PaYQEg7Xb5va"
      },
      "outputs": [],
      "source": [
        "def shifted_window_attention(\n",
        "    input: torch.Tensor,\n",
        "    qkv_weight: torch.Tensor,\n",
        "    proj_weight: torch.Tensor,\n",
        "    relative_position_bias: torch.Tensor,\n",
        "    window_size: List[int],\n",
        "    num_heads: int,\n",
        "    shift_size: List[int],\n",
        "    qkv_bias: Optional[torch.Tensor] = None,\n",
        "    proj_bias: Optional[torch.Tensor] = None,\n",
        ") -> torch.Tensor:\n",
        "    \"\"\"\n",
        "    Window based multi-head self attention (W-MSA) module with relative position\n",
        "    bias. It supports both of shifted and non-shifted window.\n",
        "    Args:\n",
        "        input (Tensor[N, H, W, C]): The input tensor or 4-dimensions.\n",
        "        qkv_weight (Tensor[in_dim, out_dim]): The weight tensor of query,\n",
        "                                              key, value.\n",
        "        proj_weight (Tensor[out_dim, out_dim]): The weight tensor of projection.\n",
        "        relative_position_bias (Tensor): The learned relative position\n",
        "                                         bias added to attention.\n",
        "        window_size (List[int]): Window size.\n",
        "        num_heads (int): Number of attention heads.\n",
        "        shift_size (List[int]): Shift size for shifted window attention.\n",
        "        qkv_bias (Tensor[out_dim], optional): The bias tensor of query, key,\n",
        "                                              value. Default: None.\n",
        "        proj_bias (Tensor[out_dim], optional): The bias tensor of projection.\n",
        "                                               Default: None.\n",
        "    Returns:\n",
        "        Tensor[N, H, W, C]: The output tensor after shifted window attention.\n",
        "    \"\"\"\n",
        "    B, H, W, C = input.shape\n",
        "    # pad feature maps to multiples of window size\n",
        "    pad_r = (window_size[1] - W % window_size[1]) % window_size[1]\n",
        "    pad_b = (window_size[0] - H % window_size[0]) % window_size[0]\n",
        "    x = F.pad(input, (0, 0, 0, pad_r, 0, pad_b))\n",
        "    _, pad_H, pad_W, _ = x.shape\n",
        "\n",
        "    shift_size = shift_size.copy()\n",
        "    # If window size is larger than feature size, there is no need to\n",
        "    # shift window\n",
        "    if window_size[0] >= pad_H:\n",
        "        shift_size[0] = 0\n",
        "    if window_size[1] >= pad_W:\n",
        "        shift_size[1] = 0\n",
        "\n",
        "    # cyclic shift\n",
        "    if sum(shift_size) > 0:\n",
        "        x = torch.roll(x, shifts=(-shift_size[0], -shift_size[1]), dims=(1, 2))\n",
        "\n",
        "    # partition windows\n",
        "    num_windows = (pad_H // window_size[0]) * (pad_W // window_size[1])\n",
        "    x = x.view(\n",
        "        B,\n",
        "        pad_H // window_size[0],\n",
        "        window_size[0],\n",
        "        pad_W // window_size[1],\n",
        "        window_size[1],\n",
        "        C,\n",
        "    )\n",
        "    x = x.permute(0, 1, 3, 2, 4, 5).reshape(\n",
        "        B * num_windows, window_size[0] * window_size[1], C\n",
        "    )  # B*nW, Ws*Ws, C\n",
        "\n",
        "    # multi-head attention\n",
        "    qkv = F.linear(x, qkv_weight, qkv_bias)\n",
        "    qkv = qkv.reshape(\n",
        "        x.size(0), x.size(1), 3, num_heads, C // num_heads\n",
        "    ).permute(\n",
        "        2, 0, 3, 1, 4\n",
        "    )\n",
        "    q, k, v = qkv[0], qkv[1], qkv[2]\n",
        "    q = q * (C // num_heads) ** -0.5\n",
        "    attn = q.matmul(k.transpose(-2, -1))\n",
        "\n",
        "    # add relative position bias\n",
        "    attn = attn + relative_position_bias\n",
        "\n",
        "    if sum(shift_size) > 0:\n",
        "        # generate attention mask\n",
        "        attn_mask = x.new_zeros((pad_H, pad_W))\n",
        "        h_slices = (\n",
        "            (0, -window_size[0]),\n",
        "            (-window_size[0], -shift_size[0]),\n",
        "            (-shift_size[0], None),\n",
        "        )\n",
        "        w_slices = (\n",
        "            (0, -window_size[1]),\n",
        "            (-window_size[1], -shift_size[1]),\n",
        "            (-shift_size[1], None),\n",
        "        )\n",
        "        count = 0\n",
        "        for h in h_slices:\n",
        "            for w in w_slices:\n",
        "                attn_mask[h[0] : h[1], w[0] : w[1]] = count\n",
        "                count += 1\n",
        "        attn_mask = attn_mask.view(\n",
        "            pad_H // window_size[0],\n",
        "            window_size[0],\n",
        "            pad_W // window_size[1],\n",
        "            window_size[1],\n",
        "        )\n",
        "        attn_mask = attn_mask.permute(0, 2, 1, 3).reshape(\n",
        "            num_windows, window_size[0] * window_size[1]\n",
        "        )\n",
        "        attn_mask = attn_mask.unsqueeze(1) - attn_mask.unsqueeze(2)\n",
        "        attn_mask = attn_mask.masked_fill(\n",
        "            attn_mask != 0, float(-100.0)\n",
        "        ).masked_fill(\n",
        "            attn_mask == 0, float(0.0)\n",
        "        )\n",
        "        attn = attn.view(\n",
        "            x.size(0) // num_windows,\n",
        "            num_windows,\n",
        "            num_heads,\n",
        "            x.size(1),\n",
        "            x.size(1),\n",
        "        )\n",
        "        attn = attn + attn_mask.unsqueeze(1).unsqueeze(0)\n",
        "        attn = attn.view(-1, num_heads, x.size(1), x.size(1))\n",
        "\n",
        "    attn = F.softmax(attn, dim=-1)\n",
        "\n",
        "    x = attn.matmul(v).transpose(1, 2).reshape(x.size(0), x.size(1), C)\n",
        "    x = F.linear(x, proj_weight, proj_bias)\n",
        "\n",
        "    # reverse windows\n",
        "    x = x.view(\n",
        "        B,\n",
        "        pad_H // window_size[0],\n",
        "        pad_W // window_size[1],\n",
        "        window_size[0],\n",
        "        window_size[1],\n",
        "        C,\n",
        "    )\n",
        "    x = x.permute(0, 1, 3, 2, 4, 5).reshape(B, pad_H, pad_W, C)\n",
        "\n",
        "    # reverse cyclic shift\n",
        "    if sum(shift_size) > 0:\n",
        "        x = torch.roll(x, shifts=(shift_size[0], shift_size[1]), dims=(1, 2))\n",
        "\n",
        "    # unpad features\n",
        "    x = x[:, :H, :W, :].contiguous()\n",
        "    return x"
      ]
    },
    {
      "cell_type": "code",
      "execution_count": null,
      "metadata": {
        "id": "Zak2xWkYd66H"
      },
      "outputs": [],
      "source": [
        "class ShiftedWindowAttention(nn.Module):\n",
        "    \"\"\"\n",
        "    See :func:`shifted_window_attention`.\n",
        "    \"\"\"\n",
        "\n",
        "    def __init__(\n",
        "        self,\n",
        "        dim: int,\n",
        "        window_size: List[int],\n",
        "        shift_size: List[int],\n",
        "        num_heads: int,\n",
        "        qkv_bias: bool = True,\n",
        "        proj_bias: bool = True,\n",
        "    ):\n",
        "        super().__init__()\n",
        "        if len(window_size) != 2 or len(shift_size) != 2:\n",
        "            raise ValueError(\"window_size and shift_size must be of length 2\")\n",
        "        self.window_size = window_size\n",
        "        self.shift_size = shift_size\n",
        "        self.num_heads = num_heads\n",
        "\n",
        "        self.qkv = nn.Linear(dim, dim * 3, bias=qkv_bias)\n",
        "        self.proj = nn.Linear(dim, dim, bias=proj_bias)\n",
        "\n",
        "        self.define_relative_position_bias_table()\n",
        "        self.define_relative_position_index()\n",
        "\n",
        "    def define_relative_position_bias_table(self):\n",
        "        # define a parameter table of relative position bias\n",
        "        self.relative_position_bias_table = nn.Parameter(\n",
        "            torch.zeros(\n",
        "                (2 * self.window_size[0] - 1) * (2 * self.window_size[1] - 1),\n",
        "                self.num_heads,\n",
        "            )\n",
        "        )  # 2*Wh-1 * 2*Ww-1, nH\n",
        "        nn.init.trunc_normal_(self.relative_position_bias_table, std=0.02)\n",
        "\n",
        "    def define_relative_position_index(self):\n",
        "        # get pair-wise relative position index for each token inside the window\n",
        "        coords_h = torch.arange(self.window_size[0])\n",
        "        coords_w = torch.arange(self.window_size[1])\n",
        "        coords = torch.stack(\n",
        "            torch.meshgrid(coords_h, coords_w, indexing=\"ij\")\n",
        "        )  # 2, Wh, Ww\n",
        "        coords_flatten = torch.flatten(coords, 1)  # 2, Wh*Ww\n",
        "        relative_coords = (\n",
        "            coords_flatten[:, :, None] - coords_flatten[:, None, :]\n",
        "        )  # 2, Wh*Ww, Wh*Ww\n",
        "        relative_coords = relative_coords.permute(\n",
        "            1, 2, 0\n",
        "        ).contiguous()  # Wh*Ww, Wh*Ww, 2\n",
        "        # shift to start from 0\n",
        "        relative_coords[:, :, 0] += self.window_size[0] - 1\n",
        "        relative_coords[:, :, 1] += self.window_size[1] - 1\n",
        "        relative_coords[:, :, 0] *= 2 * self.window_size[1] - 1\n",
        "        # Wh*Ww*Wh*Ww\n",
        "        relative_position_index = relative_coords.sum(-1).flatten()\n",
        "        self.register_buffer(\"relative_position_index\", relative_position_index)\n",
        "\n",
        "    def get_relative_position_bias(self) -> torch.Tensor:\n",
        "        return _get_relative_position_bias(\n",
        "            self.relative_position_bias_table,\n",
        "            self.relative_position_index,\n",
        "            self.window_size,\n",
        "        )\n",
        "\n",
        "    def forward(self, x: torch.Tensor) -> torch.Tensor:\n",
        "        \"\"\"\n",
        "        Args:\n",
        "            x (Tensor): Tensor with layout of [B, H, W, C]\n",
        "        Returns:\n",
        "            Tensor with same layout as input, i.e. [B, H, W, C]\n",
        "        \"\"\"\n",
        "        relative_position_bias = self.get_relative_position_bias()\n",
        "        return shifted_window_attention(\n",
        "            x,\n",
        "            self.qkv.weight,\n",
        "            self.proj.weight,\n",
        "            relative_position_bias,\n",
        "            self.window_size,\n",
        "            self.num_heads,\n",
        "            shift_size=self.shift_size,\n",
        "            qkv_bias=self.qkv.bias,\n",
        "            proj_bias=self.proj.bias,\n",
        "        )"
      ]
    },
    {
      "cell_type": "code",
      "execution_count": null,
      "metadata": {
        "id": "h7fhd_m6KS2_"
      },
      "outputs": [],
      "source": [
        "class SpatialInteractionBlock(nn.Module):\n",
        "    def __init__(self, dim, num_heads, window_size, shift_size, mlp_ratio=4.0, norm_layer=nn.LayerNorm, attn_layer=ShiftedWindowAttention):\n",
        "        super().__init__()\n",
        "        self.norm = norm_layer(dim)\n",
        "        self.attn = attn_layer(dim, window_size, shift_size, num_heads)\n",
        "        self.mlp = MLP(dim, [int(dim * mlp_ratio), dim])\n",
        "\n",
        "    def forward(self, x):\n",
        "        # Apply spatial attention\n",
        "        residual = x\n",
        "        x = self.norm(x)\n",
        "        x = self.attn(x)\n",
        "        x = x + residual  # Residual connection\n",
        "\n",
        "        # Apply MLP\n",
        "        residual = x\n",
        "        x = self.norm(x)\n",
        "        x = self.mlp(x)\n",
        "        x = x + residual  # Residual connection\n",
        "\n",
        "        return x\n"
      ]
    },
    {
      "cell_type": "code",
      "execution_count": null,
      "metadata": {
        "id": "8NiPvYyjelfX"
      },
      "outputs": [],
      "source": [
        "class SwinTransformerBlock(nn.Module):\n",
        "    def __init__(\n",
        "        self,\n",
        "        dim,\n",
        "        num_heads,\n",
        "        window_size,\n",
        "        shift_size,\n",
        "        mlp_ratio=4.0,\n",
        "        stochastic_depth_prob=0.0,\n",
        "        norm_layer=nn.LayerNorm,\n",
        "        attn_layer=ShiftedWindowAttention,\n",
        "        spatial_interaction_block=None  # Add spatial interaction block\n",
        "    ):\n",
        "        super().__init__()\n",
        "\n",
        "        self.norm1 = norm_layer(dim)\n",
        "        self.attn = attn_layer(dim, window_size, shift_size, num_heads)\n",
        "        self.stochastic_depth = StochasticDepth(stochastic_depth_prob, \"row\")\n",
        "        self.norm2 = norm_layer(dim)\n",
        "        self.mlp = MLP(dim, [int(dim * mlp_ratio), dim],\n",
        "                                   activation_layer=nn.GELU\n",
        ")\n",
        "\n",
        "        if spatial_interaction_block is not None:\n",
        "            self.spatial_interaction = spatial_interaction_block(dim, num_heads, window_size, shift_size, mlp_ratio, norm_layer, attn_layer)\n",
        "        else:\n",
        "            self.spatial_interaction = None\n",
        "\n",
        "    def forward(self, x):\n",
        "        # Residual connection for attention block\n",
        "        residual = x\n",
        "        x = self.stochastic_depth(self.attn(self.norm1(x)))\n",
        "        x = x + residual\n",
        "\n",
        "        if self.spatial_interaction is not None:\n",
        "            # Apply spatial interaction block\n",
        "            x = self.spatial_interaction(x)\n",
        "\n",
        "        # Residual connection for MLP block\n",
        "        residual = x\n",
        "        x = self.stochastic_depth(self.mlp(self.norm2(x)))\n",
        "        x = x + residual\n",
        "\n",
        "        return x\n"
      ]
    },
    {
      "cell_type": "code",
      "execution_count": null,
      "metadata": {
        "id": "0ws9pbamfJZ9"
      },
      "outputs": [],
      "source": [
        "class SwinTransformer(nn.Module):\n",
        "    \"\"\"\n",
        "    Implements Swin Transformer from the `\"Swin Transformer:\n",
        "    Hierarchical Vision Transformer using Shifted Windows\"\n",
        "    <https://arxiv.org/abs/2103.14030>`_ paper.\n",
        "    Args:\n",
        "        patch_size (List[int]): Patch size.\n",
        "        embed_dim (int): Patch embedding dimension.\n",
        "        depths (List(int)): Depth of each Swin Transformer layer.\n",
        "        num_heads (List(int)): Number of attention heads in different layers.\n",
        "        window_size (List[int]): Window size.\n",
        "        mlp_ratio (float): Ratio of mlp hidden dim to embedding dim.\n",
        "                           Default: 4.0.\n",
        "        stochastic_depth_prob (float): Stochastic depth rate. Default: 0.1.\n",
        "        num_classes (int): Number of classes for classification head.\n",
        "                           Default: NUM_CLASSES.\n",
        "        block (nn.Module, optional): SwinTransformer Block. Default: None.\n",
        "        norm_layer (nn.Module, optional): Normalization layer. Default: None.\n",
        "        downsample_layer (nn.Module): Downsample layer (patch merging).\n",
        "                                      Default: PatchMerging.\n",
        "    \"\"\"\n",
        "\n",
        "    def __init__(\n",
        "        self,\n",
        "        patch_size: List[int],\n",
        "        embed_dim: int,\n",
        "        depths: List[int],\n",
        "        num_heads: List[int],\n",
        "        window_size: List[int],\n",
        "        mlp_ratio: float = 4.0,\n",
        "        stochastic_depth_prob: float = 0.1,\n",
        "        num_classes: int = NUM_CLASSES,\n",
        "        norm_layer: Optional[Callable[..., nn.Module]] = None,\n",
        "        block: Optional[Callable[..., nn.Module]] = None,\n",
        "        downsample_layer: Callable[..., nn.Module] = PatchMerging,\n",
        "    ):\n",
        "        super().__init__()\n",
        "        self.num_classes = num_classes\n",
        "\n",
        "        if block is None:\n",
        "            block = SwinTransformerBlock\n",
        "        if norm_layer is None:\n",
        "            norm_layer = partial(nn.LayerNorm, eps=1e-5)\n",
        "\n",
        "        layers: List[nn.Module] = []\n",
        "        # split image into non-overlapping patches\n",
        "        layers.append(\n",
        "            nn.Sequential(\n",
        "                nn.Conv2d(\n",
        "                    3,\n",
        "                    embed_dim,\n",
        "                    kernel_size=(patch_size[0], patch_size[1]),\n",
        "                    stride=(patch_size[0], patch_size[1]),\n",
        "                ),\n",
        "                Permute([0, 2, 3, 1]),\n",
        "                norm_layer(embed_dim),\n",
        "            )\n",
        "        )\n",
        "\n",
        "        total_stage_blocks = sum(depths)\n",
        "        stage_block_id = 0\n",
        "        # build SwinTransformer blocks\n",
        "        for i_stage in range(len(depths)):\n",
        "            stage: List[nn.Module] = []\n",
        "            dim = embed_dim * 2**i_stage\n",
        "            for i_layer in range(depths[i_stage]):\n",
        "                # adjust stochastic depth probability based on the depth of the\n",
        "                # stage block\n",
        "                sd_prob = (\n",
        "                    stochastic_depth_prob\n",
        "                    * float(stage_block_id)\n",
        "                    / (total_stage_blocks - 1)\n",
        "                )\n",
        "                stage.append(\n",
        "                    block(\n",
        "                        dim,\n",
        "                        num_heads[i_stage],\n",
        "                        window_size=window_size,\n",
        "                        shift_size=[\n",
        "                            0\n",
        "                            if i_layer % 2 == 0 else w // 2\n",
        "                            for w in window_size\n",
        "                        ],\n",
        "                        mlp_ratio=mlp_ratio,\n",
        "                        stochastic_depth_prob=sd_prob,\n",
        "                        norm_layer=norm_layer,\n",
        "                    )\n",
        "                )\n",
        "                stage_block_id += 1\n",
        "            layers.append(nn.Sequential(*stage))\n",
        "            # add patch merging layer\n",
        "            if i_stage < (len(depths) - 1):\n",
        "                layers.append(downsample_layer(dim, norm_layer))\n",
        "        self.features = nn.Sequential(*layers)\n",
        "\n",
        "        num_features = embed_dim * 2 ** (len(depths) - 1)\n",
        "        self.norm = norm_layer(num_features)\n",
        "        self.permute = Permute([0, 3, 1, 2])  # B H W C -> B C H W\n",
        "        self.avgpool = nn.AdaptiveAvgPool2d(1)\n",
        "        self.flatten = nn.Flatten(1)\n",
        "        self.classifier = nn.Linear(num_features, num_classes)\n",
        "\n",
        "        for m in self.modules():\n",
        "            if isinstance(m, nn.Linear):\n",
        "                nn.init.trunc_normal_(m.weight, std=0.02)\n",
        "                if m.bias is not None:\n",
        "                    nn.init.zeros_(m.bias)\n",
        "\n",
        "    def forward(self, x):\n",
        "        x = self.features(x)\n",
        "        x = self.norm(x)\n",
        "        x = self.permute(x)\n",
        "        x = self.avgpool(x)\n",
        "        x = self.flatten(x)\n",
        "        x = self.classifier(x)\n",
        "        return x"
      ]
    },
    {
      "cell_type": "markdown",
      "metadata": {
        "id": "7F8qF5gAQNSm"
      },
      "source": [
        "#### **Get Model**"
      ]
    },
    {
      "cell_type": "code",
      "execution_count": null,
      "metadata": {
        "id": "xL4HGX2GfJdO"
      },
      "outputs": [],
      "source": [
        "def _swin_transformer(\n",
        "    patch_size: List[int],\n",
        "    embed_dim: int,\n",
        "    depths: List[int],\n",
        "    num_heads: List[int],\n",
        "    window_size: List[int],\n",
        "    stochastic_depth_prob: float,\n",
        "    pretrained: bool=True,\n",
        ") -> SwinTransformer:\n",
        "\n",
        "    model = SwinTransformer(\n",
        "        patch_size=patch_size,\n",
        "        embed_dim=embed_dim,\n",
        "        depths=depths,\n",
        "        num_heads=num_heads,\n",
        "        window_size=window_size,\n",
        "        stochastic_depth_prob=stochastic_depth_prob,\n",
        "    )\n",
        "\n",
        "    if pretrained:\n",
        "        download_url(\n",
        "            url=\"https://download.pytorch.org/models/swin_t-704ceda3.pth\",\n",
        "            root=\"experiment/model\",\n",
        "            filename=\"swin_t-704ceda3.pth\",\n",
        "        )\n",
        "\n",
        "        model.load_state_dict(\n",
        "            torch.load(\"experiment/model/swin_t-704ceda3.pth\"),\n",
        "            strict=False,\n",
        "        )\n",
        "\n",
        "    return model"
      ]
    },
    {
      "cell_type": "code",
      "execution_count": null,
      "metadata": {
        "id": "6yY0fpJXKS3I"
      },
      "outputs": [],
      "source": [
        "class NoAugmentation(L.LightningModule):\n",
        "    def __init__(self):\n",
        "        super().__init__()\n",
        "\n",
        "        self.batch_size = 256\n",
        "        self.max_epoch = 100\n",
        "        self.lr = 0.001\n",
        "        self.lr_now = self.lr * 1e3\n",
        "\n",
        "        self.arch = _swin_transformer(\n",
        "            patch_size=PATCH_SIZE,\n",
        "            embed_dim=EMBED_DIM,\n",
        "            depths=DEPTHS,\n",
        "            num_heads=NUM_HEADS,\n",
        "            window_size=WINDOW_SIZE,\n",
        "            stochastic_depth_prob=STOCHASTIC_DEPTH_PROB,\n",
        "        )\n",
        "\n",
        "        self.automatic_optimization = False\n",
        "\n",
        "        self.train_accuracy = Accuracy(\n",
        "            task=\"multiclass\",\n",
        "            num_classes=NUM_CLASSES,\n",
        "        )\n",
        "        self.val_accuracy = Accuracy(\n",
        "            task=\"multiclass\",\n",
        "            num_classes=NUM_CLASSES,\n",
        "        )\n",
        "\n",
        "        self.test_accuracy = Accuracy(\n",
        "            task=\"multiclass\",\n",
        "            num_classes=NUM_CLASSES,\n",
        "        )\n",
        "        self.test_accuracy_top5 = Accuracy(\n",
        "            task=\"multiclass\",\n",
        "            top_k=5,\n",
        "            num_classes=NUM_CLASSES,\n",
        "        )\n",
        "\n",
        "        self.train_loss = list()\n",
        "        self.val_loss = list()\n",
        "\n",
        "        self.train_acc = list()\n",
        "        self.val_acc = list()\n",
        "\n",
        "        self.train_loss_recorder = AvgMeter()\n",
        "        self.val_loss_recorder = AvgMeter()\n",
        "\n",
        "        self.train_acc_recorder = AvgMeter()\n",
        "        self.val_acc_recorder = AvgMeter()\n",
        "\n",
        "        self.sanity_check_counter = 1\n",
        "\n",
        "    def forward(self, x):\n",
        "        return self.arch(x)\n",
        "\n",
        "    def training_step(self, batch, batch_nb):\n",
        "        x, y = batch\n",
        "        y_hat = self(x)\n",
        "        y = y.view(y.shape[0])\n",
        "        loss = F.cross_entropy(y_hat, y)\n",
        "        self.train_accuracy.update(y_hat.softmax(1), y)\n",
        "        acc = self.train_accuracy.compute().data.cpu()\n",
        "\n",
        "        opt = self.optimizers()\n",
        "        opt.zero_grad()\n",
        "        self.manual_backward(loss)\n",
        "        opt.step()\n",
        "\n",
        "        self.log(\"train_loss\", loss, prog_bar=True)\n",
        "        self.log(\"train_acc\", acc, prog_bar=True)\n",
        "\n",
        "        self.train_loss_recorder.update(loss.data)\n",
        "        self.train_acc_recorder.update(acc)\n",
        "\n",
        "    def on_train_epoch_end(self):\n",
        "        self.train_loss.append(\n",
        "            self.train_loss_recorder.show().data.cpu().numpy(),\n",
        "        )\n",
        "        self.train_loss_recorder = AvgMeter()\n",
        "\n",
        "        self.train_acc.append(self.train_acc_recorder.show().data.cpu().numpy())\n",
        "        self.train_acc_recorder = AvgMeter()\n",
        "\n",
        "        sch = self.lr_schedulers()\n",
        "        sch.step()\n",
        "\n",
        "    def validation_step(self, batch, batch_nb):\n",
        "        x, y = batch\n",
        "        y_hat = self(x)\n",
        "        y = y.view(y.shape[0])\n",
        "        loss = F.cross_entropy(y_hat, y)\n",
        "\n",
        "        if self.sanity_check_counter == 0:\n",
        "            self.val_accuracy.update(y_hat.softmax(1), y)\n",
        "            acc = self.val_accuracy.compute().data.cpu()\n",
        "\n",
        "            self.log(\"val_loss\", loss, prog_bar=True)\n",
        "            self.log(\"val_acc\", acc, prog_bar=True)\n",
        "\n",
        "            self.val_loss_recorder.update(loss.data)\n",
        "            self.val_acc_recorder.update(acc)\n",
        "\n",
        "    def on_validation_epoch_end(self):\n",
        "        if self.sanity_check_counter == 0:\n",
        "            self.val_loss.append(\n",
        "                self.val_loss_recorder.show().data.cpu().numpy()\n",
        "            )\n",
        "            self.val_loss_recorder = AvgMeter()\n",
        "            acc = self.val_acc_recorder.show().data.cpu().numpy()\n",
        "            lr_now_ = self.optimizers().param_groups[0][\"lr\"]\n",
        "            if self.lr_now > lr_now_:\n",
        "                self.lr_now = lr_now_\n",
        "                report_str = f\"[{MODEL_NAME['no_aug']}] Learning Rate Changed:\"\n",
        "                report_str += f\" {lr_now_} - Epoch: {self.current_epoch}\"\n",
        "                print(report_str)\n",
        "            self.val_acc.append(acc)\n",
        "            self.val_acc_recorder = AvgMeter()\n",
        "        else:\n",
        "            self.sanity_check_counter -= 1\n",
        "\n",
        "    def test_step(self, batch, batch_nb):\n",
        "        x, y = batch\n",
        "        y_hat = self(x)\n",
        "        y = y.view(y.shape[0])\n",
        "        loss = F.cross_entropy(y_hat, y)\n",
        "        self.test_accuracy.update(y_hat.softmax(1), y)\n",
        "        self.test_accuracy_top5.update(y_hat.softmax(1), y)\n",
        "\n",
        "        self.log(\"test_loss\", loss, prog_bar=True, logger=True)\n",
        "        self.log(\n",
        "            \"test_acc_top1\",\n",
        "            self.test_accuracy.compute(),\n",
        "            prog_bar=True,\n",
        "            logger=True,\n",
        "        )\n",
        "        self.log(\n",
        "            \"test_acc_top5\",\n",
        "            self.test_accuracy_top5.compute(),\n",
        "            prog_bar=True,\n",
        "            logger=True,\n",
        "        )\n",
        "\n",
        "    def on_train_end(self):\n",
        "        # Loss\n",
        "        loss_img_file = (\n",
        "            f\"experiment/training/{MODEL_NAME['no_aug']}_loss_plot.png\"\n",
        "        )\n",
        "        plt.plot(self.train_loss, color=\"r\", label=\"train\")\n",
        "        plt.plot(self.val_loss, color=\"b\", label=\"validation\")\n",
        "        plt.title(\"Loss Curves\")\n",
        "        plt.xlabel(\"Epoch\")\n",
        "        plt.ylabel(\"Loss\")\n",
        "        plt.legend()\n",
        "        plt.grid()\n",
        "        plt.savefig(loss_img_file)\n",
        "        plt.clf()\n",
        "        img = cv2.imread(loss_img_file)\n",
        "        # cv2_imshow(img)\n",
        "        plt.imshow(img)\n",
        "        plt.axis('off')  # Turn off axis for better visualization\n",
        "        plt.show()\n",
        "\n",
        "        LOSS_HISTORY[\"no_aug\"] = self.val_loss\n",
        "\n",
        "        # Accuracy\n",
        "        acc_img_file = (\n",
        "            f\"experiment/training/{MODEL_NAME['no_aug']}_acc_plot.png\"\n",
        "        )\n",
        "        plt.plot(self.train_acc, color=\"r\", label=\"train\")\n",
        "        plt.plot(self.val_acc, color=\"b\", label=\"validation\")\n",
        "        plt.title(\"Accuracy Curves\")\n",
        "        plt.xlabel(\"Epoch\")\n",
        "        plt.ylabel(\"Accuracy\")\n",
        "        plt.legend()\n",
        "        plt.grid()\n",
        "        plt.savefig(acc_img_file)\n",
        "        plt.clf()\n",
        "        img = cv2.imread(acc_img_file)\n",
        "        # cv2_imshow(img)\n",
        "        plt.imshow(img)\n",
        "        plt.axis('off')  # Turn off axis for better visualization\n",
        "        plt.show()\n",
        "\n",
        "        ACC_HISTORY[\"no_aug\"] = self.val_acc\n",
        "\n",
        "    def train_dataloader(self):\n",
        "        return data.DataLoader(\n",
        "            dataset=TrainDataset,\n",
        "            batch_size=self.batch_size,\n",
        "            shuffle=True,\n",
        "            num_workers=4\n",
        "        )\n",
        "\n",
        "    def val_dataloader(self):\n",
        "        return data.DataLoader(\n",
        "            dataset=ValDataset,\n",
        "            batch_size=self.batch_size,\n",
        "            shuffle=False,\n",
        "        )\n",
        "\n",
        "    def test_dataloader(self):\n",
        "        return data.DataLoader(\n",
        "            dataset=TestDataset,\n",
        "            batch_size=1,\n",
        "            shuffle=False,\n",
        "        )\n",
        "\n",
        "    def configure_optimizers(self):\n",
        "        optimizer = optim.SGD(\n",
        "            self.parameters(),\n",
        "            lr=self.lr,\n",
        "            momentum=MOMENTUM,\n",
        "            weight_decay=WEIGHT_DECAY,\n",
        "            nesterov=True,\n",
        "        )\n",
        "        lr_scheduler = {\n",
        "            \"scheduler\": optim.lr_scheduler.CosineAnnealingLR(\n",
        "                optimizer,\n",
        "                self.max_epoch,\n",
        "            ),\n",
        "            \"name\": \"lr_scheduler\",\n",
        "        }\n",
        "\n",
        "        return [optimizer], [lr_scheduler]"
      ]
    },
    {
      "cell_type": "code",
      "execution_count": null,
      "metadata": {
        "id": "o0brhutvKS3I"
      },
      "outputs": [],
      "source": [
        "MODEL[\"no_aug\"] = NoAugmentation\n",
        "MODEL_NAME[\"no_aug\"] = MODEL[\"no_aug\"].__name__\n",
        "BEST_MODEL_PATH[\"no_aug\"] = os.path.join(\n",
        "    EXPERIMENT_DIR,\n",
        "    \"model\",\n",
        "    f\"{MODEL_NAME['no_aug']}_best.ckpt\",\n",
        ")"
      ]
    },
    {
      "cell_type": "code",
      "execution_count": null,
      "metadata": {
        "colab": {
          "referenced_widgets": [
            "f2727a20606d4fa1934d9a1fef049c30",
            "f1f6235dc7e34a78a02ed7ca6f85a4d0",
            "1d21f02a3147455a9bcb438c716d4919",
            "c3ef7b2dc0784cfc87a641c512e3653c",
            "1aabea66adbc4b3ca9c58c19a2644308",
            "a21a931620e64059bb95f93bbe3ec73a",
            "4b6f8cfee3b04f59ace03660879edf68",
            "0055bfdd81a44851abec12b4a4be73af",
            "0ea40e7ad3ac4138b56a69187547b3ac",
            "7f1d4634132447ada3eda7e90c94151d",
            "9d0f99bd27d74fc0bd7ba501f5ab14d2",
            "1997a0aef04944fc93fb82dc3767f007",
            "8a93413b64d44d53bcb98e28ab089fdd",
            "7d42271f031f4ea4be26a529f0f808ab",
            "9b30efafc45f4caea2862c95224ec82f",
            "a8609832c5774cc68488b19b43482629",
            "897038b350184d318795fee6f02ea47a",
            "8dd9bce7a31f46c9a996b128536a3085",
            "e5d1a3765bf544ca9407bff38b313175",
            "aabaf60589ea4897a6de56ada2bd1abe",
            "8f90549b5d9f4abba35131b9b24fde14",
            "6a8ac05332044c0d917ea225d731f8a9",
            "e7745bd8dacf41148f3806363da8413c",
            "dd91f17cf17e47ad9e584032d504cbe8",
            "0355e0adc1a744bba2a15b4810c1e08f",
            "84b0d8180af8455f937c16a1877ba652",
            "a65f6c7f9b0741cc8c61b820907c22c9",
            "324a305219ae45b1bf40d6d924442085",
            "d0cd4da752ab44e5ae965473aec29638",
            "eb94136c172c4da997c04413ec6e2cce",
            "e6545beec7eb46f9b31e7ca46903c143",
            "9bd102ac8709430cb60cf379b684020e",
            "26f574f25b6e4d95b1b6ff9edc09366d",
            "89c9550e813f4312b5d7e4c5f224837f",
            "0754ee8b2554463fb6b3db82014e67a8",
            "f6db433cb1574d06aae3bff30d5f7230",
            "d315ecf7499c4491b9d2d8d6bf1eef31",
            "af2155cc288e4ef6b87919405052178c",
            "ce7b40e9878941bf99979692e0a649da",
            "a8e5d20b7c8343699fa593391435620c",
            "8e668236c86a4aa1bdbe55c47d691662",
            "7b24afa6dbed4da39d0886baba273092",
            "d07aa337aaa541adaa3e4594deff87cb",
            "cb765f18ccab4ace939857f24e78ae8b",
            "f471d1f5779a44ed87ce45f84a7fd71d",
            "59c34a0534214e6cadcb0978d1009ba8",
            "05e9c647352343a38fb57dfc85b86fe9",
            "09dcfb6080764800ac07df69bfc6153e",
            "9dac13ffeb7d445983e45096474bd95e",
            "2fe0e090ceab4a65a49b77938eeacac4",
            "8ab53d51bf3444e39d4b0d8e290383f7",
            "258c6ecb96be45c288ee014cd494f86e",
            "b97748e2a3224ad48b29f9c23a799a34",
            "9ae0c6f24ccd4577b099e93ab444a1e1",
            "138ac30cb0b742b6a457f605dded2e49",
            "6860744a5ee14529aa05a71b2db281c8",
            "88ab3afc14a842868ffa4ad292942693",
            "fd1dcae5c95340259880b236b75a7c5b",
            "60934f819c9d43b78d4045453d24c932",
            "3309ea6ca5cd42598f5f5b9275e66b92",
            "b8042a17bca14d62990f8d23137a8493",
            "c60d39056e0c4d81a900eac26cc12578",
            "e4fe6908cae0467b82f07482b8ebac5b",
            "61452a21ef5c4b8a88a5fe708bb14a6b",
            "9e578e24c6be43b4b77df9fc5176b83a",
            "62bfd9539eb84234b2f5e9e837f7e379",
            "4f5da0d139f4457e84f49e996111001c",
            "f58c023c5cbe40afb1755a94f4bf8b8a",
            "aee9489764e24305a2805a167467e6c5",
            "f9ad4157dc4e496181d834c7552bf229",
            "39aa57ac35d844d0a45c13d32b080621",
            "4329bcf3ad274003a073e920d5db570f",
            "bf7df749d26343f4bb267eb6aaba4912",
            "be8ead2e5a564d6e976eb485fc8697b7",
            "e5bffd0af0b04cef8fc21a24c7666e23",
            "db1da8a66ac24faa8aecd427e3139a67",
            "669558b81e7b4f65881ab7afeaa9c619",
            "164b303192964711a608fa52a99ab2ac",
            "dc9e947de04349bcabc1ba1ed2ebc19a",
            "bdcfa62502ef4c0ebea99e127b1d5902",
            "9acf677b560c408da64410067c63c872",
            "cf779c1906504d869647f9e6cca90b7d",
            "e279d35fdada4ce69befe7fde20333a7",
            "2629751b6de94b19b373a7a4c8e3e1e2",
            "08b40b02bd084382b9508f3f081d28bc",
            "a7557e7d6b724b419933d71ee9f9edca",
            "8e0ee6050e774f68964b0653f5cdf8db",
            "e0518f82a9a9470c9effc37ab7d6828f",
            "e1ed5a8cba5b4840acc0caf30384f596",
            "0336a7c8837544c0aed7daa37cfa75a9",
            "bfde70acc83e41928463494f9b26edc5",
            "eb02cf09ee25431796c7a9dc3ed0970f",
            "fe02c20e04294af29db8dbc6e9cae716",
            "ec1fd4c03da64460ae42e9c7d6ad5c6b",
            "e7dbb49df25d4c66b375c8deb77d1e2a",
            "2c3104970994464596d67472aca1bd28",
            "9660e11470404d3583ead1b436e91431",
            "1352d711d6f44fb1ab67e8e5964ee869",
            "bcc5524467784f5393abbb8a06544457",
            "327a17c992d345ceb98758d8437f8fc0",
            "e9a592608a8b4f89b890c8a7377b862f",
            "01115378097a4c79abfcbc1af3fd1832",
            "9f474b26c49d426bae576321e811e104",
            "a82b3b3b8d9b4813b83bfa6f9e049ec9",
            "abbea38cebac46f6897acfc010c798b7",
            "5876d6b6a4b942c791b1628bbab05a6d",
            "9eb03465a9a440a088084afa37786118",
            "752afef9dae6420aa64bb0f1d8d583eb",
            "588d778a34d949f9877555f4a968033d",
            "38047cba861e4c3a87879010e682949a",
            "192af68d7966462cb89c0f0436706e5e",
            "0989029792964bd0a070d2290d56c6ea",
            "ca9d898ad09042a3ab498831ae16ecfb",
            "ed60508626734730be38ad411b729321",
            "0bbf56ac610a4f0ca6d02305b4e134a4",
            "1ee44c3eb5d844048905ec82a3a1648b",
            "e115e5b878704ad8a7d9647595005f81",
            "a15630dc29a64d59a10064f19f158727",
            "60dca0a313944c2b8fd86ef5f92381d5",
            "4dd68309331641e9bec17c4151413517",
            "dfeaa8cff927408989b0ae3b50e14ea7",
            "0ee1d67c95064fc38b5297433262cc77",
            "12988610cd9444d3be80dbaf20eb5e75",
            "7c5b68e1d841484fb8de61c63013ab5f",
            "f15f3694cc4942ee8b7e458707f7ec36",
            "9bb4422cd90e43de8ae066755b087b0e",
            "4447e94cc00f486d89991107e34e0bb8",
            "63eca94b36c14bc8a631b1eb0e615a8b",
            "4db01fe9c7bd48e78002c2a7d4921b07",
            "21d0b78e0e4c49389c5586e88894052f",
            "552bc50dda4c4670861c1157f7beffdd",
            "f424aad07a5a4aea850e6e2e847c0e46",
            "d9ca1e76ea9b4a8c9b5d7c6214959b08",
            "aeb1772db49a442fbbf9d4e3058babc9",
            "9626ab908e72406eb063b2051efa3f13",
            "e650b6b6891a405b8abcb95a97feea87",
            "89bf7e549ea443eab736431cf725d99e",
            "c4023602acdf4205add87184cbcff4a8",
            "f785b98d0b8d40959175a66fef5026cd",
            "2c40738918f94b1699fe167ab8444c4e",
            "1275dbe8ddf349789858a1411abaf19b",
            "97f0ceea4749460ca5845e31074aff98",
            "5b77a4154f744445952e395322cbdd98",
            "7fb514d4b7514d659a639aa3781d7b75",
            "be6e8ee07c1f45bda1cdbd43f3a33186",
            "d2da2fe4161f4d7cafd582df24af0fff",
            "423033c0fc3e4b9887efd9c3ad291b7f",
            "f90b8f9694674f6ca808b4cf26e4a1c1",
            "78ff7ebd1ac34c0787209c442e5dfcff",
            "ed619c3ef2c34d82a8919d2a2225d1ed",
            "ae6f4ac88b754c6998d544195fa6011f",
            "ecc2dce788584f9aafbf792687a4b14c",
            "a57f47d74e814df7a0e82d32da966edc",
            "a6a56a66c7c848f7b93c0397a3a438e5",
            "37ee3d88102744a8b9b23e27a354c3bf",
            "3cad1f5cee344a6b80d754980ed0fde8",
            "288d4da130ac4922ab2185bb9eca7551",
            "788bbf52dfb645e8a955a66bf1d880a3",
            "b1737597363a473fb2146a11fecbe4f4",
            "59a38c1ff913425fb5f0e011da7c8e05",
            "15e67a43145a4734bde84c13abb9acfc",
            "3f627a673cf54d11995c3b564aa25d3d",
            "3e0c2ab1b17143f8b11b89f2e71ef2a3",
            "3db0f551fd3643a9ae017439dd2c42d5",
            "a2a1d478c5664f37a8a3e4d2f11e2ee3",
            "38a2857925bd4e26ae8a248c1a28f826",
            "cc35938019134c6b8944f55e3365b5db",
            "c47e641a028f4797b2ee479ce299b096",
            "843139feab564131879c10951f37afe9",
            "053c133ac831443191e79b07a5967fce",
            "63a248027c18487b8fe3e12b0e9073d9",
            "6d111609eb654443badefb50ece75c59",
            "24eb209fdc8447b08fd93d24fdda5cd8",
            "c8ea1e269b884495a36581c53b893f51",
            "a1332c4de12f4c43ba3123d3d52997d4",
            "08aaad7a87f848899a1c087f279558fc",
            "171408059d2b4fe6921099adf29b033f",
            "58c126faed31409e92851a6ac236deb0",
            "78a19becce594baebf2062de9779a7a4",
            "39b4b0f86286420cbce05929bcdbd54c",
            "22501e78238544e5b23ebb1216a3b46b",
            "b88f5821404a45df8311abc1a34c4ddc",
            "5b153dc431224068a58e3e1236cd3040",
            "682cc1caf7df4bd5ae2f65b0d4f4fb8c",
            "7ac0d7151dcd415497d1468120f8df0d",
            "6d61033ec9244008b8e6ec24377e6477",
            "55a7b4f1a4074a579989dc69dd44f2c8",
            "3de182afdcbe4a92b20dbdda72cd5783",
            "aebe67ff09a34654a161f4acd2a156c9",
            "0326fb63f20e4b22b18173b59facb368",
            "31753c8ad80a4939b35965c947bb4a33",
            "a82fff92ba0b4ef4933658a5fa93c131",
            "e6597e63267143fe84b66abcd362ab0c",
            "9275bd6adeda413c966ebe1b8a8fd212",
            "9996e8bf135244bea2e74aca98084ec0",
            "afeb34a9edd049d591b43599cfdd52ac",
            "1a4363ac0ccd480e81856bf8bab28156",
            "45dd0f4761b3409e8080a40221586c46",
            "9f57c0fd507e4e98bfac4b8adefe2f3a",
            "04db04838d244acebc8cddb1efa05be4",
            "5b1559e3f3e8454eba0e335746601529",
            "1e4c7c7a1abf4c779c4a7178e1e8dea2",
            "4f570e5a84294989b8850530c864dc52",
            "d3f2ca5d9b3442beb4610d984802d852",
            "16ff6511bdf64634acec6736defbdab4",
            "c3fca2562a854f72ac69e9d28377e006",
            "038ff0dc253e4761bc092ada8c298a97",
            "a116c302ad644056a98006a7a79cfac7",
            "a6bf33ea99f64d7c9c1c01181dd6537e",
            "84170ea6258f4b5d8c11b49bb05ec60a",
            "5bc92030c68b4054b7b7fa39f7485e67",
            "672a3847ec8240e99f81a92d54bd3a99",
            "503b4bd53fdd4d6c959e3647f38e2818",
            "ca24a622a0c146829125a51d1e861dc7",
            "59d4739ecef545b4a67b13cdf3a419c8",
            "2567a36a80674d94872ccf6bfba1627a",
            "4f8d4a7245b445598815fccaf62d473a",
            "c7eb0d1a90eb46028046937df6de5812",
            "dacf21b31a4f4ac7aaabb6b0d512089a",
            "d4055021a18d4332b04a25674d9dd14a",
            "55f0c4b6336b446b919e4b06f0e24595",
            "807811709a8744c8866be191be86d395",
            "bd0c6cc92f76407eacd41d9f8a58cd15",
            "0f5585c757d94874a78c971bf4782d23",
            "7b0c35ffbfcd4383add545d760e2da24",
            "bb8cffa7e82449dcb2f618c5f6f42651",
            "7e20389d66b84acaba33ef355e2e7f52",
            "dcdf225f51de4e85a81f8a4ae0a93735",
            "4b4fdf8bfa2147a38a11b556d8171185",
            "473c1febef5f461d8955c24e33380778",
            "8268cdd0212e4db9bc95eae594d6a1a1",
            "7c6564256c63497ca2c8c97dcb981063",
            "bfeee60564994971846db34423390044",
            "0aef4bc9ce6d4e4b88dd82418d80cdfd",
            "677f00960d194e099c2029a6bc71004e",
            "468b60297c9144f882ee290038b2da8e",
            "9c13f72c9ce049dc9d08428dafaf458e",
            "dec0cd7408e54f00b9dd93e4375fc6dd",
            "56f2a43de74444fd83d26dd7bf49715c",
            "26faa4f532f14322ac9e70bece6ccb73",
            "72373180477d4572bf5c988556c7713c",
            "5da8b8322dd04ddfb45b79a30f7b3ae4",
            "9a4aee8bb1334bd9aa083c863ff2598e",
            "5167e278095e4e1daa5c2457f73ec6b1",
            "2d3ffa132f5e48c0bdc6441c4da25f6f",
            "3ff4a03c7a6e4cfe8d9619c26b907f9d",
            "422cd0441a41440aaf3ae34a8b58a0c4",
            "501924d613004670bfd5d1a6bb634dea",
            "c42e22834e5249d3856187cfdc46cece",
            "f251159cd6f94a4bb9268867a46d7f4c",
            "db9e66a237764003a39344bbaa84754d",
            "49ccd9f9a6df4a1d8aa14f62883fddf1",
            "3edb5618c3864b10bd260cdb49ad7998",
            "b6fe1ec4c5fb429d84d2026f353825d8",
            "cdfa9756a6714e03aa9923a9a24c6834",
            "c561c484cba246158ee5771b6be5e59a",
            "bc1e98760b604eaf82c683968c895f95",
            "dd114580483b4faeb6467b72d7761217",
            "4beb54d82cf646d385f7241597f715d6",
            "85bb89b0179a48209a6e1af42cd16622",
            "179538eb21694e7ab257070224ff608b",
            "48b3be36b58b4d8c8983e2953465fe46",
            "b7a3cf6f3bcd4eac909f288a806dd381",
            "858bd53958704235ae873def3183d75c",
            "761d96efe24647309673375946359ece",
            "19c2aa7056434d36845c37159d11bc8b",
            "00ced4e3507d441ea43a16c712101e6f",
            "7d106a675f4742ae928c1e4b0a9028ad",
            "eb12878cf3454d02b7f97317d9a61274",
            "d2735f8a2f774f74ab0b680cf9251275",
            "cb4cc27f67c8416fb95c73db6ab71a48",
            "682113b6c64b48de8e27643ba3e4d162",
            "5dcf127a155a4ff693d216a16040e829",
            "1b8d596f291548f7bc96c0add8f0211d",
            "1fc5287aee09423d8611e64bf25b0320",
            "23f173947edb4236a3232b9a55080158",
            "6efa91946cd64fa79c9b62480007c42a",
            "109d8b5511784bd2bfc8bb86bdc5340f",
            "bb491b58f7dd422eb732b872d1118306",
            "5b4853f281ee47d9a41de49370fbb67e",
            "0fb974e0a989459bb7ff6f17380af7cc",
            "4ed6ee9da509457e894b252c88274b5c",
            "f0a3b75693f74f6cb033104279ef754a",
            "c8ba3f7631fc4f798d46ce259b35b42a",
            "bce13af869514978a238ede53b49500d",
            "a211c9797c654d3d8a433bd7954f9689",
            "9d831817cae547e8886434a0780af993",
            "d94752e2a1014cd2b7eed2363e663107",
            "29b8ac348c8143cc82ae95eddf9aa94d",
            "608ed0fe07564e42b8610f89d90254f1",
            "c38abfcf453b4d2894371c5bf83cdd62",
            "ca2b1953e83a4bb3a9e21ad044143e58",
            "ce70d0164f364380835e2f5e0b59f0e8",
            "08a26e56d9e243fa8633c76f40c441bc",
            "5b4075d01c42409688e3a5b28151d14b",
            "a54e81a6cdd64107a6a9e2fce459ec0f",
            "689703892b224d8caad1b6d6d9f47967",
            "791c2ad0196343e6978adba1d407de5a",
            "9c89dfa3096445bd857429ac4b5607e1",
            "567bed738ba248ce8acb3cbd568f3ca3",
            "d761f506639e48e7a788c0cdc660b04d",
            "f6cb2042ea9d4e72bd2f107629094ef3",
            "2012ff36929b4430bfc9a0b1e829c31c",
            "69a4c5948f6446268157f440300a2bfb",
            "33414204a8c2479ba52491ce5b545143",
            "75fb59e51288492aab1ef0a066a1e009",
            "3d4ba0877adf454ebc77579a58e87040",
            "243e46445fe6439a9d0976a9164b2316",
            "148eb7db61464795bbfeeebb3accb7a9",
            "db6d7c39b2034b728deb52fccf4d9072",
            "a14c86c98e8e41428c1a75a7ece4198e",
            "f7b697b512bb43eba453f87bcba4e71c",
            "90c065cf733b4d4284d4f0032d58d060",
            "154d2cb5b663453b96225ae5083882b0",
            "398c4385d1d248499865a75f54bdeea4",
            "90dde52e15984a37877358117ad2641a",
            "1331faf61161478b9695ee24901a89c7",
            "0cecd5ba43ee435f845c2928868dd920",
            "893d1c8d65ce40279352b6974a11e1bb",
            "06029fc2067742dab41edf977132366b",
            "a132bf7b3290453d89ad1adbafbff547",
            "0ed0e95519ec4a19bbec3924475915bf",
            "c7adef917d1241c4ba55ae9e94e10493",
            "509fdcbd8e8e4810a74b4c2556c40b16",
            "42592c2d27fe4fa0ac9be9d0bd808c6e",
            "3a49d4b9530f4c2eb9d41aedfe061480",
            "04099da6fd314d6282eebb4298aa353d",
            "b4357462800543e4a0c9a8d2d09f2cfe",
            "78406dc72bea46c9beaad3db2d6a3d6c",
            "7f5b5286595c453fabacf91d4a2c3562",
            "b833a7c6916c4047ad8f5570d52ca56d",
            "e371ad38180e4998b6158f30fb0b097f",
            "c77420f028d344dd83c86fe8926b0095",
            "6900d05118364d619e665edca2ed7156",
            "8361776124734dbf8d4f8f21962e4850",
            "e5beacaf7f634099969937ff4bf46087",
            "1a2ee2e42acd42d69888182d092d8988",
            "c6408d47f2144f70a237e9f91d7add54",
            "314c2425ca63497eb2ff0252cecfacc3",
            "71584086f7264aefb1a9843b33292159",
            "5f6f5b48552e4b3f910b54143014d7f2",
            "0626945a333d4f12be9a41d814d87045",
            "0674aa5398504038b6928238507e23c8",
            "a3095bd9f0d84a7a9d7d134a826a42c1",
            "93eb04d3d427409e9435089610c01e4e",
            "894d6994798b4dc19bb90e0eb65713f1",
            "cb1e21d3dc9a46f28e61dd6b3615d863",
            "65b6240bd0a64817963b746e7254144c",
            "ce09008d0f5245dc934c2be867e7c163",
            "4f5d547677e14fae9c6d6952ae99600a",
            "2beb034dcee84ea083704d15108b1256",
            "e04019b439014f49b6673a276463c80f",
            "d9227ba68db946c3a5f3debd111b3997",
            "6b3bf6ef3e7246b8804807243aa4ec0d",
            "ce365bdf0c574b70bc206736851317fb",
            "c45d8aa27378422fa3c476fd28bc907f",
            "1c60b7bb4cc74f6393306b44f37bc032",
            "0b13f1d0d8884543be9ff1887b2decc0",
            "5676d5159d044c28ace18c25794f0922",
            "ff729ed5067f44a79c0e904fa7107827",
            "c1a8fd21cef24004ab1e3fb67348d807",
            "1b57b5efd8034e329f6f346b17d05629",
            "d9d69ff97ca3469e988310052de55a98",
            "6782cce64e4d482ea786d90f0414a7ef",
            "18f4ab2600964a66b45e52c91d226b0c",
            "3865eb775cd64c348553a10ae60e7738",
            "f02a1bf4eaff47a3baeec0edd996a2ee",
            "5476ca8c653846c892404579875e5801",
            "f8837b6c27d246e9a6ec2a9b4e462daa",
            "9187e72ad6ae470798d62fb3089a8eee",
            "87f40e4b1aa443a784a3f6dbdc8c51c2",
            "572d46f2245143a08ea99c42cf073689",
            "7b065c08a4a444ec8212d87dab7aa77c",
            "11bb91d717e24d6da7b326672a60a29c",
            "49cf4ea1fc8d48c59c60e0540cac91a7",
            "0afa48841c4d4913b06648a354091b0f",
            "6dc9984fde804448afe8dd242157d39d",
            "28419785232841c4be74d24c89523a25",
            "3026b69190b14d518a232443a25d3175",
            "ad722c7fb1eb4407a7a2c694bf5c6cbf",
            "30ecf07992ae4cc38cd2c6f5bb904f62",
            "1293ea271b4f43c791f931071331a3c5",
            "33059b96c6b04ff9a2994931948d3d41",
            "934c534d985a4a8d88aaf826bc90843f",
            "4135ab20b1124e1e929a19c91229fa8b",
            "7f7972ec18ec4682b39392677a5b5bfe",
            "b6a45c392d0140b6a1557635ee33259c",
            "283e32c6351642858b6ceeb3138d0152",
            "5d9c2076fc74468ebf6d21d1b43f8d30",
            "0aecafd66e5043b6a45657351e019ff5",
            "f1f25ce338cc484d83ce067cdc80006f",
            "934d08b722fb4978a5532238f5dc8473",
            "e00b27217b1642afa1b6edf942967590",
            "3ceebdf4021144c4abd36f67ee247189",
            "4a9da00dc4d546e6a3107afeaeea43e8",
            "9ea879a483f648ab9f071d8565762f83",
            "2b8c4194d7f644f8bbe0e50d51d189fa",
            "150d7f2494bf4b7c87d30bc85bfd4a03",
            "e59f8823389840579330e937503e33b1",
            "6e0f3d9d3f2247f19ff96948b1b62b7d",
            "83248450fa4841218c422cebcf3395ab",
            "9a81763e00894b1c84f7211853198caf",
            "49e1b0b45e6a4bcba2797117059697bc",
            "3e0c06e88f9b456da2c67cbbad24e6ea",
            "711c1aa7548e46ea96e0cbeb58e2eb34",
            "ddafb17240974e0da34e4990f8e04ea0",
            "3dd8142116d34f49ba371517cae3585f",
            "32f7c7bd080349148cfbf0473d5a408a",
            "bf988b6ea2b34899b755ac1ed715bb4a",
            "776eea2588bf40be85454b5431fa5f7c",
            "9a322b710dbc4bd49da9d7424adfa0a0",
            "8825bde7e0264a19bb53a89b6307cf92",
            "2dc9f432c0564c6b89ef57898d5451ab",
            "89a7a426e55b4580a28ab8c638b9a2fb",
            "3c0c69642db04b54acc2ee8c08736ad5",
            "f3ec00bb4b72489886c0ef36d6fe24f5",
            "88c61ff796724dffb76d309786ce02ae",
            "5016f88ca09748048373260483247322",
            "e0ab9301825a4a9f8cbad68409e6b725",
            "5fd6089b47a94f959b4a1482012a031c",
            "9bbbc93a2c164971bc9ac07c55810e3a",
            "8dffa00d50a54ca3b65354a53fa68e96",
            "f0addc44330647858a0ba479e160f2d9",
            "169606306be54bc2a4241649b1734504",
            "48e006fddd0f452b93693929da96e393",
            "fe14fb1796c04ea88a3999e73d02e5c2",
            "b0b12ae2b3614f4fbed8d707cdab487e",
            "35ac0a9dcff949b595eb38e92dbfc50e",
            "cf6cb8f08c6145dc93e49033cd2c78b0",
            "ad6cc1a34b714f369bb61b371060220b",
            "8a9c156396c74beeab7d1dd725251761",
            "0a59d7f8198d44b4a1c17d3eb89d4cba",
            "cfe62e0d1c274bbbb947e5b37f6b874e",
            "bb45b58b6d1a44d2bf69a9273b3190cd",
            "e56c86ec25e24df18297f0051195c002",
            "13d976ba3b444c158a82c08e2e53fc2e",
            "2415395468884a1789de842519ad7b63",
            "f61ffc75c1a544d3b449b2c6d0e78e7c",
            "fad971697cb2437097f561f1814d2c4e",
            "f224e0f4e17644c78fb486c0af81ebe3",
            "7cbcea32d61941ed89000af061d1ca5a",
            "c28401ac856744b6a3394660aa345de0",
            "ce85c8dc807e4cc19be2c52092a43e42",
            "0a51a7a1ee354cd9b7d4898981673d48",
            "7783e6ee184641de852f5a6dbb24ce0a",
            "2d86fdfd9e184b308bf1781bb6df6679",
            "171988ce275a4eae9ed36e5761f68824",
            "2399b81671254346ab7e978cfed8defb",
            "969859216e234cde8c0fdf16acdc8755",
            "6da63652410a43a0a05c0361e197c31a",
            "aae667e7c8b149db8f611d6e1876c099",
            "58ea4538ac3d46a9b2f6db93b181ecbe",
            "29125ed02dbc477c949ea0ddbaa628f5",
            "ccc79f8d0f354a3b9673cf07a5cebe17",
            "1179c35a89da43c1965413a0025b6fa6",
            "546ab9ca4a9a49f0b0fb0576e234fb9c",
            "6fdb2014df9143d69a5b0c7447854713",
            "4e664f6edc19451197a72dea45bc6b64",
            "5c161b6ebd20460488c023e6b616284f",
            "4373b70f410b49278dd67f6532139001",
            "cc8024fa78a7416c95b3ab7a493ac66b",
            "19eb2c7b2a374a07b4b780d4c4fc332d",
            "35cf9dff884243a4b245f2a6b212a11e",
            "01dc1bdbcf5249c9a881057de43cea3c",
            "5893e2dc1e2043628124a35935a01ee2",
            "b3e52ea8871f4e52a0a21fb56f03ba80",
            "aebc1300c4734a7388e71c4a754cd8fd",
            "5a80203c0b1b4b5ab2712a7151c2aa8c",
            "0a072675323842f8b1c35ae2ca73e8a0",
            "19093abdae2445f08430c9c58f2d11e5",
            "b754b28e33c0413f9861b5d1202294a7",
            "a0bc6a18968d4512803f92b01422c4d0",
            "1d8af9a5b9194c648c5f4fff341c5a2a",
            "03a6f17d439042af846444d50871437d",
            "f2b6c5ce5ed04293a7631a2c307ec3c8",
            "d6e1262ace6f42ecbff447c72d3637d9",
            "286dfa492ecc4d6f98f50e194c737b87",
            "d0bc501382994368be7b8a2ead586584",
            "ffc85abe16ef43b7bdf2d5d3ae4474dd",
            "15e8e502ccbf46e7a4000ba113717d2d",
            "7eaeae23aa6b44e28a88d13176b8a859",
            "98e33ff6217346149e729e667550b5e7",
            "9a3d53bc179e48a381e411cdcdfcfefc",
            "00fe51079e77413785e18adab57e2b00",
            "04f2eba72f3f4da2b45584f6d50fb686",
            "7dc3e14dd0324077976622190c99e2bc",
            "67313c0fd01d495aba3006d96078d9f5",
            "8e8f09a1946c4cb2a935f099566eef0d",
            "9a3301df4bcd4c99af492a7b8d2f0fa1",
            "aa93fe6d37b3447c85b1405ce9380b22",
            "3629865d85004592bfcef7397dc38b24",
            "4908477d795749eebf921178be75aa34",
            "b8691f951db54a8493685805e4de3272",
            "3f4ab9fb6c5e47d0b5cd95e0971866a4",
            "d2f9a53fe2274be18d5ffc562eeb53e1",
            "71a7b67a708d45b4b18b46d244269c78",
            "43af4e18f28e4fe3b6097fad8a42ca83",
            "7bac0032df8c4dd9ac7818474e522fdb",
            "abcbf2426ceb4de081b35a6187590cdb",
            "0169933b48ad4512bdd661cfecb708a1",
            "01a9c4ab63f54923b45aa175e1a9be53",
            "0c8085abb82c478e96f6399e91358bf8"
          ]
        },
        "id": "WCgq6wVOv-UO",
        "outputId": "9f6d1e6b-871e-44f2-b815-8a0afd41b17e"
      },
      "outputs": [
        {
          "name": "stderr",
          "output_type": "stream",
          "text": [
            "Global seed set to 1253769668\n"
          ]
        },
        {
          "name": "stdout",
          "output_type": "stream",
          "text": [
            "NoAugmentation\n"
          ]
        },
        {
          "name": "stderr",
          "output_type": "stream",
          "text": [
            "GPU available: True (cuda), used: True\n",
            "TPU available: False, using: 0 TPU cores\n",
            "IPU available: False, using: 0 IPUs\n",
            "HPU available: False, using: 0 HPUs\n"
          ]
        },
        {
          "name": "stdout",
          "output_type": "stream",
          "text": [
            "Using downloaded and verified file: experiment/model/swin_t-704ceda3.pth\n"
          ]
        },
        {
          "name": "stderr",
          "output_type": "stream",
          "text": [
            "LOCAL_RANK: 0 - CUDA_VISIBLE_DEVICES: [0,1,2,3]\n",
            "\n",
            "  | Name               | Type               | Params\n",
            "----------------------------------------------------------\n",
            "0 | arch               | SwinTransformer    | 27.7 M\n",
            "1 | train_accuracy     | MulticlassAccuracy | 0     \n",
            "2 | val_accuracy       | MulticlassAccuracy | 0     \n",
            "3 | test_accuracy      | MulticlassAccuracy | 0     \n",
            "4 | test_accuracy_top5 | MulticlassAccuracy | 0     \n",
            "----------------------------------------------------------\n",
            "27.7 M    Trainable params\n",
            "0         Non-trainable params\n",
            "27.7 M    Total params\n",
            "110.865   Total estimated model params size (MB)\n"
          ]
        },
        {
          "data": {
            "application/vnd.jupyter.widget-view+json": {
              "model_id": "f2727a20606d4fa1934d9a1fef049c30",
              "version_major": 2,
              "version_minor": 0
            },
            "text/plain": [
              "Sanity Checking: 0it [00:00, ?it/s]"
            ]
          },
          "metadata": {},
          "output_type": "display_data"
        },
        {
          "data": {
            "application/vnd.jupyter.widget-view+json": {
              "model_id": "f1f6235dc7e34a78a02ed7ca6f85a4d0",
              "version_major": 2,
              "version_minor": 0
            },
            "text/plain": [
              "Training: 0it [00:00, ?it/s]"
            ]
          },
          "metadata": {},
          "output_type": "display_data"
        },
        {
          "data": {
            "application/vnd.jupyter.widget-view+json": {
              "model_id": "1d21f02a3147455a9bcb438c716d4919",
              "version_major": 2,
              "version_minor": 0
            },
            "text/plain": [
              "Validation: 0it [00:00, ?it/s]"
            ]
          },
          "metadata": {},
          "output_type": "display_data"
        },
        {
          "name": "stdout",
          "output_type": "stream",
          "text": [
            "[NoAugmentation] Learning Rate Changed: 0.001 - Epoch: 0\n"
          ]
        },
        {
          "data": {
            "application/vnd.jupyter.widget-view+json": {
              "model_id": "c3ef7b2dc0784cfc87a641c512e3653c",
              "version_major": 2,
              "version_minor": 0
            },
            "text/plain": [
              "Validation: 0it [00:00, ?it/s]"
            ]
          },
          "metadata": {},
          "output_type": "display_data"
        },
        {
          "name": "stdout",
          "output_type": "stream",
          "text": [
            "[NoAugmentation] Learning Rate Changed: 0.0009997532801828658 - Epoch: 1\n"
          ]
        },
        {
          "data": {
            "application/vnd.jupyter.widget-view+json": {
              "model_id": "1aabea66adbc4b3ca9c58c19a2644308",
              "version_major": 2,
              "version_minor": 0
            },
            "text/plain": [
              "Validation: 0it [00:00, ?it/s]"
            ]
          },
          "metadata": {},
          "output_type": "display_data"
        },
        {
          "name": "stdout",
          "output_type": "stream",
          "text": [
            "[NoAugmentation] Learning Rate Changed: 0.0009990133642141358 - Epoch: 2\n"
          ]
        },
        {
          "data": {
            "application/vnd.jupyter.widget-view+json": {
              "model_id": "a21a931620e64059bb95f93bbe3ec73a",
              "version_major": 2,
              "version_minor": 0
            },
            "text/plain": [
              "Validation: 0it [00:00, ?it/s]"
            ]
          },
          "metadata": {},
          "output_type": "display_data"
        },
        {
          "name": "stdout",
          "output_type": "stream",
          "text": [
            "[NoAugmentation] Learning Rate Changed: 0.00099778098230154 - Epoch: 3\n"
          ]
        },
        {
          "data": {
            "application/vnd.jupyter.widget-view+json": {
              "model_id": "4b6f8cfee3b04f59ace03660879edf68",
              "version_major": 2,
              "version_minor": 0
            },
            "text/plain": [
              "Validation: 0it [00:00, ?it/s]"
            ]
          },
          "metadata": {},
          "output_type": "display_data"
        },
        {
          "name": "stdout",
          "output_type": "stream",
          "text": [
            "[NoAugmentation] Learning Rate Changed: 0.000996057350657239 - Epoch: 4\n"
          ]
        },
        {
          "data": {
            "application/vnd.jupyter.widget-view+json": {
              "model_id": "0055bfdd81a44851abec12b4a4be73af",
              "version_major": 2,
              "version_minor": 0
            },
            "text/plain": [
              "Validation: 0it [00:00, ?it/s]"
            ]
          },
          "metadata": {},
          "output_type": "display_data"
        },
        {
          "name": "stdout",
          "output_type": "stream",
          "text": [
            "[NoAugmentation] Learning Rate Changed: 0.0009938441702975688 - Epoch: 5\n"
          ]
        },
        {
          "data": {
            "application/vnd.jupyter.widget-view+json": {
              "model_id": "0ea40e7ad3ac4138b56a69187547b3ac",
              "version_major": 2,
              "version_minor": 0
            },
            "text/plain": [
              "Validation: 0it [00:00, ?it/s]"
            ]
          },
          "metadata": {},
          "output_type": "display_data"
        },
        {
          "name": "stdout",
          "output_type": "stream",
          "text": [
            "[NoAugmentation] Learning Rate Changed: 0.0009911436253643444 - Epoch: 6\n"
          ]
        },
        {
          "data": {
            "application/vnd.jupyter.widget-view+json": {
              "model_id": "7f1d4634132447ada3eda7e90c94151d",
              "version_major": 2,
              "version_minor": 0
            },
            "text/plain": [
              "Validation: 0it [00:00, ?it/s]"
            ]
          },
          "metadata": {},
          "output_type": "display_data"
        },
        {
          "name": "stdout",
          "output_type": "stream",
          "text": [
            "[NoAugmentation] Learning Rate Changed: 0.0009879583809693736 - Epoch: 7\n"
          ]
        },
        {
          "data": {
            "application/vnd.jupyter.widget-view+json": {
              "model_id": "9d0f99bd27d74fc0bd7ba501f5ab14d2",
              "version_major": 2,
              "version_minor": 0
            },
            "text/plain": [
              "Validation: 0it [00:00, ?it/s]"
            ]
          },
          "metadata": {},
          "output_type": "display_data"
        },
        {
          "name": "stdout",
          "output_type": "stream",
          "text": [
            "[NoAugmentation] Learning Rate Changed: 0.0009842915805643154 - Epoch: 8\n"
          ]
        },
        {
          "data": {
            "application/vnd.jupyter.widget-view+json": {
              "model_id": "1997a0aef04944fc93fb82dc3767f007",
              "version_major": 2,
              "version_minor": 0
            },
            "text/plain": [
              "Validation: 0it [00:00, ?it/s]"
            ]
          },
          "metadata": {},
          "output_type": "display_data"
        },
        {
          "name": "stdout",
          "output_type": "stream",
          "text": [
            "[NoAugmentation] Learning Rate Changed: 0.0009801468428384714 - Epoch: 9\n"
          ]
        },
        {
          "data": {
            "application/vnd.jupyter.widget-view+json": {
              "model_id": "8a93413b64d44d53bcb98e28ab089fdd",
              "version_major": 2,
              "version_minor": 0
            },
            "text/plain": [
              "Validation: 0it [00:00, ?it/s]"
            ]
          },
          "metadata": {},
          "output_type": "display_data"
        },
        {
          "name": "stdout",
          "output_type": "stream",
          "text": [
            "[NoAugmentation] Learning Rate Changed: 0.0009755282581475767 - Epoch: 10\n"
          ]
        },
        {
          "data": {
            "application/vnd.jupyter.widget-view+json": {
              "model_id": "7d42271f031f4ea4be26a529f0f808ab",
              "version_major": 2,
              "version_minor": 0
            },
            "text/plain": [
              "Validation: 0it [00:00, ?it/s]"
            ]
          },
          "metadata": {},
          "output_type": "display_data"
        },
        {
          "name": "stdout",
          "output_type": "stream",
          "text": [
            "[NoAugmentation] Learning Rate Changed: 0.0009704403844771127 - Epoch: 11\n"
          ]
        },
        {
          "data": {
            "application/vnd.jupyter.widget-view+json": {
              "model_id": "9b30efafc45f4caea2862c95224ec82f",
              "version_major": 2,
              "version_minor": 0
            },
            "text/plain": [
              "Validation: 0it [00:00, ?it/s]"
            ]
          },
          "metadata": {},
          "output_type": "display_data"
        },
        {
          "name": "stdout",
          "output_type": "stream",
          "text": [
            "[NoAugmentation] Learning Rate Changed: 0.0009648882429441257 - Epoch: 12\n"
          ]
        },
        {
          "data": {
            "application/vnd.jupyter.widget-view+json": {
              "model_id": "a8609832c5774cc68488b19b43482629",
              "version_major": 2,
              "version_minor": 0
            },
            "text/plain": [
              "Validation: 0it [00:00, ?it/s]"
            ]
          },
          "metadata": {},
          "output_type": "display_data"
        },
        {
          "name": "stdout",
          "output_type": "stream",
          "text": [
            "[NoAugmentation] Learning Rate Changed: 0.0009588773128419905 - Epoch: 13\n"
          ]
        },
        {
          "data": {
            "application/vnd.jupyter.widget-view+json": {
              "model_id": "897038b350184d318795fee6f02ea47a",
              "version_major": 2,
              "version_minor": 0
            },
            "text/plain": [
              "Validation: 0it [00:00, ?it/s]"
            ]
          },
          "metadata": {},
          "output_type": "display_data"
        },
        {
          "name": "stdout",
          "output_type": "stream",
          "text": [
            "[NoAugmentation] Learning Rate Changed: 0.0009524135262330098 - Epoch: 14\n"
          ]
        },
        {
          "data": {
            "application/vnd.jupyter.widget-view+json": {
              "model_id": "8dd9bce7a31f46c9a996b128536a3085",
              "version_major": 2,
              "version_minor": 0
            },
            "text/plain": [
              "Validation: 0it [00:00, ?it/s]"
            ]
          },
          "metadata": {},
          "output_type": "display_data"
        },
        {
          "name": "stdout",
          "output_type": "stream",
          "text": [
            "[NoAugmentation] Learning Rate Changed: 0.0009455032620941839 - Epoch: 15\n"
          ]
        },
        {
          "data": {
            "application/vnd.jupyter.widget-view+json": {
              "model_id": "e5d1a3765bf544ca9407bff38b313175",
              "version_major": 2,
              "version_minor": 0
            },
            "text/plain": [
              "Validation: 0it [00:00, ?it/s]"
            ]
          },
          "metadata": {},
          "output_type": "display_data"
        },
        {
          "name": "stdout",
          "output_type": "stream",
          "text": [
            "[NoAugmentation] Learning Rate Changed: 0.0009381533400219318 - Epoch: 16\n"
          ]
        },
        {
          "data": {
            "application/vnd.jupyter.widget-view+json": {
              "model_id": "aabaf60589ea4897a6de56ada2bd1abe",
              "version_major": 2,
              "version_minor": 0
            },
            "text/plain": [
              "Validation: 0it [00:00, ?it/s]"
            ]
          },
          "metadata": {},
          "output_type": "display_data"
        },
        {
          "name": "stdout",
          "output_type": "stream",
          "text": [
            "[NoAugmentation] Learning Rate Changed: 0.0009303710135019719 - Epoch: 17\n"
          ]
        },
        {
          "data": {
            "application/vnd.jupyter.widget-view+json": {
              "model_id": "8f90549b5d9f4abba35131b9b24fde14",
              "version_major": 2,
              "version_minor": 0
            },
            "text/plain": [
              "Validation: 0it [00:00, ?it/s]"
            ]
          },
          "metadata": {},
          "output_type": "display_data"
        },
        {
          "name": "stdout",
          "output_type": "stream",
          "text": [
            "[NoAugmentation] Learning Rate Changed: 0.0009221639627510076 - Epoch: 18\n"
          ]
        },
        {
          "data": {
            "application/vnd.jupyter.widget-view+json": {
              "model_id": "6a8ac05332044c0d917ea225d731f8a9",
              "version_major": 2,
              "version_minor": 0
            },
            "text/plain": [
              "Validation: 0it [00:00, ?it/s]"
            ]
          },
          "metadata": {},
          "output_type": "display_data"
        },
        {
          "name": "stdout",
          "output_type": "stream",
          "text": [
            "[NoAugmentation] Learning Rate Changed: 0.000913540287137281 - Epoch: 19\n"
          ]
        },
        {
          "data": {
            "application/vnd.jupyter.widget-view+json": {
              "model_id": "e7745bd8dacf41148f3806363da8413c",
              "version_major": 2,
              "version_minor": 0
            },
            "text/plain": [
              "Validation: 0it [00:00, ?it/s]"
            ]
          },
          "metadata": {},
          "output_type": "display_data"
        },
        {
          "name": "stdout",
          "output_type": "stream",
          "text": [
            "[NoAugmentation] Learning Rate Changed: 0.0009045084971874739 - Epoch: 20\n"
          ]
        },
        {
          "data": {
            "application/vnd.jupyter.widget-view+json": {
              "model_id": "dd91f17cf17e47ad9e584032d504cbe8",
              "version_major": 2,
              "version_minor": 0
            },
            "text/plain": [
              "Validation: 0it [00:00, ?it/s]"
            ]
          },
          "metadata": {},
          "output_type": "display_data"
        },
        {
          "name": "stdout",
          "output_type": "stream",
          "text": [
            "[NoAugmentation] Learning Rate Changed: 0.0008950775061878452 - Epoch: 21\n"
          ]
        },
        {
          "data": {
            "application/vnd.jupyter.widget-view+json": {
              "model_id": "0355e0adc1a744bba2a15b4810c1e08f",
              "version_major": 2,
              "version_minor": 0
            },
            "text/plain": [
              "Validation: 0it [00:00, ?it/s]"
            ]
          },
          "metadata": {},
          "output_type": "display_data"
        },
        {
          "name": "stdout",
          "output_type": "stream",
          "text": [
            "[NoAugmentation] Learning Rate Changed: 0.0008852566213878947 - Epoch: 22\n"
          ]
        },
        {
          "data": {
            "application/vnd.jupyter.widget-view+json": {
              "model_id": "84b0d8180af8455f937c16a1877ba652",
              "version_major": 2,
              "version_minor": 0
            },
            "text/plain": [
              "Validation: 0it [00:00, ?it/s]"
            ]
          },
          "metadata": {},
          "output_type": "display_data"
        },
        {
          "name": "stdout",
          "output_type": "stream",
          "text": [
            "[NoAugmentation] Learning Rate Changed: 0.0008750555348152298 - Epoch: 23\n"
          ]
        },
        {
          "data": {
            "application/vnd.jupyter.widget-view+json": {
              "model_id": "a65f6c7f9b0741cc8c61b820907c22c9",
              "version_major": 2,
              "version_minor": 0
            },
            "text/plain": [
              "Validation: 0it [00:00, ?it/s]"
            ]
          },
          "metadata": {},
          "output_type": "display_data"
        },
        {
          "name": "stdout",
          "output_type": "stream",
          "text": [
            "[NoAugmentation] Learning Rate Changed: 0.0008644843137107057 - Epoch: 24\n"
          ]
        },
        {
          "data": {
            "application/vnd.jupyter.widget-view+json": {
              "model_id": "324a305219ae45b1bf40d6d924442085",
              "version_major": 2,
              "version_minor": 0
            },
            "text/plain": [
              "Validation: 0it [00:00, ?it/s]"
            ]
          },
          "metadata": {},
          "output_type": "display_data"
        },
        {
          "name": "stdout",
          "output_type": "stream",
          "text": [
            "[NoAugmentation] Learning Rate Changed: 0.0008535533905932737 - Epoch: 25\n"
          ]
        },
        {
          "data": {
            "application/vnd.jupyter.widget-view+json": {
              "model_id": "d0cd4da752ab44e5ae965473aec29638",
              "version_major": 2,
              "version_minor": 0
            },
            "text/plain": [
              "Validation: 0it [00:00, ?it/s]"
            ]
          },
          "metadata": {},
          "output_type": "display_data"
        },
        {
          "name": "stdout",
          "output_type": "stream",
          "text": [
            "[NoAugmentation] Learning Rate Changed: 0.0008422735529643444 - Epoch: 26\n"
          ]
        },
        {
          "data": {
            "application/vnd.jupyter.widget-view+json": {
              "model_id": "eb94136c172c4da997c04413ec6e2cce",
              "version_major": 2,
              "version_minor": 0
            },
            "text/plain": [
              "Validation: 0it [00:00, ?it/s]"
            ]
          },
          "metadata": {},
          "output_type": "display_data"
        },
        {
          "name": "stdout",
          "output_type": "stream",
          "text": [
            "[NoAugmentation] Learning Rate Changed: 0.0008306559326618259 - Epoch: 27\n"
          ]
        },
        {
          "data": {
            "application/vnd.jupyter.widget-view+json": {
              "model_id": "e6545beec7eb46f9b31e7ca46903c143",
              "version_major": 2,
              "version_minor": 0
            },
            "text/plain": [
              "Validation: 0it [00:00, ?it/s]"
            ]
          },
          "metadata": {},
          "output_type": "display_data"
        },
        {
          "name": "stdout",
          "output_type": "stream",
          "text": [
            "[NoAugmentation] Learning Rate Changed: 0.0008187119948743449 - Epoch: 28\n"
          ]
        },
        {
          "data": {
            "application/vnd.jupyter.widget-view+json": {
              "model_id": "9bd102ac8709430cb60cf379b684020e",
              "version_major": 2,
              "version_minor": 0
            },
            "text/plain": [
              "Validation: 0it [00:00, ?it/s]"
            ]
          },
          "metadata": {},
          "output_type": "display_data"
        },
        {
          "name": "stdout",
          "output_type": "stream",
          "text": [
            "[NoAugmentation] Learning Rate Changed: 0.0008064535268264883 - Epoch: 29\n"
          ]
        },
        {
          "data": {
            "application/vnd.jupyter.widget-view+json": {
              "model_id": "26f574f25b6e4d95b1b6ff9edc09366d",
              "version_major": 2,
              "version_minor": 0
            },
            "text/plain": [
              "Validation: 0it [00:00, ?it/s]"
            ]
          },
          "metadata": {},
          "output_type": "display_data"
        },
        {
          "name": "stdout",
          "output_type": "stream",
          "text": [
            "[NoAugmentation] Learning Rate Changed: 0.0007938926261462367 - Epoch: 30\n"
          ]
        },
        {
          "data": {
            "application/vnd.jupyter.widget-view+json": {
              "model_id": "89c9550e813f4312b5d7e4c5f224837f",
              "version_major": 2,
              "version_minor": 0
            },
            "text/plain": [
              "Validation: 0it [00:00, ?it/s]"
            ]
          },
          "metadata": {},
          "output_type": "display_data"
        },
        {
          "name": "stdout",
          "output_type": "stream",
          "text": [
            "[NoAugmentation] Learning Rate Changed: 0.0007810416889260654 - Epoch: 31\n"
          ]
        },
        {
          "data": {
            "application/vnd.jupyter.widget-view+json": {
              "model_id": "0754ee8b2554463fb6b3db82014e67a8",
              "version_major": 2,
              "version_minor": 0
            },
            "text/plain": [
              "Validation: 0it [00:00, ?it/s]"
            ]
          },
          "metadata": {},
          "output_type": "display_data"
        },
        {
          "name": "stdout",
          "output_type": "stream",
          "text": [
            "[NoAugmentation] Learning Rate Changed: 0.0007679133974894983 - Epoch: 32\n"
          ]
        },
        {
          "data": {
            "application/vnd.jupyter.widget-view+json": {
              "model_id": "f6db433cb1574d06aae3bff30d5f7230",
              "version_major": 2,
              "version_minor": 0
            },
            "text/plain": [
              "Validation: 0it [00:00, ?it/s]"
            ]
          },
          "metadata": {},
          "output_type": "display_data"
        },
        {
          "name": "stdout",
          "output_type": "stream",
          "text": [
            "[NoAugmentation] Learning Rate Changed: 0.0007545207078751857 - Epoch: 33\n"
          ]
        },
        {
          "data": {
            "application/vnd.jupyter.widget-view+json": {
              "model_id": "d315ecf7499c4491b9d2d8d6bf1eef31",
              "version_major": 2,
              "version_minor": 0
            },
            "text/plain": [
              "Validation: 0it [00:00, ?it/s]"
            ]
          },
          "metadata": {},
          "output_type": "display_data"
        },
        {
          "name": "stdout",
          "output_type": "stream",
          "text": [
            "[NoAugmentation] Learning Rate Changed: 0.0007408768370508577 - Epoch: 34\n"
          ]
        },
        {
          "data": {
            "application/vnd.jupyter.widget-view+json": {
              "model_id": "af2155cc288e4ef6b87919405052178c",
              "version_major": 2,
              "version_minor": 0
            },
            "text/plain": [
              "Validation: 0it [00:00, ?it/s]"
            ]
          },
          "metadata": {},
          "output_type": "display_data"
        },
        {
          "name": "stdout",
          "output_type": "stream",
          "text": [
            "[NoAugmentation] Learning Rate Changed: 0.0007269952498697734 - Epoch: 35\n"
          ]
        },
        {
          "data": {
            "application/vnd.jupyter.widget-view+json": {
              "model_id": "ce7b40e9878941bf99979692e0a649da",
              "version_major": 2,
              "version_minor": 0
            },
            "text/plain": [
              "Validation: 0it [00:00, ?it/s]"
            ]
          },
          "metadata": {},
          "output_type": "display_data"
        },
        {
          "name": "stdout",
          "output_type": "stream",
          "text": [
            "[NoAugmentation] Learning Rate Changed: 0.0007128896457825364 - Epoch: 36\n"
          ]
        },
        {
          "data": {
            "application/vnd.jupyter.widget-view+json": {
              "model_id": "a8e5d20b7c8343699fa593391435620c",
              "version_major": 2,
              "version_minor": 0
            },
            "text/plain": [
              "Validation: 0it [00:00, ?it/s]"
            ]
          },
          "metadata": {},
          "output_type": "display_data"
        },
        {
          "name": "stdout",
          "output_type": "stream",
          "text": [
            "[NoAugmentation] Learning Rate Changed: 0.0006985739453173903 - Epoch: 37\n"
          ]
        },
        {
          "data": {
            "application/vnd.jupyter.widget-view+json": {
              "model_id": "8e668236c86a4aa1bdbe55c47d691662",
              "version_major": 2,
              "version_minor": 0
            },
            "text/plain": [
              "Validation: 0it [00:00, ?it/s]"
            ]
          },
          "metadata": {},
          "output_type": "display_data"
        },
        {
          "name": "stdout",
          "output_type": "stream",
          "text": [
            "[NoAugmentation] Learning Rate Changed: 0.0006840622763423391 - Epoch: 38\n"
          ]
        },
        {
          "data": {
            "application/vnd.jupyter.widget-view+json": {
              "model_id": "7b24afa6dbed4da39d0886baba273092",
              "version_major": 2,
              "version_minor": 0
            },
            "text/plain": [
              "Validation: 0it [00:00, ?it/s]"
            ]
          },
          "metadata": {},
          "output_type": "display_data"
        },
        {
          "name": "stdout",
          "output_type": "stream",
          "text": [
            "[NoAugmentation] Learning Rate Changed: 0.0006693689601226458 - Epoch: 39\n"
          ]
        },
        {
          "data": {
            "application/vnd.jupyter.widget-view+json": {
              "model_id": "d07aa337aaa541adaa3e4594deff87cb",
              "version_major": 2,
              "version_minor": 0
            },
            "text/plain": [
              "Validation: 0it [00:00, ?it/s]"
            ]
          },
          "metadata": {},
          "output_type": "display_data"
        },
        {
          "name": "stdout",
          "output_type": "stream",
          "text": [
            "[NoAugmentation] Learning Rate Changed: 0.0006545084971874737 - Epoch: 40\n"
          ]
        },
        {
          "data": {
            "application/vnd.jupyter.widget-view+json": {
              "model_id": "cb765f18ccab4ace939857f24e78ae8b",
              "version_major": 2,
              "version_minor": 0
            },
            "text/plain": [
              "Validation: 0it [00:00, ?it/s]"
            ]
          },
          "metadata": {},
          "output_type": "display_data"
        },
        {
          "name": "stdout",
          "output_type": "stream",
          "text": [
            "[NoAugmentation] Learning Rate Changed: 0.0006394955530196147 - Epoch: 41\n"
          ]
        },
        {
          "data": {
            "application/vnd.jupyter.widget-view+json": {
              "model_id": "f471d1f5779a44ed87ce45f84a7fd71d",
              "version_major": 2,
              "version_minor": 0
            },
            "text/plain": [
              "Validation: 0it [00:00, ?it/s]"
            ]
          },
          "metadata": {},
          "output_type": "display_data"
        },
        {
          "name": "stdout",
          "output_type": "stream",
          "text": [
            "[NoAugmentation] Learning Rate Changed: 0.0006243449435824273 - Epoch: 42\n"
          ]
        },
        {
          "data": {
            "application/vnd.jupyter.widget-view+json": {
              "model_id": "59c34a0534214e6cadcb0978d1009ba8",
              "version_major": 2,
              "version_minor": 0
            },
            "text/plain": [
              "Validation: 0it [00:00, ?it/s]"
            ]
          },
          "metadata": {},
          "output_type": "display_data"
        },
        {
          "name": "stdout",
          "output_type": "stream",
          "text": [
            "[NoAugmentation] Learning Rate Changed: 0.0006090716206982714 - Epoch: 43\n"
          ]
        },
        {
          "data": {
            "application/vnd.jupyter.widget-view+json": {
              "model_id": "05e9c647352343a38fb57dfc85b86fe9",
              "version_major": 2,
              "version_minor": 0
            },
            "text/plain": [
              "Validation: 0it [00:00, ?it/s]"
            ]
          },
          "metadata": {},
          "output_type": "display_data"
        },
        {
          "name": "stdout",
          "output_type": "stream",
          "text": [
            "[NoAugmentation] Learning Rate Changed: 0.0005936906572928625 - Epoch: 44\n"
          ]
        },
        {
          "data": {
            "application/vnd.jupyter.widget-view+json": {
              "model_id": "09dcfb6080764800ac07df69bfc6153e",
              "version_major": 2,
              "version_minor": 0
            },
            "text/plain": [
              "Validation: 0it [00:00, ?it/s]"
            ]
          },
          "metadata": {},
          "output_type": "display_data"
        },
        {
          "name": "stdout",
          "output_type": "stream",
          "text": [
            "[NoAugmentation] Learning Rate Changed: 0.0005782172325201156 - Epoch: 45\n"
          ]
        },
        {
          "data": {
            "application/vnd.jupyter.widget-view+json": {
              "model_id": "9dac13ffeb7d445983e45096474bd95e",
              "version_major": 2,
              "version_minor": 0
            },
            "text/plain": [
              "Validation: 0it [00:00, ?it/s]"
            ]
          },
          "metadata": {},
          "output_type": "display_data"
        },
        {
          "name": "stdout",
          "output_type": "stream",
          "text": [
            "[NoAugmentation] Learning Rate Changed: 0.0005626666167821523 - Epoch: 46\n"
          ]
        },
        {
          "data": {
            "application/vnd.jupyter.widget-view+json": {
              "model_id": "2fe0e090ceab4a65a49b77938eeacac4",
              "version_major": 2,
              "version_minor": 0
            },
            "text/plain": [
              "Validation: 0it [00:00, ?it/s]"
            ]
          },
          "metadata": {},
          "output_type": "display_data"
        },
        {
          "name": "stdout",
          "output_type": "stream",
          "text": [
            "[NoAugmentation] Learning Rate Changed: 0.0005470541566592572 - Epoch: 47\n"
          ]
        },
        {
          "data": {
            "application/vnd.jupyter.widget-view+json": {
              "model_id": "8ab53d51bf3444e39d4b0d8e290383f7",
              "version_major": 2,
              "version_minor": 0
            },
            "text/plain": [
              "Validation: 0it [00:00, ?it/s]"
            ]
          },
          "metadata": {},
          "output_type": "display_data"
        },
        {
          "name": "stdout",
          "output_type": "stream",
          "text": [
            "[NoAugmentation] Learning Rate Changed: 0.0005313952597646569 - Epoch: 48\n"
          ]
        },
        {
          "data": {
            "application/vnd.jupyter.widget-view+json": {
              "model_id": "258c6ecb96be45c288ee014cd494f86e",
              "version_major": 2,
              "version_minor": 0
            },
            "text/plain": [
              "Validation: 0it [00:00, ?it/s]"
            ]
          },
          "metadata": {},
          "output_type": "display_data"
        },
        {
          "name": "stdout",
          "output_type": "stream",
          "text": [
            "[NoAugmentation] Learning Rate Changed: 0.0005157053795390643 - Epoch: 49\n"
          ]
        },
        {
          "data": {
            "application/vnd.jupyter.widget-view+json": {
              "model_id": "b97748e2a3224ad48b29f9c23a799a34",
              "version_major": 2,
              "version_minor": 0
            },
            "text/plain": [
              "Validation: 0it [00:00, ?it/s]"
            ]
          },
          "metadata": {},
          "output_type": "display_data"
        },
        {
          "name": "stdout",
          "output_type": "stream",
          "text": [
            "[NoAugmentation] Learning Rate Changed: 0.0005000000000000002 - Epoch: 50\n"
          ]
        },
        {
          "data": {
            "application/vnd.jupyter.widget-view+json": {
              "model_id": "9ae0c6f24ccd4577b099e93ab444a1e1",
              "version_major": 2,
              "version_minor": 0
            },
            "text/plain": [
              "Validation: 0it [00:00, ?it/s]"
            ]
          },
          "metadata": {},
          "output_type": "display_data"
        },
        {
          "name": "stdout",
          "output_type": "stream",
          "text": [
            "[NoAugmentation] Learning Rate Changed: 0.00048429462046093607 - Epoch: 51\n"
          ]
        },
        {
          "data": {
            "application/vnd.jupyter.widget-view+json": {
              "model_id": "138ac30cb0b742b6a457f605dded2e49",
              "version_major": 2,
              "version_minor": 0
            },
            "text/plain": [
              "Validation: 0it [00:00, ?it/s]"
            ]
          },
          "metadata": {},
          "output_type": "display_data"
        },
        {
          "name": "stdout",
          "output_type": "stream",
          "text": [
            "[NoAugmentation] Learning Rate Changed: 0.0004686047402353435 - Epoch: 52\n"
          ]
        },
        {
          "data": {
            "application/vnd.jupyter.widget-view+json": {
              "model_id": "6860744a5ee14529aa05a71b2db281c8",
              "version_major": 2,
              "version_minor": 0
            },
            "text/plain": [
              "Validation: 0it [00:00, ?it/s]"
            ]
          },
          "metadata": {},
          "output_type": "display_data"
        },
        {
          "name": "stdout",
          "output_type": "stream",
          "text": [
            "[NoAugmentation] Learning Rate Changed: 0.000452945843340743 - Epoch: 53\n"
          ]
        },
        {
          "data": {
            "application/vnd.jupyter.widget-view+json": {
              "model_id": "88ab3afc14a842868ffa4ad292942693",
              "version_major": 2,
              "version_minor": 0
            },
            "text/plain": [
              "Validation: 0it [00:00, ?it/s]"
            ]
          },
          "metadata": {},
          "output_type": "display_data"
        },
        {
          "name": "stdout",
          "output_type": "stream",
          "text": [
            "[NoAugmentation] Learning Rate Changed: 0.00043733338321784806 - Epoch: 54\n"
          ]
        },
        {
          "data": {
            "application/vnd.jupyter.widget-view+json": {
              "model_id": "fd1dcae5c95340259880b236b75a7c5b",
              "version_major": 2,
              "version_minor": 0
            },
            "text/plain": [
              "Validation: 0it [00:00, ?it/s]"
            ]
          },
          "metadata": {},
          "output_type": "display_data"
        },
        {
          "name": "stdout",
          "output_type": "stream",
          "text": [
            "[NoAugmentation] Learning Rate Changed: 0.0004217827674798847 - Epoch: 55\n"
          ]
        },
        {
          "data": {
            "application/vnd.jupyter.widget-view+json": {
              "model_id": "60934f819c9d43b78d4045453d24c932",
              "version_major": 2,
              "version_minor": 0
            },
            "text/plain": [
              "Validation: 0it [00:00, ?it/s]"
            ]
          },
          "metadata": {},
          "output_type": "display_data"
        },
        {
          "name": "stdout",
          "output_type": "stream",
          "text": [
            "[NoAugmentation] Learning Rate Changed: 0.00040630934270713783 - Epoch: 56\n"
          ]
        },
        {
          "data": {
            "application/vnd.jupyter.widget-view+json": {
              "model_id": "3309ea6ca5cd42598f5f5b9275e66b92",
              "version_major": 2,
              "version_minor": 0
            },
            "text/plain": [
              "Validation: 0it [00:00, ?it/s]"
            ]
          },
          "metadata": {},
          "output_type": "display_data"
        },
        {
          "name": "stdout",
          "output_type": "stream",
          "text": [
            "[NoAugmentation] Learning Rate Changed: 0.000390928379301729 - Epoch: 57\n"
          ]
        },
        {
          "data": {
            "application/vnd.jupyter.widget-view+json": {
              "model_id": "b8042a17bca14d62990f8d23137a8493",
              "version_major": 2,
              "version_minor": 0
            },
            "text/plain": [
              "Validation: 0it [00:00, ?it/s]"
            ]
          },
          "metadata": {},
          "output_type": "display_data"
        },
        {
          "name": "stdout",
          "output_type": "stream",
          "text": [
            "[NoAugmentation] Learning Rate Changed: 0.0003756550564175727 - Epoch: 58\n"
          ]
        },
        {
          "data": {
            "application/vnd.jupyter.widget-view+json": {
              "model_id": "c60d39056e0c4d81a900eac26cc12578",
              "version_major": 2,
              "version_minor": 0
            },
            "text/plain": [
              "Validation: 0it [00:00, ?it/s]"
            ]
          },
          "metadata": {},
          "output_type": "display_data"
        },
        {
          "name": "stdout",
          "output_type": "stream",
          "text": [
            "[NoAugmentation] Learning Rate Changed: 0.00036050444698038553 - Epoch: 59\n"
          ]
        },
        {
          "data": {
            "application/vnd.jupyter.widget-view+json": {
              "model_id": "e4fe6908cae0467b82f07482b8ebac5b",
              "version_major": 2,
              "version_minor": 0
            },
            "text/plain": [
              "Validation: 0it [00:00, ?it/s]"
            ]
          },
          "metadata": {},
          "output_type": "display_data"
        },
        {
          "name": "stdout",
          "output_type": "stream",
          "text": [
            "[NoAugmentation] Learning Rate Changed: 0.00034549150281252655 - Epoch: 60\n"
          ]
        },
        {
          "data": {
            "application/vnd.jupyter.widget-view+json": {
              "model_id": "61452a21ef5c4b8a88a5fe708bb14a6b",
              "version_major": 2,
              "version_minor": 0
            },
            "text/plain": [
              "Validation: 0it [00:00, ?it/s]"
            ]
          },
          "metadata": {},
          "output_type": "display_data"
        },
        {
          "name": "stdout",
          "output_type": "stream",
          "text": [
            "[NoAugmentation] Learning Rate Changed: 0.0003306310398773544 - Epoch: 61\n"
          ]
        },
        {
          "data": {
            "application/vnd.jupyter.widget-view+json": {
              "model_id": "9e578e24c6be43b4b77df9fc5176b83a",
              "version_major": 2,
              "version_minor": 0
            },
            "text/plain": [
              "Validation: 0it [00:00, ?it/s]"
            ]
          },
          "metadata": {},
          "output_type": "display_data"
        },
        {
          "name": "stdout",
          "output_type": "stream",
          "text": [
            "[NoAugmentation] Learning Rate Changed: 0.00031593772365766127 - Epoch: 62\n"
          ]
        },
        {
          "data": {
            "application/vnd.jupyter.widget-view+json": {
              "model_id": "62bfd9539eb84234b2f5e9e837f7e379",
              "version_major": 2,
              "version_minor": 0
            },
            "text/plain": [
              "Validation: 0it [00:00, ?it/s]"
            ]
          },
          "metadata": {},
          "output_type": "display_data"
        },
        {
          "name": "stdout",
          "output_type": "stream",
          "text": [
            "[NoAugmentation] Learning Rate Changed: 0.0003014260546826097 - Epoch: 63\n"
          ]
        },
        {
          "data": {
            "application/vnd.jupyter.widget-view+json": {
              "model_id": "4f5da0d139f4457e84f49e996111001c",
              "version_major": 2,
              "version_minor": 0
            },
            "text/plain": [
              "Validation: 0it [00:00, ?it/s]"
            ]
          },
          "metadata": {},
          "output_type": "display_data"
        },
        {
          "name": "stdout",
          "output_type": "stream",
          "text": [
            "[NoAugmentation] Learning Rate Changed: 0.0002871103542174637 - Epoch: 64\n"
          ]
        },
        {
          "data": {
            "application/vnd.jupyter.widget-view+json": {
              "model_id": "f58c023c5cbe40afb1755a94f4bf8b8a",
              "version_major": 2,
              "version_minor": 0
            },
            "text/plain": [
              "Validation: 0it [00:00, ?it/s]"
            ]
          },
          "metadata": {},
          "output_type": "display_data"
        },
        {
          "name": "stdout",
          "output_type": "stream",
          "text": [
            "[NoAugmentation] Learning Rate Changed: 0.0002730047501302267 - Epoch: 65\n"
          ]
        },
        {
          "data": {
            "application/vnd.jupyter.widget-view+json": {
              "model_id": "aee9489764e24305a2805a167467e6c5",
              "version_major": 2,
              "version_minor": 0
            },
            "text/plain": [
              "Validation: 0it [00:00, ?it/s]"
            ]
          },
          "metadata": {},
          "output_type": "display_data"
        },
        {
          "name": "stdout",
          "output_type": "stream",
          "text": [
            "[NoAugmentation] Learning Rate Changed: 0.00025912316294914234 - Epoch: 66\n"
          ]
        },
        {
          "data": {
            "application/vnd.jupyter.widget-view+json": {
              "model_id": "f9ad4157dc4e496181d834c7552bf229",
              "version_major": 2,
              "version_minor": 0
            },
            "text/plain": [
              "Validation: 0it [00:00, ?it/s]"
            ]
          },
          "metadata": {},
          "output_type": "display_data"
        },
        {
          "name": "stdout",
          "output_type": "stream",
          "text": [
            "[NoAugmentation] Learning Rate Changed: 0.0002454792921248144 - Epoch: 67\n"
          ]
        },
        {
          "data": {
            "application/vnd.jupyter.widget-view+json": {
              "model_id": "39aa57ac35d844d0a45c13d32b080621",
              "version_major": 2,
              "version_minor": 0
            },
            "text/plain": [
              "Validation: 0it [00:00, ?it/s]"
            ]
          },
          "metadata": {},
          "output_type": "display_data"
        },
        {
          "name": "stdout",
          "output_type": "stream",
          "text": [
            "[NoAugmentation] Learning Rate Changed: 0.00023208660251050164 - Epoch: 68\n"
          ]
        },
        {
          "data": {
            "application/vnd.jupyter.widget-view+json": {
              "model_id": "4329bcf3ad274003a073e920d5db570f",
              "version_major": 2,
              "version_minor": 0
            },
            "text/plain": [
              "Validation: 0it [00:00, ?it/s]"
            ]
          },
          "metadata": {},
          "output_type": "display_data"
        },
        {
          "name": "stdout",
          "output_type": "stream",
          "text": [
            "[NoAugmentation] Learning Rate Changed: 0.00021895831107393473 - Epoch: 69\n"
          ]
        },
        {
          "data": {
            "application/vnd.jupyter.widget-view+json": {
              "model_id": "bf7df749d26343f4bb267eb6aaba4912",
              "version_major": 2,
              "version_minor": 0
            },
            "text/plain": [
              "Validation: 0it [00:00, ?it/s]"
            ]
          },
          "metadata": {},
          "output_type": "display_data"
        },
        {
          "name": "stdout",
          "output_type": "stream",
          "text": [
            "[NoAugmentation] Learning Rate Changed: 0.00020610737385376356 - Epoch: 70\n"
          ]
        },
        {
          "data": {
            "application/vnd.jupyter.widget-view+json": {
              "model_id": "be8ead2e5a564d6e976eb485fc8697b7",
              "version_major": 2,
              "version_minor": 0
            },
            "text/plain": [
              "Validation: 0it [00:00, ?it/s]"
            ]
          },
          "metadata": {},
          "output_type": "display_data"
        },
        {
          "name": "stdout",
          "output_type": "stream",
          "text": [
            "[NoAugmentation] Learning Rate Changed: 0.00019354647317351177 - Epoch: 71\n"
          ]
        },
        {
          "data": {
            "application/vnd.jupyter.widget-view+json": {
              "model_id": "e5bffd0af0b04cef8fc21a24c7666e23",
              "version_major": 2,
              "version_minor": 0
            },
            "text/plain": [
              "Validation: 0it [00:00, ?it/s]"
            ]
          },
          "metadata": {},
          "output_type": "display_data"
        },
        {
          "name": "stdout",
          "output_type": "stream",
          "text": [
            "[NoAugmentation] Learning Rate Changed: 0.0001812880051256552 - Epoch: 72\n"
          ]
        },
        {
          "data": {
            "application/vnd.jupyter.widget-view+json": {
              "model_id": "db1da8a66ac24faa8aecd427e3139a67",
              "version_major": 2,
              "version_minor": 0
            },
            "text/plain": [
              "Validation: 0it [00:00, ?it/s]"
            ]
          },
          "metadata": {},
          "output_type": "display_data"
        },
        {
          "name": "stdout",
          "output_type": "stream",
          "text": [
            "[NoAugmentation] Learning Rate Changed: 0.00016934406733817422 - Epoch: 73\n"
          ]
        },
        {
          "data": {
            "application/vnd.jupyter.widget-view+json": {
              "model_id": "669558b81e7b4f65881ab7afeaa9c619",
              "version_major": 2,
              "version_minor": 0
            },
            "text/plain": [
              "Validation: 0it [00:00, ?it/s]"
            ]
          },
          "metadata": {},
          "output_type": "display_data"
        },
        {
          "name": "stdout",
          "output_type": "stream",
          "text": [
            "[NoAugmentation] Learning Rate Changed: 0.0001577264470356557 - Epoch: 74\n"
          ]
        },
        {
          "data": {
            "application/vnd.jupyter.widget-view+json": {
              "model_id": "164b303192964711a608fa52a99ab2ac",
              "version_major": 2,
              "version_minor": 0
            },
            "text/plain": [
              "Validation: 0it [00:00, ?it/s]"
            ]
          },
          "metadata": {},
          "output_type": "display_data"
        },
        {
          "name": "stdout",
          "output_type": "stream",
          "text": [
            "[NoAugmentation] Learning Rate Changed: 0.00014644660940672634 - Epoch: 75\n"
          ]
        },
        {
          "data": {
            "application/vnd.jupyter.widget-view+json": {
              "model_id": "dc9e947de04349bcabc1ba1ed2ebc19a",
              "version_major": 2,
              "version_minor": 0
            },
            "text/plain": [
              "Validation: 0it [00:00, ?it/s]"
            ]
          },
          "metadata": {},
          "output_type": "display_data"
        },
        {
          "name": "stdout",
          "output_type": "stream",
          "text": [
            "[NoAugmentation] Learning Rate Changed: 0.0001355156862892944 - Epoch: 76\n"
          ]
        },
        {
          "data": {
            "application/vnd.jupyter.widget-view+json": {
              "model_id": "bdcfa62502ef4c0ebea99e127b1d5902",
              "version_major": 2,
              "version_minor": 0
            },
            "text/plain": [
              "Validation: 0it [00:00, ?it/s]"
            ]
          },
          "metadata": {},
          "output_type": "display_data"
        },
        {
          "name": "stdout",
          "output_type": "stream",
          "text": [
            "[NoAugmentation] Learning Rate Changed: 0.00012494446518477025 - Epoch: 77\n"
          ]
        },
        {
          "data": {
            "application/vnd.jupyter.widget-view+json": {
              "model_id": "9acf677b560c408da64410067c63c872",
              "version_major": 2,
              "version_minor": 0
            },
            "text/plain": [
              "Validation: 0it [00:00, ?it/s]"
            ]
          },
          "metadata": {},
          "output_type": "display_data"
        },
        {
          "name": "stdout",
          "output_type": "stream",
          "text": [
            "[NoAugmentation] Learning Rate Changed: 0.00011474337861210548 - Epoch: 78\n"
          ]
        },
        {
          "data": {
            "application/vnd.jupyter.widget-view+json": {
              "model_id": "cf779c1906504d869647f9e6cca90b7d",
              "version_major": 2,
              "version_minor": 0
            },
            "text/plain": [
              "Validation: 0it [00:00, ?it/s]"
            ]
          },
          "metadata": {},
          "output_type": "display_data"
        },
        {
          "name": "stdout",
          "output_type": "stream",
          "text": [
            "[NoAugmentation] Learning Rate Changed: 0.00010492249381215483 - Epoch: 79\n"
          ]
        },
        {
          "data": {
            "application/vnd.jupyter.widget-view+json": {
              "model_id": "e279d35fdada4ce69befe7fde20333a7",
              "version_major": 2,
              "version_minor": 0
            },
            "text/plain": [
              "Validation: 0it [00:00, ?it/s]"
            ]
          },
          "metadata": {},
          "output_type": "display_data"
        },
        {
          "name": "stdout",
          "output_type": "stream",
          "text": [
            "[NoAugmentation] Learning Rate Changed: 9.549150281252637e-05 - Epoch: 80\n"
          ]
        },
        {
          "data": {
            "application/vnd.jupyter.widget-view+json": {
              "model_id": "2629751b6de94b19b373a7a4c8e3e1e2",
              "version_major": 2,
              "version_minor": 0
            },
            "text/plain": [
              "Validation: 0it [00:00, ?it/s]"
            ]
          },
          "metadata": {},
          "output_type": "display_data"
        },
        {
          "name": "stdout",
          "output_type": "stream",
          "text": [
            "[NoAugmentation] Learning Rate Changed: 8.645971286271918e-05 - Epoch: 81\n"
          ]
        },
        {
          "data": {
            "application/vnd.jupyter.widget-view+json": {
              "model_id": "08b40b02bd084382b9508f3f081d28bc",
              "version_major": 2,
              "version_minor": 0
            },
            "text/plain": [
              "Validation: 0it [00:00, ?it/s]"
            ]
          },
          "metadata": {},
          "output_type": "display_data"
        },
        {
          "name": "stdout",
          "output_type": "stream",
          "text": [
            "[NoAugmentation] Learning Rate Changed: 7.78360372489926e-05 - Epoch: 82\n"
          ]
        },
        {
          "data": {
            "application/vnd.jupyter.widget-view+json": {
              "model_id": "a7557e7d6b724b419933d71ee9f9edca",
              "version_major": 2,
              "version_minor": 0
            },
            "text/plain": [
              "Validation: 0it [00:00, ?it/s]"
            ]
          },
          "metadata": {},
          "output_type": "display_data"
        },
        {
          "name": "stdout",
          "output_type": "stream",
          "text": [
            "[NoAugmentation] Learning Rate Changed: 6.962898649802815e-05 - Epoch: 83\n"
          ]
        },
        {
          "data": {
            "application/vnd.jupyter.widget-view+json": {
              "model_id": "8e0ee6050e774f68964b0653f5cdf8db",
              "version_major": 2,
              "version_minor": 0
            },
            "text/plain": [
              "Validation: 0it [00:00, ?it/s]"
            ]
          },
          "metadata": {},
          "output_type": "display_data"
        },
        {
          "name": "stdout",
          "output_type": "stream",
          "text": [
            "[NoAugmentation] Learning Rate Changed: 6.184665997806824e-05 - Epoch: 84\n"
          ]
        },
        {
          "data": {
            "application/vnd.jupyter.widget-view+json": {
              "model_id": "e0518f82a9a9470c9effc37ab7d6828f",
              "version_major": 2,
              "version_minor": 0
            },
            "text/plain": [
              "Validation: 0it [00:00, ?it/s]"
            ]
          },
          "metadata": {},
          "output_type": "display_data"
        },
        {
          "name": "stdout",
          "output_type": "stream",
          "text": [
            "[NoAugmentation] Learning Rate Changed: 5.449673790581613e-05 - Epoch: 85\n"
          ]
        },
        {
          "data": {
            "application/vnd.jupyter.widget-view+json": {
              "model_id": "e1ed5a8cba5b4840acc0caf30384f596",
              "version_major": 2,
              "version_minor": 0
            },
            "text/plain": [
              "Validation: 0it [00:00, ?it/s]"
            ]
          },
          "metadata": {},
          "output_type": "display_data"
        },
        {
          "name": "stdout",
          "output_type": "stream",
          "text": [
            "[NoAugmentation] Learning Rate Changed: 4.758647376699034e-05 - Epoch: 86\n"
          ]
        },
        {
          "data": {
            "application/vnd.jupyter.widget-view+json": {
              "model_id": "0336a7c8837544c0aed7daa37cfa75a9",
              "version_major": 2,
              "version_minor": 0
            },
            "text/plain": [
              "Validation: 0it [00:00, ?it/s]"
            ]
          },
          "metadata": {},
          "output_type": "display_data"
        },
        {
          "name": "stdout",
          "output_type": "stream",
          "text": [
            "[NoAugmentation] Learning Rate Changed: 4.112268715800956e-05 - Epoch: 87\n"
          ]
        },
        {
          "data": {
            "application/vnd.jupyter.widget-view+json": {
              "model_id": "bfde70acc83e41928463494f9b26edc5",
              "version_major": 2,
              "version_minor": 0
            },
            "text/plain": [
              "Validation: 0it [00:00, ?it/s]"
            ]
          },
          "metadata": {},
          "output_type": "display_data"
        },
        {
          "name": "stdout",
          "output_type": "stream",
          "text": [
            "[NoAugmentation] Learning Rate Changed: 3.511175705587434e-05 - Epoch: 88\n"
          ]
        },
        {
          "data": {
            "application/vnd.jupyter.widget-view+json": {
              "model_id": "eb02cf09ee25431796c7a9dc3ed0970f",
              "version_major": 2,
              "version_minor": 0
            },
            "text/plain": [
              "Validation: 0it [00:00, ?it/s]"
            ]
          },
          "metadata": {},
          "output_type": "display_data"
        },
        {
          "name": "stdout",
          "output_type": "stream",
          "text": [
            "[NoAugmentation] Learning Rate Changed: 2.9559615522887284e-05 - Epoch: 89\n"
          ]
        },
        {
          "data": {
            "application/vnd.jupyter.widget-view+json": {
              "model_id": "fe02c20e04294af29db8dbc6e9cae716",
              "version_major": 2,
              "version_minor": 0
            },
            "text/plain": [
              "Validation: 0it [00:00, ?it/s]"
            ]
          },
          "metadata": {},
          "output_type": "display_data"
        },
        {
          "name": "stdout",
          "output_type": "stream",
          "text": [
            "[NoAugmentation] Learning Rate Changed: 2.447174185242324e-05 - Epoch: 90\n"
          ]
        },
        {
          "data": {
            "application/vnd.jupyter.widget-view+json": {
              "model_id": "ec1fd4c03da64460ae42e9c7d6ad5c6b",
              "version_major": 2,
              "version_minor": 0
            },
            "text/plain": [
              "Validation: 0it [00:00, ?it/s]"
            ]
          },
          "metadata": {},
          "output_type": "display_data"
        },
        {
          "name": "stdout",
          "output_type": "stream",
          "text": [
            "[NoAugmentation] Learning Rate Changed: 1.9853157161528526e-05 - Epoch: 91\n"
          ]
        },
        {
          "data": {
            "application/vnd.jupyter.widget-view+json": {
              "model_id": "e7dbb49df25d4c66b375c8deb77d1e2a",
              "version_major": 2,
              "version_minor": 0
            },
            "text/plain": [
              "Validation: 0it [00:00, ?it/s]"
            ]
          },
          "metadata": {},
          "output_type": "display_data"
        },
        {
          "name": "stdout",
          "output_type": "stream",
          "text": [
            "[NoAugmentation] Learning Rate Changed: 1.570841943568452e-05 - Epoch: 92\n"
          ]
        },
        {
          "data": {
            "application/vnd.jupyter.widget-view+json": {
              "model_id": "2c3104970994464596d67472aca1bd28",
              "version_major": 2,
              "version_minor": 0
            },
            "text/plain": [
              "Validation: 0it [00:00, ?it/s]"
            ]
          },
          "metadata": {},
          "output_type": "display_data"
        },
        {
          "name": "stdout",
          "output_type": "stream",
          "text": [
            "[NoAugmentation] Learning Rate Changed: 1.204161903062634e-05 - Epoch: 93\n"
          ]
        },
        {
          "data": {
            "application/vnd.jupyter.widget-view+json": {
              "model_id": "9660e11470404d3583ead1b436e91431",
              "version_major": 2,
              "version_minor": 0
            },
            "text/plain": [
              "Validation: 0it [00:00, ?it/s]"
            ]
          },
          "metadata": {},
          "output_type": "display_data"
        },
        {
          "name": "stdout",
          "output_type": "stream",
          "text": [
            "[NoAugmentation] Learning Rate Changed: 8.85637463565564e-06 - Epoch: 94\n"
          ]
        },
        {
          "data": {
            "application/vnd.jupyter.widget-view+json": {
              "model_id": "1352d711d6f44fb1ab67e8e5964ee869",
              "version_major": 2,
              "version_minor": 0
            },
            "text/plain": [
              "Validation: 0it [00:00, ?it/s]"
            ]
          },
          "metadata": {},
          "output_type": "display_data"
        },
        {
          "name": "stdout",
          "output_type": "stream",
          "text": [
            "[NoAugmentation] Learning Rate Changed: 6.155829702431171e-06 - Epoch: 95\n"
          ]
        },
        {
          "data": {
            "application/vnd.jupyter.widget-view+json": {
              "model_id": "bcc5524467784f5393abbb8a06544457",
              "version_major": 2,
              "version_minor": 0
            },
            "text/plain": [
              "Validation: 0it [00:00, ?it/s]"
            ]
          },
          "metadata": {},
          "output_type": "display_data"
        },
        {
          "name": "stdout",
          "output_type": "stream",
          "text": [
            "[NoAugmentation] Learning Rate Changed: 3.942649342761118e-06 - Epoch: 96\n"
          ]
        },
        {
          "data": {
            "application/vnd.jupyter.widget-view+json": {
              "model_id": "327a17c992d345ceb98758d8437f8fc0",
              "version_major": 2,
              "version_minor": 0
            },
            "text/plain": [
              "Validation: 0it [00:00, ?it/s]"
            ]
          },
          "metadata": {},
          "output_type": "display_data"
        },
        {
          "name": "stdout",
          "output_type": "stream",
          "text": [
            "[NoAugmentation] Learning Rate Changed: 2.2190176984600023e-06 - Epoch: 97\n"
          ]
        },
        {
          "data": {
            "application/vnd.jupyter.widget-view+json": {
              "model_id": "e9a592608a8b4f89b890c8a7377b862f",
              "version_major": 2,
              "version_minor": 0
            },
            "text/plain": [
              "Validation: 0it [00:00, ?it/s]"
            ]
          },
          "metadata": {},
          "output_type": "display_data"
        },
        {
          "name": "stdout",
          "output_type": "stream",
          "text": [
            "[NoAugmentation] Learning Rate Changed: 9.866357858642206e-07 - Epoch: 98\n"
          ]
        },
        {
          "data": {
            "application/vnd.jupyter.widget-view+json": {
              "model_id": "01115378097a4c79abfcbc1af3fd1832",
              "version_major": 2,
              "version_minor": 0
            },
            "text/plain": [
              "Validation: 0it [00:00, ?it/s]"
            ]
          },
          "metadata": {},
          "output_type": "display_data"
        },
        {
          "name": "stdout",
          "output_type": "stream",
          "text": [
            "[NoAugmentation] Learning Rate Changed: 2.467198171342e-07 - Epoch: 99\n"
          ]
        },
        {
          "data": {
            "application/vnd.jupyter.widget-view+json": {
              "model_id": "9f474b26c49d426bae576321e811e104",
              "version_major": 2,
              "version_minor": 0
            },
            "text/plain": [
              "Validation: 0it [00:00, ?it/s]"
            ]
          },
          "metadata": {},
          "output_type": "display_data"
        },
        {
          "name": "stdout",
          "output_type": "stream",
          "text": [
            "[NoAugmentation] Learning Rate Changed: 0.0 - Epoch: 100\n"
          ]
        },
        {
          "data": {
            "application/vnd.jupyter.widget-view+json": {
              "model_id": "a82b3b3b8d9b4813b83bfa6f9e049ec9",
              "version_major": 2,
              "version_minor": 0
            },
            "text/plain": [
              "Validation: 0it [00:00, ?it/s]"
            ]
          },
          "metadata": {},
          "output_type": "display_data"
        },
        {
          "data": {
            "application/vnd.jupyter.widget-view+json": {
              "model_id": "abbea38cebac46f6897acfc010c798b7",
              "version_major": 2,
              "version_minor": 0
            },
            "text/plain": [
              "Validation: 0it [00:00, ?it/s]"
            ]
          },
          "metadata": {},
          "output_type": "display_data"
        },
        {
          "data": {
            "application/vnd.jupyter.widget-view+json": {
              "model_id": "5876d6b6a4b942c791b1628bbab05a6d",
              "version_major": 2,
              "version_minor": 0
            },
            "text/plain": [
              "Validation: 0it [00:00, ?it/s]"
            ]
          },
          "metadata": {},
          "output_type": "display_data"
        },
        {
          "data": {
            "application/vnd.jupyter.widget-view+json": {
              "model_id": "9eb03465a9a440a088084afa37786118",
              "version_major": 2,
              "version_minor": 0
            },
            "text/plain": [
              "Validation: 0it [00:00, ?it/s]"
            ]
          },
          "metadata": {},
          "output_type": "display_data"
        },
        {
          "data": {
            "application/vnd.jupyter.widget-view+json": {
              "model_id": "752afef9dae6420aa64bb0f1d8d583eb",
              "version_major": 2,
              "version_minor": 0
            },
            "text/plain": [
              "Validation: 0it [00:00, ?it/s]"
            ]
          },
          "metadata": {},
          "output_type": "display_data"
        },
        {
          "data": {
            "application/vnd.jupyter.widget-view+json": {
              "model_id": "588d778a34d949f9877555f4a968033d",
              "version_major": 2,
              "version_minor": 0
            },
            "text/plain": [
              "Validation: 0it [00:00, ?it/s]"
            ]
          },
          "metadata": {},
          "output_type": "display_data"
        },
        {
          "data": {
            "application/vnd.jupyter.widget-view+json": {
              "model_id": "38047cba861e4c3a87879010e682949a",
              "version_major": 2,
              "version_minor": 0
            },
            "text/plain": [
              "Validation: 0it [00:00, ?it/s]"
            ]
          },
          "metadata": {},
          "output_type": "display_data"
        },
        {
          "data": {
            "application/vnd.jupyter.widget-view+json": {
              "model_id": "192af68d7966462cb89c0f0436706e5e",
              "version_major": 2,
              "version_minor": 0
            },
            "text/plain": [
              "Validation: 0it [00:00, ?it/s]"
            ]
          },
          "metadata": {},
          "output_type": "display_data"
        },
        {
          "data": {
            "application/vnd.jupyter.widget-view+json": {
              "model_id": "0989029792964bd0a070d2290d56c6ea",
              "version_major": 2,
              "version_minor": 0
            },
            "text/plain": [
              "Validation: 0it [00:00, ?it/s]"
            ]
          },
          "metadata": {},
          "output_type": "display_data"
        },
        {
          "data": {
            "application/vnd.jupyter.widget-view+json": {
              "model_id": "ca9d898ad09042a3ab498831ae16ecfb",
              "version_major": 2,
              "version_minor": 0
            },
            "text/plain": [
              "Validation: 0it [00:00, ?it/s]"
            ]
          },
          "metadata": {},
          "output_type": "display_data"
        },
        {
          "data": {
            "application/vnd.jupyter.widget-view+json": {
              "model_id": "ed60508626734730be38ad411b729321",
              "version_major": 2,
              "version_minor": 0
            },
            "text/plain": [
              "Validation: 0it [00:00, ?it/s]"
            ]
          },
          "metadata": {},
          "output_type": "display_data"
        },
        {
          "data": {
            "application/vnd.jupyter.widget-view+json": {
              "model_id": "0bbf56ac610a4f0ca6d02305b4e134a4",
              "version_major": 2,
              "version_minor": 0
            },
            "text/plain": [
              "Validation: 0it [00:00, ?it/s]"
            ]
          },
          "metadata": {},
          "output_type": "display_data"
        },
        {
          "data": {
            "application/vnd.jupyter.widget-view+json": {
              "model_id": "1ee44c3eb5d844048905ec82a3a1648b",
              "version_major": 2,
              "version_minor": 0
            },
            "text/plain": [
              "Validation: 0it [00:00, ?it/s]"
            ]
          },
          "metadata": {},
          "output_type": "display_data"
        },
        {
          "data": {
            "application/vnd.jupyter.widget-view+json": {
              "model_id": "e115e5b878704ad8a7d9647595005f81",
              "version_major": 2,
              "version_minor": 0
            },
            "text/plain": [
              "Validation: 0it [00:00, ?it/s]"
            ]
          },
          "metadata": {},
          "output_type": "display_data"
        },
        {
          "data": {
            "application/vnd.jupyter.widget-view+json": {
              "model_id": "a15630dc29a64d59a10064f19f158727",
              "version_major": 2,
              "version_minor": 0
            },
            "text/plain": [
              "Validation: 0it [00:00, ?it/s]"
            ]
          },
          "metadata": {},
          "output_type": "display_data"
        },
        {
          "data": {
            "application/vnd.jupyter.widget-view+json": {
              "model_id": "60dca0a313944c2b8fd86ef5f92381d5",
              "version_major": 2,
              "version_minor": 0
            },
            "text/plain": [
              "Validation: 0it [00:00, ?it/s]"
            ]
          },
          "metadata": {},
          "output_type": "display_data"
        },
        {
          "data": {
            "application/vnd.jupyter.widget-view+json": {
              "model_id": "4dd68309331641e9bec17c4151413517",
              "version_major": 2,
              "version_minor": 0
            },
            "text/plain": [
              "Validation: 0it [00:00, ?it/s]"
            ]
          },
          "metadata": {},
          "output_type": "display_data"
        },
        {
          "data": {
            "application/vnd.jupyter.widget-view+json": {
              "model_id": "dfeaa8cff927408989b0ae3b50e14ea7",
              "version_major": 2,
              "version_minor": 0
            },
            "text/plain": [
              "Validation: 0it [00:00, ?it/s]"
            ]
          },
          "metadata": {},
          "output_type": "display_data"
        },
        {
          "data": {
            "application/vnd.jupyter.widget-view+json": {
              "model_id": "0ee1d67c95064fc38b5297433262cc77",
              "version_major": 2,
              "version_minor": 0
            },
            "text/plain": [
              "Validation: 0it [00:00, ?it/s]"
            ]
          },
          "metadata": {},
          "output_type": "display_data"
        },
        {
          "data": {
            "application/vnd.jupyter.widget-view+json": {
              "model_id": "12988610cd9444d3be80dbaf20eb5e75",
              "version_major": 2,
              "version_minor": 0
            },
            "text/plain": [
              "Validation: 0it [00:00, ?it/s]"
            ]
          },
          "metadata": {},
          "output_type": "display_data"
        },
        {
          "data": {
            "application/vnd.jupyter.widget-view+json": {
              "model_id": "7c5b68e1d841484fb8de61c63013ab5f",
              "version_major": 2,
              "version_minor": 0
            },
            "text/plain": [
              "Validation: 0it [00:00, ?it/s]"
            ]
          },
          "metadata": {},
          "output_type": "display_data"
        },
        {
          "data": {
            "application/vnd.jupyter.widget-view+json": {
              "model_id": "f15f3694cc4942ee8b7e458707f7ec36",
              "version_major": 2,
              "version_minor": 0
            },
            "text/plain": [
              "Validation: 0it [00:00, ?it/s]"
            ]
          },
          "metadata": {},
          "output_type": "display_data"
        },
        {
          "data": {
            "application/vnd.jupyter.widget-view+json": {
              "model_id": "9bb4422cd90e43de8ae066755b087b0e",
              "version_major": 2,
              "version_minor": 0
            },
            "text/plain": [
              "Validation: 0it [00:00, ?it/s]"
            ]
          },
          "metadata": {},
          "output_type": "display_data"
        },
        {
          "data": {
            "application/vnd.jupyter.widget-view+json": {
              "model_id": "4447e94cc00f486d89991107e34e0bb8",
              "version_major": 2,
              "version_minor": 0
            },
            "text/plain": [
              "Validation: 0it [00:00, ?it/s]"
            ]
          },
          "metadata": {},
          "output_type": "display_data"
        },
        {
          "data": {
            "application/vnd.jupyter.widget-view+json": {
              "model_id": "63eca94b36c14bc8a631b1eb0e615a8b",
              "version_major": 2,
              "version_minor": 0
            },
            "text/plain": [
              "Validation: 0it [00:00, ?it/s]"
            ]
          },
          "metadata": {},
          "output_type": "display_data"
        },
        {
          "data": {
            "application/vnd.jupyter.widget-view+json": {
              "model_id": "4db01fe9c7bd48e78002c2a7d4921b07",
              "version_major": 2,
              "version_minor": 0
            },
            "text/plain": [
              "Validation: 0it [00:00, ?it/s]"
            ]
          },
          "metadata": {},
          "output_type": "display_data"
        },
        {
          "data": {
            "application/vnd.jupyter.widget-view+json": {
              "model_id": "21d0b78e0e4c49389c5586e88894052f",
              "version_major": 2,
              "version_minor": 0
            },
            "text/plain": [
              "Validation: 0it [00:00, ?it/s]"
            ]
          },
          "metadata": {},
          "output_type": "display_data"
        },
        {
          "data": {
            "application/vnd.jupyter.widget-view+json": {
              "model_id": "552bc50dda4c4670861c1157f7beffdd",
              "version_major": 2,
              "version_minor": 0
            },
            "text/plain": [
              "Validation: 0it [00:00, ?it/s]"
            ]
          },
          "metadata": {},
          "output_type": "display_data"
        },
        {
          "data": {
            "application/vnd.jupyter.widget-view+json": {
              "model_id": "f424aad07a5a4aea850e6e2e847c0e46",
              "version_major": 2,
              "version_minor": 0
            },
            "text/plain": [
              "Validation: 0it [00:00, ?it/s]"
            ]
          },
          "metadata": {},
          "output_type": "display_data"
        },
        {
          "data": {
            "application/vnd.jupyter.widget-view+json": {
              "model_id": "d9ca1e76ea9b4a8c9b5d7c6214959b08",
              "version_major": 2,
              "version_minor": 0
            },
            "text/plain": [
              "Validation: 0it [00:00, ?it/s]"
            ]
          },
          "metadata": {},
          "output_type": "display_data"
        },
        {
          "data": {
            "application/vnd.jupyter.widget-view+json": {
              "model_id": "aeb1772db49a442fbbf9d4e3058babc9",
              "version_major": 2,
              "version_minor": 0
            },
            "text/plain": [
              "Validation: 0it [00:00, ?it/s]"
            ]
          },
          "metadata": {},
          "output_type": "display_data"
        },
        {
          "data": {
            "application/vnd.jupyter.widget-view+json": {
              "model_id": "9626ab908e72406eb063b2051efa3f13",
              "version_major": 2,
              "version_minor": 0
            },
            "text/plain": [
              "Validation: 0it [00:00, ?it/s]"
            ]
          },
          "metadata": {},
          "output_type": "display_data"
        },
        {
          "data": {
            "application/vnd.jupyter.widget-view+json": {
              "model_id": "e650b6b6891a405b8abcb95a97feea87",
              "version_major": 2,
              "version_minor": 0
            },
            "text/plain": [
              "Validation: 0it [00:00, ?it/s]"
            ]
          },
          "metadata": {},
          "output_type": "display_data"
        },
        {
          "data": {
            "application/vnd.jupyter.widget-view+json": {
              "model_id": "89bf7e549ea443eab736431cf725d99e",
              "version_major": 2,
              "version_minor": 0
            },
            "text/plain": [
              "Validation: 0it [00:00, ?it/s]"
            ]
          },
          "metadata": {},
          "output_type": "display_data"
        },
        {
          "data": {
            "application/vnd.jupyter.widget-view+json": {
              "model_id": "c4023602acdf4205add87184cbcff4a8",
              "version_major": 2,
              "version_minor": 0
            },
            "text/plain": [
              "Validation: 0it [00:00, ?it/s]"
            ]
          },
          "metadata": {},
          "output_type": "display_data"
        },
        {
          "data": {
            "application/vnd.jupyter.widget-view+json": {
              "model_id": "f785b98d0b8d40959175a66fef5026cd",
              "version_major": 2,
              "version_minor": 0
            },
            "text/plain": [
              "Validation: 0it [00:00, ?it/s]"
            ]
          },
          "metadata": {},
          "output_type": "display_data"
        },
        {
          "data": {
            "application/vnd.jupyter.widget-view+json": {
              "model_id": "2c40738918f94b1699fe167ab8444c4e",
              "version_major": 2,
              "version_minor": 0
            },
            "text/plain": [
              "Validation: 0it [00:00, ?it/s]"
            ]
          },
          "metadata": {},
          "output_type": "display_data"
        },
        {
          "data": {
            "application/vnd.jupyter.widget-view+json": {
              "model_id": "1275dbe8ddf349789858a1411abaf19b",
              "version_major": 2,
              "version_minor": 0
            },
            "text/plain": [
              "Validation: 0it [00:00, ?it/s]"
            ]
          },
          "metadata": {},
          "output_type": "display_data"
        },
        {
          "data": {
            "application/vnd.jupyter.widget-view+json": {
              "model_id": "97f0ceea4749460ca5845e31074aff98",
              "version_major": 2,
              "version_minor": 0
            },
            "text/plain": [
              "Validation: 0it [00:00, ?it/s]"
            ]
          },
          "metadata": {},
          "output_type": "display_data"
        },
        {
          "data": {
            "application/vnd.jupyter.widget-view+json": {
              "model_id": "5b77a4154f744445952e395322cbdd98",
              "version_major": 2,
              "version_minor": 0
            },
            "text/plain": [
              "Validation: 0it [00:00, ?it/s]"
            ]
          },
          "metadata": {},
          "output_type": "display_data"
        },
        {
          "data": {
            "application/vnd.jupyter.widget-view+json": {
              "model_id": "7fb514d4b7514d659a639aa3781d7b75",
              "version_major": 2,
              "version_minor": 0
            },
            "text/plain": [
              "Validation: 0it [00:00, ?it/s]"
            ]
          },
          "metadata": {},
          "output_type": "display_data"
        },
        {
          "data": {
            "application/vnd.jupyter.widget-view+json": {
              "model_id": "be6e8ee07c1f45bda1cdbd43f3a33186",
              "version_major": 2,
              "version_minor": 0
            },
            "text/plain": [
              "Validation: 0it [00:00, ?it/s]"
            ]
          },
          "metadata": {},
          "output_type": "display_data"
        },
        {
          "data": {
            "application/vnd.jupyter.widget-view+json": {
              "model_id": "d2da2fe4161f4d7cafd582df24af0fff",
              "version_major": 2,
              "version_minor": 0
            },
            "text/plain": [
              "Validation: 0it [00:00, ?it/s]"
            ]
          },
          "metadata": {},
          "output_type": "display_data"
        },
        {
          "data": {
            "application/vnd.jupyter.widget-view+json": {
              "model_id": "423033c0fc3e4b9887efd9c3ad291b7f",
              "version_major": 2,
              "version_minor": 0
            },
            "text/plain": [
              "Validation: 0it [00:00, ?it/s]"
            ]
          },
          "metadata": {},
          "output_type": "display_data"
        },
        {
          "data": {
            "application/vnd.jupyter.widget-view+json": {
              "model_id": "f90b8f9694674f6ca808b4cf26e4a1c1",
              "version_major": 2,
              "version_minor": 0
            },
            "text/plain": [
              "Validation: 0it [00:00, ?it/s]"
            ]
          },
          "metadata": {},
          "output_type": "display_data"
        },
        {
          "data": {
            "application/vnd.jupyter.widget-view+json": {
              "model_id": "78ff7ebd1ac34c0787209c442e5dfcff",
              "version_major": 2,
              "version_minor": 0
            },
            "text/plain": [
              "Validation: 0it [00:00, ?it/s]"
            ]
          },
          "metadata": {},
          "output_type": "display_data"
        },
        {
          "data": {
            "application/vnd.jupyter.widget-view+json": {
              "model_id": "ed619c3ef2c34d82a8919d2a2225d1ed",
              "version_major": 2,
              "version_minor": 0
            },
            "text/plain": [
              "Validation: 0it [00:00, ?it/s]"
            ]
          },
          "metadata": {},
          "output_type": "display_data"
        },
        {
          "data": {
            "application/vnd.jupyter.widget-view+json": {
              "model_id": "ae6f4ac88b754c6998d544195fa6011f",
              "version_major": 2,
              "version_minor": 0
            },
            "text/plain": [
              "Validation: 0it [00:00, ?it/s]"
            ]
          },
          "metadata": {},
          "output_type": "display_data"
        },
        {
          "data": {
            "application/vnd.jupyter.widget-view+json": {
              "model_id": "ecc2dce788584f9aafbf792687a4b14c",
              "version_major": 2,
              "version_minor": 0
            },
            "text/plain": [
              "Validation: 0it [00:00, ?it/s]"
            ]
          },
          "metadata": {},
          "output_type": "display_data"
        },
        {
          "data": {
            "application/vnd.jupyter.widget-view+json": {
              "model_id": "a57f47d74e814df7a0e82d32da966edc",
              "version_major": 2,
              "version_minor": 0
            },
            "text/plain": [
              "Validation: 0it [00:00, ?it/s]"
            ]
          },
          "metadata": {},
          "output_type": "display_data"
        },
        {
          "data": {
            "application/vnd.jupyter.widget-view+json": {
              "model_id": "a6a56a66c7c848f7b93c0397a3a438e5",
              "version_major": 2,
              "version_minor": 0
            },
            "text/plain": [
              "Validation: 0it [00:00, ?it/s]"
            ]
          },
          "metadata": {},
          "output_type": "display_data"
        },
        {
          "data": {
            "application/vnd.jupyter.widget-view+json": {
              "model_id": "37ee3d88102744a8b9b23e27a354c3bf",
              "version_major": 2,
              "version_minor": 0
            },
            "text/plain": [
              "Validation: 0it [00:00, ?it/s]"
            ]
          },
          "metadata": {},
          "output_type": "display_data"
        },
        {
          "data": {
            "application/vnd.jupyter.widget-view+json": {
              "model_id": "3cad1f5cee344a6b80d754980ed0fde8",
              "version_major": 2,
              "version_minor": 0
            },
            "text/plain": [
              "Validation: 0it [00:00, ?it/s]"
            ]
          },
          "metadata": {},
          "output_type": "display_data"
        },
        {
          "data": {
            "application/vnd.jupyter.widget-view+json": {
              "model_id": "288d4da130ac4922ab2185bb9eca7551",
              "version_major": 2,
              "version_minor": 0
            },
            "text/plain": [
              "Validation: 0it [00:00, ?it/s]"
            ]
          },
          "metadata": {},
          "output_type": "display_data"
        },
        {
          "data": {
            "application/vnd.jupyter.widget-view+json": {
              "model_id": "788bbf52dfb645e8a955a66bf1d880a3",
              "version_major": 2,
              "version_minor": 0
            },
            "text/plain": [
              "Validation: 0it [00:00, ?it/s]"
            ]
          },
          "metadata": {},
          "output_type": "display_data"
        },
        {
          "data": {
            "application/vnd.jupyter.widget-view+json": {
              "model_id": "b1737597363a473fb2146a11fecbe4f4",
              "version_major": 2,
              "version_minor": 0
            },
            "text/plain": [
              "Validation: 0it [00:00, ?it/s]"
            ]
          },
          "metadata": {},
          "output_type": "display_data"
        },
        {
          "data": {
            "application/vnd.jupyter.widget-view+json": {
              "model_id": "59a38c1ff913425fb5f0e011da7c8e05",
              "version_major": 2,
              "version_minor": 0
            },
            "text/plain": [
              "Validation: 0it [00:00, ?it/s]"
            ]
          },
          "metadata": {},
          "output_type": "display_data"
        },
        {
          "data": {
            "application/vnd.jupyter.widget-view+json": {
              "model_id": "15e67a43145a4734bde84c13abb9acfc",
              "version_major": 2,
              "version_minor": 0
            },
            "text/plain": [
              "Validation: 0it [00:00, ?it/s]"
            ]
          },
          "metadata": {},
          "output_type": "display_data"
        },
        {
          "data": {
            "application/vnd.jupyter.widget-view+json": {
              "model_id": "3f627a673cf54d11995c3b564aa25d3d",
              "version_major": 2,
              "version_minor": 0
            },
            "text/plain": [
              "Validation: 0it [00:00, ?it/s]"
            ]
          },
          "metadata": {},
          "output_type": "display_data"
        },
        {
          "data": {
            "application/vnd.jupyter.widget-view+json": {
              "model_id": "3e0c2ab1b17143f8b11b89f2e71ef2a3",
              "version_major": 2,
              "version_minor": 0
            },
            "text/plain": [
              "Validation: 0it [00:00, ?it/s]"
            ]
          },
          "metadata": {},
          "output_type": "display_data"
        },
        {
          "data": {
            "application/vnd.jupyter.widget-view+json": {
              "model_id": "3db0f551fd3643a9ae017439dd2c42d5",
              "version_major": 2,
              "version_minor": 0
            },
            "text/plain": [
              "Validation: 0it [00:00, ?it/s]"
            ]
          },
          "metadata": {},
          "output_type": "display_data"
        },
        {
          "data": {
            "application/vnd.jupyter.widget-view+json": {
              "model_id": "a2a1d478c5664f37a8a3e4d2f11e2ee3",
              "version_major": 2,
              "version_minor": 0
            },
            "text/plain": [
              "Validation: 0it [00:00, ?it/s]"
            ]
          },
          "metadata": {},
          "output_type": "display_data"
        },
        {
          "data": {
            "application/vnd.jupyter.widget-view+json": {
              "model_id": "38a2857925bd4e26ae8a248c1a28f826",
              "version_major": 2,
              "version_minor": 0
            },
            "text/plain": [
              "Validation: 0it [00:00, ?it/s]"
            ]
          },
          "metadata": {},
          "output_type": "display_data"
        },
        {
          "data": {
            "application/vnd.jupyter.widget-view+json": {
              "model_id": "cc35938019134c6b8944f55e3365b5db",
              "version_major": 2,
              "version_minor": 0
            },
            "text/plain": [
              "Validation: 0it [00:00, ?it/s]"
            ]
          },
          "metadata": {},
          "output_type": "display_data"
        },
        {
          "data": {
            "application/vnd.jupyter.widget-view+json": {
              "model_id": "c47e641a028f4797b2ee479ce299b096",
              "version_major": 2,
              "version_minor": 0
            },
            "text/plain": [
              "Validation: 0it [00:00, ?it/s]"
            ]
          },
          "metadata": {},
          "output_type": "display_data"
        },
        {
          "data": {
            "application/vnd.jupyter.widget-view+json": {
              "model_id": "843139feab564131879c10951f37afe9",
              "version_major": 2,
              "version_minor": 0
            },
            "text/plain": [
              "Validation: 0it [00:00, ?it/s]"
            ]
          },
          "metadata": {},
          "output_type": "display_data"
        },
        {
          "data": {
            "application/vnd.jupyter.widget-view+json": {
              "model_id": "053c133ac831443191e79b07a5967fce",
              "version_major": 2,
              "version_minor": 0
            },
            "text/plain": [
              "Validation: 0it [00:00, ?it/s]"
            ]
          },
          "metadata": {},
          "output_type": "display_data"
        },
        {
          "data": {
            "application/vnd.jupyter.widget-view+json": {
              "model_id": "63a248027c18487b8fe3e12b0e9073d9",
              "version_major": 2,
              "version_minor": 0
            },
            "text/plain": [
              "Validation: 0it [00:00, ?it/s]"
            ]
          },
          "metadata": {},
          "output_type": "display_data"
        },
        {
          "data": {
            "application/vnd.jupyter.widget-view+json": {
              "model_id": "6d111609eb654443badefb50ece75c59",
              "version_major": 2,
              "version_minor": 0
            },
            "text/plain": [
              "Validation: 0it [00:00, ?it/s]"
            ]
          },
          "metadata": {},
          "output_type": "display_data"
        },
        {
          "data": {
            "application/vnd.jupyter.widget-view+json": {
              "model_id": "24eb209fdc8447b08fd93d24fdda5cd8",
              "version_major": 2,
              "version_minor": 0
            },
            "text/plain": [
              "Validation: 0it [00:00, ?it/s]"
            ]
          },
          "metadata": {},
          "output_type": "display_data"
        },
        {
          "data": {
            "application/vnd.jupyter.widget-view+json": {
              "model_id": "c8ea1e269b884495a36581c53b893f51",
              "version_major": 2,
              "version_minor": 0
            },
            "text/plain": [
              "Validation: 0it [00:00, ?it/s]"
            ]
          },
          "metadata": {},
          "output_type": "display_data"
        },
        {
          "data": {
            "application/vnd.jupyter.widget-view+json": {
              "model_id": "a1332c4de12f4c43ba3123d3d52997d4",
              "version_major": 2,
              "version_minor": 0
            },
            "text/plain": [
              "Validation: 0it [00:00, ?it/s]"
            ]
          },
          "metadata": {},
          "output_type": "display_data"
        },
        {
          "data": {
            "application/vnd.jupyter.widget-view+json": {
              "model_id": "08aaad7a87f848899a1c087f279558fc",
              "version_major": 2,
              "version_minor": 0
            },
            "text/plain": [
              "Validation: 0it [00:00, ?it/s]"
            ]
          },
          "metadata": {},
          "output_type": "display_data"
        },
        {
          "data": {
            "application/vnd.jupyter.widget-view+json": {
              "model_id": "171408059d2b4fe6921099adf29b033f",
              "version_major": 2,
              "version_minor": 0
            },
            "text/plain": [
              "Validation: 0it [00:00, ?it/s]"
            ]
          },
          "metadata": {},
          "output_type": "display_data"
        },
        {
          "data": {
            "application/vnd.jupyter.widget-view+json": {
              "model_id": "58c126faed31409e92851a6ac236deb0",
              "version_major": 2,
              "version_minor": 0
            },
            "text/plain": [
              "Validation: 0it [00:00, ?it/s]"
            ]
          },
          "metadata": {},
          "output_type": "display_data"
        },
        {
          "data": {
            "application/vnd.jupyter.widget-view+json": {
              "model_id": "78a19becce594baebf2062de9779a7a4",
              "version_major": 2,
              "version_minor": 0
            },
            "text/plain": [
              "Validation: 0it [00:00, ?it/s]"
            ]
          },
          "metadata": {},
          "output_type": "display_data"
        },
        {
          "data": {
            "application/vnd.jupyter.widget-view+json": {
              "model_id": "39b4b0f86286420cbce05929bcdbd54c",
              "version_major": 2,
              "version_minor": 0
            },
            "text/plain": [
              "Validation: 0it [00:00, ?it/s]"
            ]
          },
          "metadata": {},
          "output_type": "display_data"
        },
        {
          "data": {
            "application/vnd.jupyter.widget-view+json": {
              "model_id": "22501e78238544e5b23ebb1216a3b46b",
              "version_major": 2,
              "version_minor": 0
            },
            "text/plain": [
              "Validation: 0it [00:00, ?it/s]"
            ]
          },
          "metadata": {},
          "output_type": "display_data"
        },
        {
          "data": {
            "application/vnd.jupyter.widget-view+json": {
              "model_id": "b88f5821404a45df8311abc1a34c4ddc",
              "version_major": 2,
              "version_minor": 0
            },
            "text/plain": [
              "Validation: 0it [00:00, ?it/s]"
            ]
          },
          "metadata": {},
          "output_type": "display_data"
        },
        {
          "data": {
            "application/vnd.jupyter.widget-view+json": {
              "model_id": "5b153dc431224068a58e3e1236cd3040",
              "version_major": 2,
              "version_minor": 0
            },
            "text/plain": [
              "Validation: 0it [00:00, ?it/s]"
            ]
          },
          "metadata": {},
          "output_type": "display_data"
        },
        {
          "data": {
            "application/vnd.jupyter.widget-view+json": {
              "model_id": "682cc1caf7df4bd5ae2f65b0d4f4fb8c",
              "version_major": 2,
              "version_minor": 0
            },
            "text/plain": [
              "Validation: 0it [00:00, ?it/s]"
            ]
          },
          "metadata": {},
          "output_type": "display_data"
        },
        {
          "data": {
            "application/vnd.jupyter.widget-view+json": {
              "model_id": "7ac0d7151dcd415497d1468120f8df0d",
              "version_major": 2,
              "version_minor": 0
            },
            "text/plain": [
              "Validation: 0it [00:00, ?it/s]"
            ]
          },
          "metadata": {},
          "output_type": "display_data"
        },
        {
          "data": {
            "application/vnd.jupyter.widget-view+json": {
              "model_id": "6d61033ec9244008b8e6ec24377e6477",
              "version_major": 2,
              "version_minor": 0
            },
            "text/plain": [
              "Validation: 0it [00:00, ?it/s]"
            ]
          },
          "metadata": {},
          "output_type": "display_data"
        },
        {
          "data": {
            "application/vnd.jupyter.widget-view+json": {
              "model_id": "55a7b4f1a4074a579989dc69dd44f2c8",
              "version_major": 2,
              "version_minor": 0
            },
            "text/plain": [
              "Validation: 0it [00:00, ?it/s]"
            ]
          },
          "metadata": {},
          "output_type": "display_data"
        },
        {
          "data": {
            "application/vnd.jupyter.widget-view+json": {
              "model_id": "3de182afdcbe4a92b20dbdda72cd5783",
              "version_major": 2,
              "version_minor": 0
            },
            "text/plain": [
              "Validation: 0it [00:00, ?it/s]"
            ]
          },
          "metadata": {},
          "output_type": "display_data"
        },
        {
          "data": {
            "application/vnd.jupyter.widget-view+json": {
              "model_id": "aebe67ff09a34654a161f4acd2a156c9",
              "version_major": 2,
              "version_minor": 0
            },
            "text/plain": [
              "Validation: 0it [00:00, ?it/s]"
            ]
          },
          "metadata": {},
          "output_type": "display_data"
        },
        {
          "data": {
            "application/vnd.jupyter.widget-view+json": {
              "model_id": "0326fb63f20e4b22b18173b59facb368",
              "version_major": 2,
              "version_minor": 0
            },
            "text/plain": [
              "Validation: 0it [00:00, ?it/s]"
            ]
          },
          "metadata": {},
          "output_type": "display_data"
        },
        {
          "data": {
            "application/vnd.jupyter.widget-view+json": {
              "model_id": "31753c8ad80a4939b35965c947bb4a33",
              "version_major": 2,
              "version_minor": 0
            },
            "text/plain": [
              "Validation: 0it [00:00, ?it/s]"
            ]
          },
          "metadata": {},
          "output_type": "display_data"
        },
        {
          "data": {
            "application/vnd.jupyter.widget-view+json": {
              "model_id": "a82fff92ba0b4ef4933658a5fa93c131",
              "version_major": 2,
              "version_minor": 0
            },
            "text/plain": [
              "Validation: 0it [00:00, ?it/s]"
            ]
          },
          "metadata": {},
          "output_type": "display_data"
        },
        {
          "data": {
            "application/vnd.jupyter.widget-view+json": {
              "model_id": "e6597e63267143fe84b66abcd362ab0c",
              "version_major": 2,
              "version_minor": 0
            },
            "text/plain": [
              "Validation: 0it [00:00, ?it/s]"
            ]
          },
          "metadata": {},
          "output_type": "display_data"
        },
        {
          "data": {
            "application/vnd.jupyter.widget-view+json": {
              "model_id": "9275bd6adeda413c966ebe1b8a8fd212",
              "version_major": 2,
              "version_minor": 0
            },
            "text/plain": [
              "Validation: 0it [00:00, ?it/s]"
            ]
          },
          "metadata": {},
          "output_type": "display_data"
        },
        {
          "data": {
            "application/vnd.jupyter.widget-view+json": {
              "model_id": "9996e8bf135244bea2e74aca98084ec0",
              "version_major": 2,
              "version_minor": 0
            },
            "text/plain": [
              "Validation: 0it [00:00, ?it/s]"
            ]
          },
          "metadata": {},
          "output_type": "display_data"
        },
        {
          "data": {
            "application/vnd.jupyter.widget-view+json": {
              "model_id": "afeb34a9edd049d591b43599cfdd52ac",
              "version_major": 2,
              "version_minor": 0
            },
            "text/plain": [
              "Validation: 0it [00:00, ?it/s]"
            ]
          },
          "metadata": {},
          "output_type": "display_data"
        },
        {
          "data": {
            "application/vnd.jupyter.widget-view+json": {
              "model_id": "1a4363ac0ccd480e81856bf8bab28156",
              "version_major": 2,
              "version_minor": 0
            },
            "text/plain": [
              "Validation: 0it [00:00, ?it/s]"
            ]
          },
          "metadata": {},
          "output_type": "display_data"
        },
        {
          "data": {
            "application/vnd.jupyter.widget-view+json": {
              "model_id": "45dd0f4761b3409e8080a40221586c46",
              "version_major": 2,
              "version_minor": 0
            },
            "text/plain": [
              "Validation: 0it [00:00, ?it/s]"
            ]
          },
          "metadata": {},
          "output_type": "display_data"
        },
        {
          "data": {
            "application/vnd.jupyter.widget-view+json": {
              "model_id": "9f57c0fd507e4e98bfac4b8adefe2f3a",
              "version_major": 2,
              "version_minor": 0
            },
            "text/plain": [
              "Validation: 0it [00:00, ?it/s]"
            ]
          },
          "metadata": {},
          "output_type": "display_data"
        },
        {
          "data": {
            "application/vnd.jupyter.widget-view+json": {
              "model_id": "04db04838d244acebc8cddb1efa05be4",
              "version_major": 2,
              "version_minor": 0
            },
            "text/plain": [
              "Validation: 0it [00:00, ?it/s]"
            ]
          },
          "metadata": {},
          "output_type": "display_data"
        },
        {
          "data": {
            "application/vnd.jupyter.widget-view+json": {
              "model_id": "5b1559e3f3e8454eba0e335746601529",
              "version_major": 2,
              "version_minor": 0
            },
            "text/plain": [
              "Validation: 0it [00:00, ?it/s]"
            ]
          },
          "metadata": {},
          "output_type": "display_data"
        },
        {
          "data": {
            "application/vnd.jupyter.widget-view+json": {
              "model_id": "1e4c7c7a1abf4c779c4a7178e1e8dea2",
              "version_major": 2,
              "version_minor": 0
            },
            "text/plain": [
              "Validation: 0it [00:00, ?it/s]"
            ]
          },
          "metadata": {},
          "output_type": "display_data"
        },
        {
          "data": {
            "application/vnd.jupyter.widget-view+json": {
              "model_id": "4f570e5a84294989b8850530c864dc52",
              "version_major": 2,
              "version_minor": 0
            },
            "text/plain": [
              "Validation: 0it [00:00, ?it/s]"
            ]
          },
          "metadata": {},
          "output_type": "display_data"
        },
        {
          "data": {
            "application/vnd.jupyter.widget-view+json": {
              "model_id": "d3f2ca5d9b3442beb4610d984802d852",
              "version_major": 2,
              "version_minor": 0
            },
            "text/plain": [
              "Validation: 0it [00:00, ?it/s]"
            ]
          },
          "metadata": {},
          "output_type": "display_data"
        },
        {
          "data": {
            "application/vnd.jupyter.widget-view+json": {
              "model_id": "16ff6511bdf64634acec6736defbdab4",
              "version_major": 2,
              "version_minor": 0
            },
            "text/plain": [
              "Validation: 0it [00:00, ?it/s]"
            ]
          },
          "metadata": {},
          "output_type": "display_data"
        },
        {
          "data": {
            "application/vnd.jupyter.widget-view+json": {
              "model_id": "c3fca2562a854f72ac69e9d28377e006",
              "version_major": 2,
              "version_minor": 0
            },
            "text/plain": [
              "Validation: 0it [00:00, ?it/s]"
            ]
          },
          "metadata": {},
          "output_type": "display_data"
        },
        {
          "data": {
            "application/vnd.jupyter.widget-view+json": {
              "model_id": "038ff0dc253e4761bc092ada8c298a97",
              "version_major": 2,
              "version_minor": 0
            },
            "text/plain": [
              "Validation: 0it [00:00, ?it/s]"
            ]
          },
          "metadata": {},
          "output_type": "display_data"
        },
        {
          "data": {
            "application/vnd.jupyter.widget-view+json": {
              "model_id": "a116c302ad644056a98006a7a79cfac7",
              "version_major": 2,
              "version_minor": 0
            },
            "text/plain": [
              "Validation: 0it [00:00, ?it/s]"
            ]
          },
          "metadata": {},
          "output_type": "display_data"
        },
        {
          "data": {
            "application/vnd.jupyter.widget-view+json": {
              "model_id": "a6bf33ea99f64d7c9c1c01181dd6537e",
              "version_major": 2,
              "version_minor": 0
            },
            "text/plain": [
              "Validation: 0it [00:00, ?it/s]"
            ]
          },
          "metadata": {},
          "output_type": "display_data"
        },
        {
          "data": {
            "application/vnd.jupyter.widget-view+json": {
              "model_id": "84170ea6258f4b5d8c11b49bb05ec60a",
              "version_major": 2,
              "version_minor": 0
            },
            "text/plain": [
              "Validation: 0it [00:00, ?it/s]"
            ]
          },
          "metadata": {},
          "output_type": "display_data"
        },
        {
          "data": {
            "application/vnd.jupyter.widget-view+json": {
              "model_id": "5bc92030c68b4054b7b7fa39f7485e67",
              "version_major": 2,
              "version_minor": 0
            },
            "text/plain": [
              "Validation: 0it [00:00, ?it/s]"
            ]
          },
          "metadata": {},
          "output_type": "display_data"
        },
        {
          "data": {
            "application/vnd.jupyter.widget-view+json": {
              "model_id": "672a3847ec8240e99f81a92d54bd3a99",
              "version_major": 2,
              "version_minor": 0
            },
            "text/plain": [
              "Validation: 0it [00:00, ?it/s]"
            ]
          },
          "metadata": {},
          "output_type": "display_data"
        },
        {
          "data": {
            "application/vnd.jupyter.widget-view+json": {
              "model_id": "503b4bd53fdd4d6c959e3647f38e2818",
              "version_major": 2,
              "version_minor": 0
            },
            "text/plain": [
              "Validation: 0it [00:00, ?it/s]"
            ]
          },
          "metadata": {},
          "output_type": "display_data"
        },
        {
          "data": {
            "application/vnd.jupyter.widget-view+json": {
              "model_id": "ca24a622a0c146829125a51d1e861dc7",
              "version_major": 2,
              "version_minor": 0
            },
            "text/plain": [
              "Validation: 0it [00:00, ?it/s]"
            ]
          },
          "metadata": {},
          "output_type": "display_data"
        },
        {
          "data": {
            "application/vnd.jupyter.widget-view+json": {
              "model_id": "59d4739ecef545b4a67b13cdf3a419c8",
              "version_major": 2,
              "version_minor": 0
            },
            "text/plain": [
              "Validation: 0it [00:00, ?it/s]"
            ]
          },
          "metadata": {},
          "output_type": "display_data"
        },
        {
          "data": {
            "application/vnd.jupyter.widget-view+json": {
              "model_id": "2567a36a80674d94872ccf6bfba1627a",
              "version_major": 2,
              "version_minor": 0
            },
            "text/plain": [
              "Validation: 0it [00:00, ?it/s]"
            ]
          },
          "metadata": {},
          "output_type": "display_data"
        },
        {
          "data": {
            "application/vnd.jupyter.widget-view+json": {
              "model_id": "4f8d4a7245b445598815fccaf62d473a",
              "version_major": 2,
              "version_minor": 0
            },
            "text/plain": [
              "Validation: 0it [00:00, ?it/s]"
            ]
          },
          "metadata": {},
          "output_type": "display_data"
        },
        {
          "data": {
            "application/vnd.jupyter.widget-view+json": {
              "model_id": "c7eb0d1a90eb46028046937df6de5812",
              "version_major": 2,
              "version_minor": 0
            },
            "text/plain": [
              "Validation: 0it [00:00, ?it/s]"
            ]
          },
          "metadata": {},
          "output_type": "display_data"
        },
        {
          "data": {
            "application/vnd.jupyter.widget-view+json": {
              "model_id": "dacf21b31a4f4ac7aaabb6b0d512089a",
              "version_major": 2,
              "version_minor": 0
            },
            "text/plain": [
              "Validation: 0it [00:00, ?it/s]"
            ]
          },
          "metadata": {},
          "output_type": "display_data"
        },
        {
          "data": {
            "application/vnd.jupyter.widget-view+json": {
              "model_id": "d4055021a18d4332b04a25674d9dd14a",
              "version_major": 2,
              "version_minor": 0
            },
            "text/plain": [
              "Validation: 0it [00:00, ?it/s]"
            ]
          },
          "metadata": {},
          "output_type": "display_data"
        },
        {
          "data": {
            "application/vnd.jupyter.widget-view+json": {
              "model_id": "55f0c4b6336b446b919e4b06f0e24595",
              "version_major": 2,
              "version_minor": 0
            },
            "text/plain": [
              "Validation: 0it [00:00, ?it/s]"
            ]
          },
          "metadata": {},
          "output_type": "display_data"
        },
        {
          "data": {
            "application/vnd.jupyter.widget-view+json": {
              "model_id": "807811709a8744c8866be191be86d395",
              "version_major": 2,
              "version_minor": 0
            },
            "text/plain": [
              "Validation: 0it [00:00, ?it/s]"
            ]
          },
          "metadata": {},
          "output_type": "display_data"
        },
        {
          "data": {
            "application/vnd.jupyter.widget-view+json": {
              "model_id": "bd0c6cc92f76407eacd41d9f8a58cd15",
              "version_major": 2,
              "version_minor": 0
            },
            "text/plain": [
              "Validation: 0it [00:00, ?it/s]"
            ]
          },
          "metadata": {},
          "output_type": "display_data"
        },
        {
          "data": {
            "application/vnd.jupyter.widget-view+json": {
              "model_id": "0f5585c757d94874a78c971bf4782d23",
              "version_major": 2,
              "version_minor": 0
            },
            "text/plain": [
              "Validation: 0it [00:00, ?it/s]"
            ]
          },
          "metadata": {},
          "output_type": "display_data"
        },
        {
          "data": {
            "application/vnd.jupyter.widget-view+json": {
              "model_id": "7b0c35ffbfcd4383add545d760e2da24",
              "version_major": 2,
              "version_minor": 0
            },
            "text/plain": [
              "Validation: 0it [00:00, ?it/s]"
            ]
          },
          "metadata": {},
          "output_type": "display_data"
        },
        {
          "data": {
            "application/vnd.jupyter.widget-view+json": {
              "model_id": "bb8cffa7e82449dcb2f618c5f6f42651",
              "version_major": 2,
              "version_minor": 0
            },
            "text/plain": [
              "Validation: 0it [00:00, ?it/s]"
            ]
          },
          "metadata": {},
          "output_type": "display_data"
        },
        {
          "data": {
            "application/vnd.jupyter.widget-view+json": {
              "model_id": "7e20389d66b84acaba33ef355e2e7f52",
              "version_major": 2,
              "version_minor": 0
            },
            "text/plain": [
              "Validation: 0it [00:00, ?it/s]"
            ]
          },
          "metadata": {},
          "output_type": "display_data"
        },
        {
          "data": {
            "application/vnd.jupyter.widget-view+json": {
              "model_id": "dcdf225f51de4e85a81f8a4ae0a93735",
              "version_major": 2,
              "version_minor": 0
            },
            "text/plain": [
              "Validation: 0it [00:00, ?it/s]"
            ]
          },
          "metadata": {},
          "output_type": "display_data"
        },
        {
          "data": {
            "application/vnd.jupyter.widget-view+json": {
              "model_id": "4b4fdf8bfa2147a38a11b556d8171185",
              "version_major": 2,
              "version_minor": 0
            },
            "text/plain": [
              "Validation: 0it [00:00, ?it/s]"
            ]
          },
          "metadata": {},
          "output_type": "display_data"
        },
        {
          "data": {
            "application/vnd.jupyter.widget-view+json": {
              "model_id": "473c1febef5f461d8955c24e33380778",
              "version_major": 2,
              "version_minor": 0
            },
            "text/plain": [
              "Validation: 0it [00:00, ?it/s]"
            ]
          },
          "metadata": {},
          "output_type": "display_data"
        },
        {
          "data": {
            "application/vnd.jupyter.widget-view+json": {
              "model_id": "8268cdd0212e4db9bc95eae594d6a1a1",
              "version_major": 2,
              "version_minor": 0
            },
            "text/plain": [
              "Validation: 0it [00:00, ?it/s]"
            ]
          },
          "metadata": {},
          "output_type": "display_data"
        },
        {
          "data": {
            "application/vnd.jupyter.widget-view+json": {
              "model_id": "7c6564256c63497ca2c8c97dcb981063",
              "version_major": 2,
              "version_minor": 0
            },
            "text/plain": [
              "Validation: 0it [00:00, ?it/s]"
            ]
          },
          "metadata": {},
          "output_type": "display_data"
        },
        {
          "data": {
            "application/vnd.jupyter.widget-view+json": {
              "model_id": "bfeee60564994971846db34423390044",
              "version_major": 2,
              "version_minor": 0
            },
            "text/plain": [
              "Validation: 0it [00:00, ?it/s]"
            ]
          },
          "metadata": {},
          "output_type": "display_data"
        },
        {
          "data": {
            "application/vnd.jupyter.widget-view+json": {
              "model_id": "0aef4bc9ce6d4e4b88dd82418d80cdfd",
              "version_major": 2,
              "version_minor": 0
            },
            "text/plain": [
              "Validation: 0it [00:00, ?it/s]"
            ]
          },
          "metadata": {},
          "output_type": "display_data"
        },
        {
          "data": {
            "application/vnd.jupyter.widget-view+json": {
              "model_id": "677f00960d194e099c2029a6bc71004e",
              "version_major": 2,
              "version_minor": 0
            },
            "text/plain": [
              "Validation: 0it [00:00, ?it/s]"
            ]
          },
          "metadata": {},
          "output_type": "display_data"
        },
        {
          "data": {
            "application/vnd.jupyter.widget-view+json": {
              "model_id": "468b60297c9144f882ee290038b2da8e",
              "version_major": 2,
              "version_minor": 0
            },
            "text/plain": [
              "Validation: 0it [00:00, ?it/s]"
            ]
          },
          "metadata": {},
          "output_type": "display_data"
        },
        {
          "data": {
            "application/vnd.jupyter.widget-view+json": {
              "model_id": "9c13f72c9ce049dc9d08428dafaf458e",
              "version_major": 2,
              "version_minor": 0
            },
            "text/plain": [
              "Validation: 0it [00:00, ?it/s]"
            ]
          },
          "metadata": {},
          "output_type": "display_data"
        },
        {
          "data": {
            "application/vnd.jupyter.widget-view+json": {
              "model_id": "dec0cd7408e54f00b9dd93e4375fc6dd",
              "version_major": 2,
              "version_minor": 0
            },
            "text/plain": [
              "Validation: 0it [00:00, ?it/s]"
            ]
          },
          "metadata": {},
          "output_type": "display_data"
        },
        {
          "data": {
            "application/vnd.jupyter.widget-view+json": {
              "model_id": "56f2a43de74444fd83d26dd7bf49715c",
              "version_major": 2,
              "version_minor": 0
            },
            "text/plain": [
              "Validation: 0it [00:00, ?it/s]"
            ]
          },
          "metadata": {},
          "output_type": "display_data"
        },
        {
          "data": {
            "application/vnd.jupyter.widget-view+json": {
              "model_id": "26faa4f532f14322ac9e70bece6ccb73",
              "version_major": 2,
              "version_minor": 0
            },
            "text/plain": [
              "Validation: 0it [00:00, ?it/s]"
            ]
          },
          "metadata": {},
          "output_type": "display_data"
        },
        {
          "data": {
            "application/vnd.jupyter.widget-view+json": {
              "model_id": "72373180477d4572bf5c988556c7713c",
              "version_major": 2,
              "version_minor": 0
            },
            "text/plain": [
              "Validation: 0it [00:00, ?it/s]"
            ]
          },
          "metadata": {},
          "output_type": "display_data"
        },
        {
          "data": {
            "application/vnd.jupyter.widget-view+json": {
              "model_id": "5da8b8322dd04ddfb45b79a30f7b3ae4",
              "version_major": 2,
              "version_minor": 0
            },
            "text/plain": [
              "Validation: 0it [00:00, ?it/s]"
            ]
          },
          "metadata": {},
          "output_type": "display_data"
        },
        {
          "data": {
            "application/vnd.jupyter.widget-view+json": {
              "model_id": "9a4aee8bb1334bd9aa083c863ff2598e",
              "version_major": 2,
              "version_minor": 0
            },
            "text/plain": [
              "Validation: 0it [00:00, ?it/s]"
            ]
          },
          "metadata": {},
          "output_type": "display_data"
        },
        {
          "data": {
            "application/vnd.jupyter.widget-view+json": {
              "model_id": "5167e278095e4e1daa5c2457f73ec6b1",
              "version_major": 2,
              "version_minor": 0
            },
            "text/plain": [
              "Validation: 0it [00:00, ?it/s]"
            ]
          },
          "metadata": {},
          "output_type": "display_data"
        },
        {
          "data": {
            "application/vnd.jupyter.widget-view+json": {
              "model_id": "2d3ffa132f5e48c0bdc6441c4da25f6f",
              "version_major": 2,
              "version_minor": 0
            },
            "text/plain": [
              "Validation: 0it [00:00, ?it/s]"
            ]
          },
          "metadata": {},
          "output_type": "display_data"
        },
        {
          "data": {
            "application/vnd.jupyter.widget-view+json": {
              "model_id": "3ff4a03c7a6e4cfe8d9619c26b907f9d",
              "version_major": 2,
              "version_minor": 0
            },
            "text/plain": [
              "Validation: 0it [00:00, ?it/s]"
            ]
          },
          "metadata": {},
          "output_type": "display_data"
        },
        {
          "data": {
            "application/vnd.jupyter.widget-view+json": {
              "model_id": "422cd0441a41440aaf3ae34a8b58a0c4",
              "version_major": 2,
              "version_minor": 0
            },
            "text/plain": [
              "Validation: 0it [00:00, ?it/s]"
            ]
          },
          "metadata": {},
          "output_type": "display_data"
        },
        {
          "data": {
            "application/vnd.jupyter.widget-view+json": {
              "model_id": "501924d613004670bfd5d1a6bb634dea",
              "version_major": 2,
              "version_minor": 0
            },
            "text/plain": [
              "Validation: 0it [00:00, ?it/s]"
            ]
          },
          "metadata": {},
          "output_type": "display_data"
        },
        {
          "data": {
            "application/vnd.jupyter.widget-view+json": {
              "model_id": "c42e22834e5249d3856187cfdc46cece",
              "version_major": 2,
              "version_minor": 0
            },
            "text/plain": [
              "Validation: 0it [00:00, ?it/s]"
            ]
          },
          "metadata": {},
          "output_type": "display_data"
        },
        {
          "data": {
            "application/vnd.jupyter.widget-view+json": {
              "model_id": "f251159cd6f94a4bb9268867a46d7f4c",
              "version_major": 2,
              "version_minor": 0
            },
            "text/plain": [
              "Validation: 0it [00:00, ?it/s]"
            ]
          },
          "metadata": {},
          "output_type": "display_data"
        },
        {
          "data": {
            "application/vnd.jupyter.widget-view+json": {
              "model_id": "db9e66a237764003a39344bbaa84754d",
              "version_major": 2,
              "version_minor": 0
            },
            "text/plain": [
              "Validation: 0it [00:00, ?it/s]"
            ]
          },
          "metadata": {},
          "output_type": "display_data"
        },
        {
          "data": {
            "application/vnd.jupyter.widget-view+json": {
              "model_id": "49ccd9f9a6df4a1d8aa14f62883fddf1",
              "version_major": 2,
              "version_minor": 0
            },
            "text/plain": [
              "Validation: 0it [00:00, ?it/s]"
            ]
          },
          "metadata": {},
          "output_type": "display_data"
        },
        {
          "data": {
            "application/vnd.jupyter.widget-view+json": {
              "model_id": "3edb5618c3864b10bd260cdb49ad7998",
              "version_major": 2,
              "version_minor": 0
            },
            "text/plain": [
              "Validation: 0it [00:00, ?it/s]"
            ]
          },
          "metadata": {},
          "output_type": "display_data"
        },
        {
          "data": {
            "application/vnd.jupyter.widget-view+json": {
              "model_id": "b6fe1ec4c5fb429d84d2026f353825d8",
              "version_major": 2,
              "version_minor": 0
            },
            "text/plain": [
              "Validation: 0it [00:00, ?it/s]"
            ]
          },
          "metadata": {},
          "output_type": "display_data"
        },
        {
          "data": {
            "application/vnd.jupyter.widget-view+json": {
              "model_id": "cdfa9756a6714e03aa9923a9a24c6834",
              "version_major": 2,
              "version_minor": 0
            },
            "text/plain": [
              "Validation: 0it [00:00, ?it/s]"
            ]
          },
          "metadata": {},
          "output_type": "display_data"
        },
        {
          "data": {
            "application/vnd.jupyter.widget-view+json": {
              "model_id": "c561c484cba246158ee5771b6be5e59a",
              "version_major": 2,
              "version_minor": 0
            },
            "text/plain": [
              "Validation: 0it [00:00, ?it/s]"
            ]
          },
          "metadata": {},
          "output_type": "display_data"
        },
        {
          "data": {
            "application/vnd.jupyter.widget-view+json": {
              "model_id": "bc1e98760b604eaf82c683968c895f95",
              "version_major": 2,
              "version_minor": 0
            },
            "text/plain": [
              "Validation: 0it [00:00, ?it/s]"
            ]
          },
          "metadata": {},
          "output_type": "display_data"
        },
        {
          "data": {
            "application/vnd.jupyter.widget-view+json": {
              "model_id": "dd114580483b4faeb6467b72d7761217",
              "version_major": 2,
              "version_minor": 0
            },
            "text/plain": [
              "Validation: 0it [00:00, ?it/s]"
            ]
          },
          "metadata": {},
          "output_type": "display_data"
        },
        {
          "data": {
            "application/vnd.jupyter.widget-view+json": {
              "model_id": "4beb54d82cf646d385f7241597f715d6",
              "version_major": 2,
              "version_minor": 0
            },
            "text/plain": [
              "Validation: 0it [00:00, ?it/s]"
            ]
          },
          "metadata": {},
          "output_type": "display_data"
        },
        {
          "data": {
            "application/vnd.jupyter.widget-view+json": {
              "model_id": "85bb89b0179a48209a6e1af42cd16622",
              "version_major": 2,
              "version_minor": 0
            },
            "text/plain": [
              "Validation: 0it [00:00, ?it/s]"
            ]
          },
          "metadata": {},
          "output_type": "display_data"
        },
        {
          "data": {
            "application/vnd.jupyter.widget-view+json": {
              "model_id": "179538eb21694e7ab257070224ff608b",
              "version_major": 2,
              "version_minor": 0
            },
            "text/plain": [
              "Validation: 0it [00:00, ?it/s]"
            ]
          },
          "metadata": {},
          "output_type": "display_data"
        },
        {
          "data": {
            "application/vnd.jupyter.widget-view+json": {
              "model_id": "48b3be36b58b4d8c8983e2953465fe46",
              "version_major": 2,
              "version_minor": 0
            },
            "text/plain": [
              "Validation: 0it [00:00, ?it/s]"
            ]
          },
          "metadata": {},
          "output_type": "display_data"
        },
        {
          "data": {
            "application/vnd.jupyter.widget-view+json": {
              "model_id": "b7a3cf6f3bcd4eac909f288a806dd381",
              "version_major": 2,
              "version_minor": 0
            },
            "text/plain": [
              "Validation: 0it [00:00, ?it/s]"
            ]
          },
          "metadata": {},
          "output_type": "display_data"
        },
        {
          "data": {
            "application/vnd.jupyter.widget-view+json": {
              "model_id": "858bd53958704235ae873def3183d75c",
              "version_major": 2,
              "version_minor": 0
            },
            "text/plain": [
              "Validation: 0it [00:00, ?it/s]"
            ]
          },
          "metadata": {},
          "output_type": "display_data"
        },
        {
          "data": {
            "application/vnd.jupyter.widget-view+json": {
              "model_id": "761d96efe24647309673375946359ece",
              "version_major": 2,
              "version_minor": 0
            },
            "text/plain": [
              "Validation: 0it [00:00, ?it/s]"
            ]
          },
          "metadata": {},
          "output_type": "display_data"
        },
        {
          "data": {
            "application/vnd.jupyter.widget-view+json": {
              "model_id": "19c2aa7056434d36845c37159d11bc8b",
              "version_major": 2,
              "version_minor": 0
            },
            "text/plain": [
              "Validation: 0it [00:00, ?it/s]"
            ]
          },
          "metadata": {},
          "output_type": "display_data"
        },
        {
          "data": {
            "application/vnd.jupyter.widget-view+json": {
              "model_id": "00ced4e3507d441ea43a16c712101e6f",
              "version_major": 2,
              "version_minor": 0
            },
            "text/plain": [
              "Validation: 0it [00:00, ?it/s]"
            ]
          },
          "metadata": {},
          "output_type": "display_data"
        },
        {
          "data": {
            "application/vnd.jupyter.widget-view+json": {
              "model_id": "7d106a675f4742ae928c1e4b0a9028ad",
              "version_major": 2,
              "version_minor": 0
            },
            "text/plain": [
              "Validation: 0it [00:00, ?it/s]"
            ]
          },
          "metadata": {},
          "output_type": "display_data"
        },
        {
          "data": {
            "application/vnd.jupyter.widget-view+json": {
              "model_id": "eb12878cf3454d02b7f97317d9a61274",
              "version_major": 2,
              "version_minor": 0
            },
            "text/plain": [
              "Validation: 0it [00:00, ?it/s]"
            ]
          },
          "metadata": {},
          "output_type": "display_data"
        },
        {
          "data": {
            "application/vnd.jupyter.widget-view+json": {
              "model_id": "d2735f8a2f774f74ab0b680cf9251275",
              "version_major": 2,
              "version_minor": 0
            },
            "text/plain": [
              "Validation: 0it [00:00, ?it/s]"
            ]
          },
          "metadata": {},
          "output_type": "display_data"
        },
        {
          "data": {
            "application/vnd.jupyter.widget-view+json": {
              "model_id": "cb4cc27f67c8416fb95c73db6ab71a48",
              "version_major": 2,
              "version_minor": 0
            },
            "text/plain": [
              "Validation: 0it [00:00, ?it/s]"
            ]
          },
          "metadata": {},
          "output_type": "display_data"
        },
        {
          "data": {
            "application/vnd.jupyter.widget-view+json": {
              "model_id": "682113b6c64b48de8e27643ba3e4d162",
              "version_major": 2,
              "version_minor": 0
            },
            "text/plain": [
              "Validation: 0it [00:00, ?it/s]"
            ]
          },
          "metadata": {},
          "output_type": "display_data"
        },
        {
          "data": {
            "application/vnd.jupyter.widget-view+json": {
              "model_id": "5dcf127a155a4ff693d216a16040e829",
              "version_major": 2,
              "version_minor": 0
            },
            "text/plain": [
              "Validation: 0it [00:00, ?it/s]"
            ]
          },
          "metadata": {},
          "output_type": "display_data"
        },
        {
          "data": {
            "application/vnd.jupyter.widget-view+json": {
              "model_id": "1b8d596f291548f7bc96c0add8f0211d",
              "version_major": 2,
              "version_minor": 0
            },
            "text/plain": [
              "Validation: 0it [00:00, ?it/s]"
            ]
          },
          "metadata": {},
          "output_type": "display_data"
        },
        {
          "data": {
            "application/vnd.jupyter.widget-view+json": {
              "model_id": "1fc5287aee09423d8611e64bf25b0320",
              "version_major": 2,
              "version_minor": 0
            },
            "text/plain": [
              "Validation: 0it [00:00, ?it/s]"
            ]
          },
          "metadata": {},
          "output_type": "display_data"
        },
        {
          "data": {
            "application/vnd.jupyter.widget-view+json": {
              "model_id": "23f173947edb4236a3232b9a55080158",
              "version_major": 2,
              "version_minor": 0
            },
            "text/plain": [
              "Validation: 0it [00:00, ?it/s]"
            ]
          },
          "metadata": {},
          "output_type": "display_data"
        },
        {
          "data": {
            "application/vnd.jupyter.widget-view+json": {
              "model_id": "6efa91946cd64fa79c9b62480007c42a",
              "version_major": 2,
              "version_minor": 0
            },
            "text/plain": [
              "Validation: 0it [00:00, ?it/s]"
            ]
          },
          "metadata": {},
          "output_type": "display_data"
        },
        {
          "data": {
            "application/vnd.jupyter.widget-view+json": {
              "model_id": "109d8b5511784bd2bfc8bb86bdc5340f",
              "version_major": 2,
              "version_minor": 0
            },
            "text/plain": [
              "Validation: 0it [00:00, ?it/s]"
            ]
          },
          "metadata": {},
          "output_type": "display_data"
        },
        {
          "data": {
            "application/vnd.jupyter.widget-view+json": {
              "model_id": "bb491b58f7dd422eb732b872d1118306",
              "version_major": 2,
              "version_minor": 0
            },
            "text/plain": [
              "Validation: 0it [00:00, ?it/s]"
            ]
          },
          "metadata": {},
          "output_type": "display_data"
        },
        {
          "data": {
            "application/vnd.jupyter.widget-view+json": {
              "model_id": "5b4853f281ee47d9a41de49370fbb67e",
              "version_major": 2,
              "version_minor": 0
            },
            "text/plain": [
              "Validation: 0it [00:00, ?it/s]"
            ]
          },
          "metadata": {},
          "output_type": "display_data"
        },
        {
          "data": {
            "application/vnd.jupyter.widget-view+json": {
              "model_id": "0fb974e0a989459bb7ff6f17380af7cc",
              "version_major": 2,
              "version_minor": 0
            },
            "text/plain": [
              "Validation: 0it [00:00, ?it/s]"
            ]
          },
          "metadata": {},
          "output_type": "display_data"
        },
        {
          "data": {
            "application/vnd.jupyter.widget-view+json": {
              "model_id": "4ed6ee9da509457e894b252c88274b5c",
              "version_major": 2,
              "version_minor": 0
            },
            "text/plain": [
              "Validation: 0it [00:00, ?it/s]"
            ]
          },
          "metadata": {},
          "output_type": "display_data"
        },
        {
          "data": {
            "application/vnd.jupyter.widget-view+json": {
              "model_id": "f0a3b75693f74f6cb033104279ef754a",
              "version_major": 2,
              "version_minor": 0
            },
            "text/plain": [
              "Validation: 0it [00:00, ?it/s]"
            ]
          },
          "metadata": {},
          "output_type": "display_data"
        },
        {
          "data": {
            "application/vnd.jupyter.widget-view+json": {
              "model_id": "c8ba3f7631fc4f798d46ce259b35b42a",
              "version_major": 2,
              "version_minor": 0
            },
            "text/plain": [
              "Validation: 0it [00:00, ?it/s]"
            ]
          },
          "metadata": {},
          "output_type": "display_data"
        },
        {
          "data": {
            "application/vnd.jupyter.widget-view+json": {
              "model_id": "bce13af869514978a238ede53b49500d",
              "version_major": 2,
              "version_minor": 0
            },
            "text/plain": [
              "Validation: 0it [00:00, ?it/s]"
            ]
          },
          "metadata": {},
          "output_type": "display_data"
        },
        {
          "data": {
            "application/vnd.jupyter.widget-view+json": {
              "model_id": "a211c9797c654d3d8a433bd7954f9689",
              "version_major": 2,
              "version_minor": 0
            },
            "text/plain": [
              "Validation: 0it [00:00, ?it/s]"
            ]
          },
          "metadata": {},
          "output_type": "display_data"
        },
        {
          "data": {
            "application/vnd.jupyter.widget-view+json": {
              "model_id": "9d831817cae547e8886434a0780af993",
              "version_major": 2,
              "version_minor": 0
            },
            "text/plain": [
              "Validation: 0it [00:00, ?it/s]"
            ]
          },
          "metadata": {},
          "output_type": "display_data"
        },
        {
          "data": {
            "application/vnd.jupyter.widget-view+json": {
              "model_id": "d94752e2a1014cd2b7eed2363e663107",
              "version_major": 2,
              "version_minor": 0
            },
            "text/plain": [
              "Validation: 0it [00:00, ?it/s]"
            ]
          },
          "metadata": {},
          "output_type": "display_data"
        },
        {
          "data": {
            "application/vnd.jupyter.widget-view+json": {
              "model_id": "29b8ac348c8143cc82ae95eddf9aa94d",
              "version_major": 2,
              "version_minor": 0
            },
            "text/plain": [
              "Validation: 0it [00:00, ?it/s]"
            ]
          },
          "metadata": {},
          "output_type": "display_data"
        },
        {
          "data": {
            "application/vnd.jupyter.widget-view+json": {
              "model_id": "608ed0fe07564e42b8610f89d90254f1",
              "version_major": 2,
              "version_minor": 0
            },
            "text/plain": [
              "Validation: 0it [00:00, ?it/s]"
            ]
          },
          "metadata": {},
          "output_type": "display_data"
        },
        {
          "data": {
            "application/vnd.jupyter.widget-view+json": {
              "model_id": "c38abfcf453b4d2894371c5bf83cdd62",
              "version_major": 2,
              "version_minor": 0
            },
            "text/plain": [
              "Validation: 0it [00:00, ?it/s]"
            ]
          },
          "metadata": {},
          "output_type": "display_data"
        },
        {
          "data": {
            "application/vnd.jupyter.widget-view+json": {
              "model_id": "ca2b1953e83a4bb3a9e21ad044143e58",
              "version_major": 2,
              "version_minor": 0
            },
            "text/plain": [
              "Validation: 0it [00:00, ?it/s]"
            ]
          },
          "metadata": {},
          "output_type": "display_data"
        },
        {
          "data": {
            "application/vnd.jupyter.widget-view+json": {
              "model_id": "ce70d0164f364380835e2f5e0b59f0e8",
              "version_major": 2,
              "version_minor": 0
            },
            "text/plain": [
              "Validation: 0it [00:00, ?it/s]"
            ]
          },
          "metadata": {},
          "output_type": "display_data"
        },
        {
          "data": {
            "application/vnd.jupyter.widget-view+json": {
              "model_id": "08a26e56d9e243fa8633c76f40c441bc",
              "version_major": 2,
              "version_minor": 0
            },
            "text/plain": [
              "Validation: 0it [00:00, ?it/s]"
            ]
          },
          "metadata": {},
          "output_type": "display_data"
        },
        {
          "data": {
            "application/vnd.jupyter.widget-view+json": {
              "model_id": "5b4075d01c42409688e3a5b28151d14b",
              "version_major": 2,
              "version_minor": 0
            },
            "text/plain": [
              "Validation: 0it [00:00, ?it/s]"
            ]
          },
          "metadata": {},
          "output_type": "display_data"
        },
        {
          "data": {
            "application/vnd.jupyter.widget-view+json": {
              "model_id": "a54e81a6cdd64107a6a9e2fce459ec0f",
              "version_major": 2,
              "version_minor": 0
            },
            "text/plain": [
              "Validation: 0it [00:00, ?it/s]"
            ]
          },
          "metadata": {},
          "output_type": "display_data"
        },
        {
          "data": {
            "application/vnd.jupyter.widget-view+json": {
              "model_id": "689703892b224d8caad1b6d6d9f47967",
              "version_major": 2,
              "version_minor": 0
            },
            "text/plain": [
              "Validation: 0it [00:00, ?it/s]"
            ]
          },
          "metadata": {},
          "output_type": "display_data"
        },
        {
          "data": {
            "application/vnd.jupyter.widget-view+json": {
              "model_id": "791c2ad0196343e6978adba1d407de5a",
              "version_major": 2,
              "version_minor": 0
            },
            "text/plain": [
              "Validation: 0it [00:00, ?it/s]"
            ]
          },
          "metadata": {},
          "output_type": "display_data"
        },
        {
          "data": {
            "application/vnd.jupyter.widget-view+json": {
              "model_id": "9c89dfa3096445bd857429ac4b5607e1",
              "version_major": 2,
              "version_minor": 0
            },
            "text/plain": [
              "Validation: 0it [00:00, ?it/s]"
            ]
          },
          "metadata": {},
          "output_type": "display_data"
        },
        {
          "data": {
            "application/vnd.jupyter.widget-view+json": {
              "model_id": "567bed738ba248ce8acb3cbd568f3ca3",
              "version_major": 2,
              "version_minor": 0
            },
            "text/plain": [
              "Validation: 0it [00:00, ?it/s]"
            ]
          },
          "metadata": {},
          "output_type": "display_data"
        },
        {
          "data": {
            "application/vnd.jupyter.widget-view+json": {
              "model_id": "d761f506639e48e7a788c0cdc660b04d",
              "version_major": 2,
              "version_minor": 0
            },
            "text/plain": [
              "Validation: 0it [00:00, ?it/s]"
            ]
          },
          "metadata": {},
          "output_type": "display_data"
        },
        {
          "data": {
            "application/vnd.jupyter.widget-view+json": {
              "model_id": "f6cb2042ea9d4e72bd2f107629094ef3",
              "version_major": 2,
              "version_minor": 0
            },
            "text/plain": [
              "Validation: 0it [00:00, ?it/s]"
            ]
          },
          "metadata": {},
          "output_type": "display_data"
        },
        {
          "data": {
            "application/vnd.jupyter.widget-view+json": {
              "model_id": "2012ff36929b4430bfc9a0b1e829c31c",
              "version_major": 2,
              "version_minor": 0
            },
            "text/plain": [
              "Validation: 0it [00:00, ?it/s]"
            ]
          },
          "metadata": {},
          "output_type": "display_data"
        },
        {
          "data": {
            "application/vnd.jupyter.widget-view+json": {
              "model_id": "69a4c5948f6446268157f440300a2bfb",
              "version_major": 2,
              "version_minor": 0
            },
            "text/plain": [
              "Validation: 0it [00:00, ?it/s]"
            ]
          },
          "metadata": {},
          "output_type": "display_data"
        },
        {
          "data": {
            "application/vnd.jupyter.widget-view+json": {
              "model_id": "33414204a8c2479ba52491ce5b545143",
              "version_major": 2,
              "version_minor": 0
            },
            "text/plain": [
              "Validation: 0it [00:00, ?it/s]"
            ]
          },
          "metadata": {},
          "output_type": "display_data"
        },
        {
          "data": {
            "application/vnd.jupyter.widget-view+json": {
              "model_id": "75fb59e51288492aab1ef0a066a1e009",
              "version_major": 2,
              "version_minor": 0
            },
            "text/plain": [
              "Validation: 0it [00:00, ?it/s]"
            ]
          },
          "metadata": {},
          "output_type": "display_data"
        },
        {
          "data": {
            "application/vnd.jupyter.widget-view+json": {
              "model_id": "3d4ba0877adf454ebc77579a58e87040",
              "version_major": 2,
              "version_minor": 0
            },
            "text/plain": [
              "Validation: 0it [00:00, ?it/s]"
            ]
          },
          "metadata": {},
          "output_type": "display_data"
        },
        {
          "data": {
            "application/vnd.jupyter.widget-view+json": {
              "model_id": "243e46445fe6439a9d0976a9164b2316",
              "version_major": 2,
              "version_minor": 0
            },
            "text/plain": [
              "Validation: 0it [00:00, ?it/s]"
            ]
          },
          "metadata": {},
          "output_type": "display_data"
        },
        {
          "data": {
            "application/vnd.jupyter.widget-view+json": {
              "model_id": "148eb7db61464795bbfeeebb3accb7a9",
              "version_major": 2,
              "version_minor": 0
            },
            "text/plain": [
              "Validation: 0it [00:00, ?it/s]"
            ]
          },
          "metadata": {},
          "output_type": "display_data"
        },
        {
          "data": {
            "application/vnd.jupyter.widget-view+json": {
              "model_id": "db6d7c39b2034b728deb52fccf4d9072",
              "version_major": 2,
              "version_minor": 0
            },
            "text/plain": [
              "Validation: 0it [00:00, ?it/s]"
            ]
          },
          "metadata": {},
          "output_type": "display_data"
        },
        {
          "data": {
            "application/vnd.jupyter.widget-view+json": {
              "model_id": "a14c86c98e8e41428c1a75a7ece4198e",
              "version_major": 2,
              "version_minor": 0
            },
            "text/plain": [
              "Validation: 0it [00:00, ?it/s]"
            ]
          },
          "metadata": {},
          "output_type": "display_data"
        },
        {
          "data": {
            "application/vnd.jupyter.widget-view+json": {
              "model_id": "f7b697b512bb43eba453f87bcba4e71c",
              "version_major": 2,
              "version_minor": 0
            },
            "text/plain": [
              "Validation: 0it [00:00, ?it/s]"
            ]
          },
          "metadata": {},
          "output_type": "display_data"
        },
        {
          "data": {
            "application/vnd.jupyter.widget-view+json": {
              "model_id": "90c065cf733b4d4284d4f0032d58d060",
              "version_major": 2,
              "version_minor": 0
            },
            "text/plain": [
              "Validation: 0it [00:00, ?it/s]"
            ]
          },
          "metadata": {},
          "output_type": "display_data"
        },
        {
          "data": {
            "application/vnd.jupyter.widget-view+json": {
              "model_id": "154d2cb5b663453b96225ae5083882b0",
              "version_major": 2,
              "version_minor": 0
            },
            "text/plain": [
              "Validation: 0it [00:00, ?it/s]"
            ]
          },
          "metadata": {},
          "output_type": "display_data"
        },
        {
          "data": {
            "application/vnd.jupyter.widget-view+json": {
              "model_id": "398c4385d1d248499865a75f54bdeea4",
              "version_major": 2,
              "version_minor": 0
            },
            "text/plain": [
              "Validation: 0it [00:00, ?it/s]"
            ]
          },
          "metadata": {},
          "output_type": "display_data"
        },
        {
          "data": {
            "application/vnd.jupyter.widget-view+json": {
              "model_id": "90dde52e15984a37877358117ad2641a",
              "version_major": 2,
              "version_minor": 0
            },
            "text/plain": [
              "Validation: 0it [00:00, ?it/s]"
            ]
          },
          "metadata": {},
          "output_type": "display_data"
        },
        {
          "data": {
            "application/vnd.jupyter.widget-view+json": {
              "model_id": "1331faf61161478b9695ee24901a89c7",
              "version_major": 2,
              "version_minor": 0
            },
            "text/plain": [
              "Validation: 0it [00:00, ?it/s]"
            ]
          },
          "metadata": {},
          "output_type": "display_data"
        },
        {
          "data": {
            "application/vnd.jupyter.widget-view+json": {
              "model_id": "0cecd5ba43ee435f845c2928868dd920",
              "version_major": 2,
              "version_minor": 0
            },
            "text/plain": [
              "Validation: 0it [00:00, ?it/s]"
            ]
          },
          "metadata": {},
          "output_type": "display_data"
        },
        {
          "data": {
            "application/vnd.jupyter.widget-view+json": {
              "model_id": "893d1c8d65ce40279352b6974a11e1bb",
              "version_major": 2,
              "version_minor": 0
            },
            "text/plain": [
              "Validation: 0it [00:00, ?it/s]"
            ]
          },
          "metadata": {},
          "output_type": "display_data"
        },
        {
          "data": {
            "application/vnd.jupyter.widget-view+json": {
              "model_id": "06029fc2067742dab41edf977132366b",
              "version_major": 2,
              "version_minor": 0
            },
            "text/plain": [
              "Validation: 0it [00:00, ?it/s]"
            ]
          },
          "metadata": {},
          "output_type": "display_data"
        },
        {
          "data": {
            "application/vnd.jupyter.widget-view+json": {
              "model_id": "a132bf7b3290453d89ad1adbafbff547",
              "version_major": 2,
              "version_minor": 0
            },
            "text/plain": [
              "Validation: 0it [00:00, ?it/s]"
            ]
          },
          "metadata": {},
          "output_type": "display_data"
        },
        {
          "data": {
            "application/vnd.jupyter.widget-view+json": {
              "model_id": "0ed0e95519ec4a19bbec3924475915bf",
              "version_major": 2,
              "version_minor": 0
            },
            "text/plain": [
              "Validation: 0it [00:00, ?it/s]"
            ]
          },
          "metadata": {},
          "output_type": "display_data"
        },
        {
          "data": {
            "application/vnd.jupyter.widget-view+json": {
              "model_id": "c7adef917d1241c4ba55ae9e94e10493",
              "version_major": 2,
              "version_minor": 0
            },
            "text/plain": [
              "Validation: 0it [00:00, ?it/s]"
            ]
          },
          "metadata": {},
          "output_type": "display_data"
        },
        {
          "data": {
            "application/vnd.jupyter.widget-view+json": {
              "model_id": "509fdcbd8e8e4810a74b4c2556c40b16",
              "version_major": 2,
              "version_minor": 0
            },
            "text/plain": [
              "Validation: 0it [00:00, ?it/s]"
            ]
          },
          "metadata": {},
          "output_type": "display_data"
        },
        {
          "data": {
            "application/vnd.jupyter.widget-view+json": {
              "model_id": "42592c2d27fe4fa0ac9be9d0bd808c6e",
              "version_major": 2,
              "version_minor": 0
            },
            "text/plain": [
              "Validation: 0it [00:00, ?it/s]"
            ]
          },
          "metadata": {},
          "output_type": "display_data"
        },
        {
          "data": {
            "application/vnd.jupyter.widget-view+json": {
              "model_id": "3a49d4b9530f4c2eb9d41aedfe061480",
              "version_major": 2,
              "version_minor": 0
            },
            "text/plain": [
              "Validation: 0it [00:00, ?it/s]"
            ]
          },
          "metadata": {},
          "output_type": "display_data"
        },
        {
          "data": {
            "application/vnd.jupyter.widget-view+json": {
              "model_id": "04099da6fd314d6282eebb4298aa353d",
              "version_major": 2,
              "version_minor": 0
            },
            "text/plain": [
              "Validation: 0it [00:00, ?it/s]"
            ]
          },
          "metadata": {},
          "output_type": "display_data"
        },
        {
          "data": {
            "application/vnd.jupyter.widget-view+json": {
              "model_id": "b4357462800543e4a0c9a8d2d09f2cfe",
              "version_major": 2,
              "version_minor": 0
            },
            "text/plain": [
              "Validation: 0it [00:00, ?it/s]"
            ]
          },
          "metadata": {},
          "output_type": "display_data"
        },
        {
          "data": {
            "application/vnd.jupyter.widget-view+json": {
              "model_id": "78406dc72bea46c9beaad3db2d6a3d6c",
              "version_major": 2,
              "version_minor": 0
            },
            "text/plain": [
              "Validation: 0it [00:00, ?it/s]"
            ]
          },
          "metadata": {},
          "output_type": "display_data"
        },
        {
          "data": {
            "application/vnd.jupyter.widget-view+json": {
              "model_id": "7f5b5286595c453fabacf91d4a2c3562",
              "version_major": 2,
              "version_minor": 0
            },
            "text/plain": [
              "Validation: 0it [00:00, ?it/s]"
            ]
          },
          "metadata": {},
          "output_type": "display_data"
        },
        {
          "data": {
            "application/vnd.jupyter.widget-view+json": {
              "model_id": "b833a7c6916c4047ad8f5570d52ca56d",
              "version_major": 2,
              "version_minor": 0
            },
            "text/plain": [
              "Validation: 0it [00:00, ?it/s]"
            ]
          },
          "metadata": {},
          "output_type": "display_data"
        },
        {
          "data": {
            "application/vnd.jupyter.widget-view+json": {
              "model_id": "e371ad38180e4998b6158f30fb0b097f",
              "version_major": 2,
              "version_minor": 0
            },
            "text/plain": [
              "Validation: 0it [00:00, ?it/s]"
            ]
          },
          "metadata": {},
          "output_type": "display_data"
        },
        {
          "data": {
            "application/vnd.jupyter.widget-view+json": {
              "model_id": "c77420f028d344dd83c86fe8926b0095",
              "version_major": 2,
              "version_minor": 0
            },
            "text/plain": [
              "Validation: 0it [00:00, ?it/s]"
            ]
          },
          "metadata": {},
          "output_type": "display_data"
        },
        {
          "data": {
            "application/vnd.jupyter.widget-view+json": {
              "model_id": "6900d05118364d619e665edca2ed7156",
              "version_major": 2,
              "version_minor": 0
            },
            "text/plain": [
              "Validation: 0it [00:00, ?it/s]"
            ]
          },
          "metadata": {},
          "output_type": "display_data"
        },
        {
          "data": {
            "application/vnd.jupyter.widget-view+json": {
              "model_id": "8361776124734dbf8d4f8f21962e4850",
              "version_major": 2,
              "version_minor": 0
            },
            "text/plain": [
              "Validation: 0it [00:00, ?it/s]"
            ]
          },
          "metadata": {},
          "output_type": "display_data"
        },
        {
          "data": {
            "application/vnd.jupyter.widget-view+json": {
              "model_id": "e5beacaf7f634099969937ff4bf46087",
              "version_major": 2,
              "version_minor": 0
            },
            "text/plain": [
              "Validation: 0it [00:00, ?it/s]"
            ]
          },
          "metadata": {},
          "output_type": "display_data"
        },
        {
          "data": {
            "application/vnd.jupyter.widget-view+json": {
              "model_id": "1a2ee2e42acd42d69888182d092d8988",
              "version_major": 2,
              "version_minor": 0
            },
            "text/plain": [
              "Validation: 0it [00:00, ?it/s]"
            ]
          },
          "metadata": {},
          "output_type": "display_data"
        },
        {
          "data": {
            "application/vnd.jupyter.widget-view+json": {
              "model_id": "c6408d47f2144f70a237e9f91d7add54",
              "version_major": 2,
              "version_minor": 0
            },
            "text/plain": [
              "Validation: 0it [00:00, ?it/s]"
            ]
          },
          "metadata": {},
          "output_type": "display_data"
        },
        {
          "data": {
            "application/vnd.jupyter.widget-view+json": {
              "model_id": "314c2425ca63497eb2ff0252cecfacc3",
              "version_major": 2,
              "version_minor": 0
            },
            "text/plain": [
              "Validation: 0it [00:00, ?it/s]"
            ]
          },
          "metadata": {},
          "output_type": "display_data"
        },
        {
          "data": {
            "application/vnd.jupyter.widget-view+json": {
              "model_id": "71584086f7264aefb1a9843b33292159",
              "version_major": 2,
              "version_minor": 0
            },
            "text/plain": [
              "Validation: 0it [00:00, ?it/s]"
            ]
          },
          "metadata": {},
          "output_type": "display_data"
        },
        {
          "data": {
            "application/vnd.jupyter.widget-view+json": {
              "model_id": "5f6f5b48552e4b3f910b54143014d7f2",
              "version_major": 2,
              "version_minor": 0
            },
            "text/plain": [
              "Validation: 0it [00:00, ?it/s]"
            ]
          },
          "metadata": {},
          "output_type": "display_data"
        },
        {
          "data": {
            "application/vnd.jupyter.widget-view+json": {
              "model_id": "0626945a333d4f12be9a41d814d87045",
              "version_major": 2,
              "version_minor": 0
            },
            "text/plain": [
              "Validation: 0it [00:00, ?it/s]"
            ]
          },
          "metadata": {},
          "output_type": "display_data"
        },
        {
          "data": {
            "application/vnd.jupyter.widget-view+json": {
              "model_id": "0674aa5398504038b6928238507e23c8",
              "version_major": 2,
              "version_minor": 0
            },
            "text/plain": [
              "Validation: 0it [00:00, ?it/s]"
            ]
          },
          "metadata": {},
          "output_type": "display_data"
        },
        {
          "data": {
            "application/vnd.jupyter.widget-view+json": {
              "model_id": "a3095bd9f0d84a7a9d7d134a826a42c1",
              "version_major": 2,
              "version_minor": 0
            },
            "text/plain": [
              "Validation: 0it [00:00, ?it/s]"
            ]
          },
          "metadata": {},
          "output_type": "display_data"
        },
        {
          "data": {
            "application/vnd.jupyter.widget-view+json": {
              "model_id": "93eb04d3d427409e9435089610c01e4e",
              "version_major": 2,
              "version_minor": 0
            },
            "text/plain": [
              "Validation: 0it [00:00, ?it/s]"
            ]
          },
          "metadata": {},
          "output_type": "display_data"
        },
        {
          "data": {
            "application/vnd.jupyter.widget-view+json": {
              "model_id": "894d6994798b4dc19bb90e0eb65713f1",
              "version_major": 2,
              "version_minor": 0
            },
            "text/plain": [
              "Validation: 0it [00:00, ?it/s]"
            ]
          },
          "metadata": {},
          "output_type": "display_data"
        },
        {
          "data": {
            "application/vnd.jupyter.widget-view+json": {
              "model_id": "cb1e21d3dc9a46f28e61dd6b3615d863",
              "version_major": 2,
              "version_minor": 0
            },
            "text/plain": [
              "Validation: 0it [00:00, ?it/s]"
            ]
          },
          "metadata": {},
          "output_type": "display_data"
        },
        {
          "data": {
            "application/vnd.jupyter.widget-view+json": {
              "model_id": "65b6240bd0a64817963b746e7254144c",
              "version_major": 2,
              "version_minor": 0
            },
            "text/plain": [
              "Validation: 0it [00:00, ?it/s]"
            ]
          },
          "metadata": {},
          "output_type": "display_data"
        },
        {
          "data": {
            "application/vnd.jupyter.widget-view+json": {
              "model_id": "ce09008d0f5245dc934c2be867e7c163",
              "version_major": 2,
              "version_minor": 0
            },
            "text/plain": [
              "Validation: 0it [00:00, ?it/s]"
            ]
          },
          "metadata": {},
          "output_type": "display_data"
        },
        {
          "data": {
            "application/vnd.jupyter.widget-view+json": {
              "model_id": "4f5d547677e14fae9c6d6952ae99600a",
              "version_major": 2,
              "version_minor": 0
            },
            "text/plain": [
              "Validation: 0it [00:00, ?it/s]"
            ]
          },
          "metadata": {},
          "output_type": "display_data"
        },
        {
          "data": {
            "application/vnd.jupyter.widget-view+json": {
              "model_id": "2beb034dcee84ea083704d15108b1256",
              "version_major": 2,
              "version_minor": 0
            },
            "text/plain": [
              "Validation: 0it [00:00, ?it/s]"
            ]
          },
          "metadata": {},
          "output_type": "display_data"
        },
        {
          "data": {
            "application/vnd.jupyter.widget-view+json": {
              "model_id": "e04019b439014f49b6673a276463c80f",
              "version_major": 2,
              "version_minor": 0
            },
            "text/plain": [
              "Validation: 0it [00:00, ?it/s]"
            ]
          },
          "metadata": {},
          "output_type": "display_data"
        },
        {
          "data": {
            "application/vnd.jupyter.widget-view+json": {
              "model_id": "d9227ba68db946c3a5f3debd111b3997",
              "version_major": 2,
              "version_minor": 0
            },
            "text/plain": [
              "Validation: 0it [00:00, ?it/s]"
            ]
          },
          "metadata": {},
          "output_type": "display_data"
        },
        {
          "data": {
            "application/vnd.jupyter.widget-view+json": {
              "model_id": "6b3bf6ef3e7246b8804807243aa4ec0d",
              "version_major": 2,
              "version_minor": 0
            },
            "text/plain": [
              "Validation: 0it [00:00, ?it/s]"
            ]
          },
          "metadata": {},
          "output_type": "display_data"
        },
        {
          "data": {
            "application/vnd.jupyter.widget-view+json": {
              "model_id": "ce365bdf0c574b70bc206736851317fb",
              "version_major": 2,
              "version_minor": 0
            },
            "text/plain": [
              "Validation: 0it [00:00, ?it/s]"
            ]
          },
          "metadata": {},
          "output_type": "display_data"
        },
        {
          "data": {
            "application/vnd.jupyter.widget-view+json": {
              "model_id": "c45d8aa27378422fa3c476fd28bc907f",
              "version_major": 2,
              "version_minor": 0
            },
            "text/plain": [
              "Validation: 0it [00:00, ?it/s]"
            ]
          },
          "metadata": {},
          "output_type": "display_data"
        },
        {
          "data": {
            "application/vnd.jupyter.widget-view+json": {
              "model_id": "1c60b7bb4cc74f6393306b44f37bc032",
              "version_major": 2,
              "version_minor": 0
            },
            "text/plain": [
              "Validation: 0it [00:00, ?it/s]"
            ]
          },
          "metadata": {},
          "output_type": "display_data"
        },
        {
          "data": {
            "application/vnd.jupyter.widget-view+json": {
              "model_id": "0b13f1d0d8884543be9ff1887b2decc0",
              "version_major": 2,
              "version_minor": 0
            },
            "text/plain": [
              "Validation: 0it [00:00, ?it/s]"
            ]
          },
          "metadata": {},
          "output_type": "display_data"
        },
        {
          "data": {
            "application/vnd.jupyter.widget-view+json": {
              "model_id": "5676d5159d044c28ace18c25794f0922",
              "version_major": 2,
              "version_minor": 0
            },
            "text/plain": [
              "Validation: 0it [00:00, ?it/s]"
            ]
          },
          "metadata": {},
          "output_type": "display_data"
        },
        {
          "data": {
            "application/vnd.jupyter.widget-view+json": {
              "model_id": "ff729ed5067f44a79c0e904fa7107827",
              "version_major": 2,
              "version_minor": 0
            },
            "text/plain": [
              "Validation: 0it [00:00, ?it/s]"
            ]
          },
          "metadata": {},
          "output_type": "display_data"
        },
        {
          "data": {
            "application/vnd.jupyter.widget-view+json": {
              "model_id": "c1a8fd21cef24004ab1e3fb67348d807",
              "version_major": 2,
              "version_minor": 0
            },
            "text/plain": [
              "Validation: 0it [00:00, ?it/s]"
            ]
          },
          "metadata": {},
          "output_type": "display_data"
        },
        {
          "data": {
            "application/vnd.jupyter.widget-view+json": {
              "model_id": "1b57b5efd8034e329f6f346b17d05629",
              "version_major": 2,
              "version_minor": 0
            },
            "text/plain": [
              "Validation: 0it [00:00, ?it/s]"
            ]
          },
          "metadata": {},
          "output_type": "display_data"
        },
        {
          "data": {
            "application/vnd.jupyter.widget-view+json": {
              "model_id": "d9d69ff97ca3469e988310052de55a98",
              "version_major": 2,
              "version_minor": 0
            },
            "text/plain": [
              "Validation: 0it [00:00, ?it/s]"
            ]
          },
          "metadata": {},
          "output_type": "display_data"
        },
        {
          "data": {
            "application/vnd.jupyter.widget-view+json": {
              "model_id": "6782cce64e4d482ea786d90f0414a7ef",
              "version_major": 2,
              "version_minor": 0
            },
            "text/plain": [
              "Validation: 0it [00:00, ?it/s]"
            ]
          },
          "metadata": {},
          "output_type": "display_data"
        },
        {
          "data": {
            "application/vnd.jupyter.widget-view+json": {
              "model_id": "18f4ab2600964a66b45e52c91d226b0c",
              "version_major": 2,
              "version_minor": 0
            },
            "text/plain": [
              "Validation: 0it [00:00, ?it/s]"
            ]
          },
          "metadata": {},
          "output_type": "display_data"
        },
        {
          "data": {
            "application/vnd.jupyter.widget-view+json": {
              "model_id": "3865eb775cd64c348553a10ae60e7738",
              "version_major": 2,
              "version_minor": 0
            },
            "text/plain": [
              "Validation: 0it [00:00, ?it/s]"
            ]
          },
          "metadata": {},
          "output_type": "display_data"
        },
        {
          "data": {
            "application/vnd.jupyter.widget-view+json": {
              "model_id": "f02a1bf4eaff47a3baeec0edd996a2ee",
              "version_major": 2,
              "version_minor": 0
            },
            "text/plain": [
              "Validation: 0it [00:00, ?it/s]"
            ]
          },
          "metadata": {},
          "output_type": "display_data"
        },
        {
          "data": {
            "application/vnd.jupyter.widget-view+json": {
              "model_id": "5476ca8c653846c892404579875e5801",
              "version_major": 2,
              "version_minor": 0
            },
            "text/plain": [
              "Validation: 0it [00:00, ?it/s]"
            ]
          },
          "metadata": {},
          "output_type": "display_data"
        },
        {
          "data": {
            "application/vnd.jupyter.widget-view+json": {
              "model_id": "f8837b6c27d246e9a6ec2a9b4e462daa",
              "version_major": 2,
              "version_minor": 0
            },
            "text/plain": [
              "Validation: 0it [00:00, ?it/s]"
            ]
          },
          "metadata": {},
          "output_type": "display_data"
        },
        {
          "data": {
            "application/vnd.jupyter.widget-view+json": {
              "model_id": "9187e72ad6ae470798d62fb3089a8eee",
              "version_major": 2,
              "version_minor": 0
            },
            "text/plain": [
              "Validation: 0it [00:00, ?it/s]"
            ]
          },
          "metadata": {},
          "output_type": "display_data"
        },
        {
          "data": {
            "application/vnd.jupyter.widget-view+json": {
              "model_id": "87f40e4b1aa443a784a3f6dbdc8c51c2",
              "version_major": 2,
              "version_minor": 0
            },
            "text/plain": [
              "Validation: 0it [00:00, ?it/s]"
            ]
          },
          "metadata": {},
          "output_type": "display_data"
        },
        {
          "data": {
            "application/vnd.jupyter.widget-view+json": {
              "model_id": "572d46f2245143a08ea99c42cf073689",
              "version_major": 2,
              "version_minor": 0
            },
            "text/plain": [
              "Validation: 0it [00:00, ?it/s]"
            ]
          },
          "metadata": {},
          "output_type": "display_data"
        },
        {
          "data": {
            "application/vnd.jupyter.widget-view+json": {
              "model_id": "7b065c08a4a444ec8212d87dab7aa77c",
              "version_major": 2,
              "version_minor": 0
            },
            "text/plain": [
              "Validation: 0it [00:00, ?it/s]"
            ]
          },
          "metadata": {},
          "output_type": "display_data"
        },
        {
          "data": {
            "application/vnd.jupyter.widget-view+json": {
              "model_id": "11bb91d717e24d6da7b326672a60a29c",
              "version_major": 2,
              "version_minor": 0
            },
            "text/plain": [
              "Validation: 0it [00:00, ?it/s]"
            ]
          },
          "metadata": {},
          "output_type": "display_data"
        },
        {
          "data": {
            "application/vnd.jupyter.widget-view+json": {
              "model_id": "49cf4ea1fc8d48c59c60e0540cac91a7",
              "version_major": 2,
              "version_minor": 0
            },
            "text/plain": [
              "Validation: 0it [00:00, ?it/s]"
            ]
          },
          "metadata": {},
          "output_type": "display_data"
        },
        {
          "data": {
            "application/vnd.jupyter.widget-view+json": {
              "model_id": "0afa48841c4d4913b06648a354091b0f",
              "version_major": 2,
              "version_minor": 0
            },
            "text/plain": [
              "Validation: 0it [00:00, ?it/s]"
            ]
          },
          "metadata": {},
          "output_type": "display_data"
        },
        {
          "data": {
            "application/vnd.jupyter.widget-view+json": {
              "model_id": "6dc9984fde804448afe8dd242157d39d",
              "version_major": 2,
              "version_minor": 0
            },
            "text/plain": [
              "Validation: 0it [00:00, ?it/s]"
            ]
          },
          "metadata": {},
          "output_type": "display_data"
        },
        {
          "data": {
            "application/vnd.jupyter.widget-view+json": {
              "model_id": "28419785232841c4be74d24c89523a25",
              "version_major": 2,
              "version_minor": 0
            },
            "text/plain": [
              "Validation: 0it [00:00, ?it/s]"
            ]
          },
          "metadata": {},
          "output_type": "display_data"
        },
        {
          "data": {
            "application/vnd.jupyter.widget-view+json": {
              "model_id": "3026b69190b14d518a232443a25d3175",
              "version_major": 2,
              "version_minor": 0
            },
            "text/plain": [
              "Validation: 0it [00:00, ?it/s]"
            ]
          },
          "metadata": {},
          "output_type": "display_data"
        },
        {
          "data": {
            "application/vnd.jupyter.widget-view+json": {
              "model_id": "ad722c7fb1eb4407a7a2c694bf5c6cbf",
              "version_major": 2,
              "version_minor": 0
            },
            "text/plain": [
              "Validation: 0it [00:00, ?it/s]"
            ]
          },
          "metadata": {},
          "output_type": "display_data"
        },
        {
          "data": {
            "application/vnd.jupyter.widget-view+json": {
              "model_id": "30ecf07992ae4cc38cd2c6f5bb904f62",
              "version_major": 2,
              "version_minor": 0
            },
            "text/plain": [
              "Validation: 0it [00:00, ?it/s]"
            ]
          },
          "metadata": {},
          "output_type": "display_data"
        },
        {
          "data": {
            "application/vnd.jupyter.widget-view+json": {
              "model_id": "1293ea271b4f43c791f931071331a3c5",
              "version_major": 2,
              "version_minor": 0
            },
            "text/plain": [
              "Validation: 0it [00:00, ?it/s]"
            ]
          },
          "metadata": {},
          "output_type": "display_data"
        },
        {
          "data": {
            "application/vnd.jupyter.widget-view+json": {
              "model_id": "33059b96c6b04ff9a2994931948d3d41",
              "version_major": 2,
              "version_minor": 0
            },
            "text/plain": [
              "Validation: 0it [00:00, ?it/s]"
            ]
          },
          "metadata": {},
          "output_type": "display_data"
        },
        {
          "data": {
            "application/vnd.jupyter.widget-view+json": {
              "model_id": "934c534d985a4a8d88aaf826bc90843f",
              "version_major": 2,
              "version_minor": 0
            },
            "text/plain": [
              "Validation: 0it [00:00, ?it/s]"
            ]
          },
          "metadata": {},
          "output_type": "display_data"
        },
        {
          "data": {
            "application/vnd.jupyter.widget-view+json": {
              "model_id": "4135ab20b1124e1e929a19c91229fa8b",
              "version_major": 2,
              "version_minor": 0
            },
            "text/plain": [
              "Validation: 0it [00:00, ?it/s]"
            ]
          },
          "metadata": {},
          "output_type": "display_data"
        },
        {
          "data": {
            "application/vnd.jupyter.widget-view+json": {
              "model_id": "7f7972ec18ec4682b39392677a5b5bfe",
              "version_major": 2,
              "version_minor": 0
            },
            "text/plain": [
              "Validation: 0it [00:00, ?it/s]"
            ]
          },
          "metadata": {},
          "output_type": "display_data"
        },
        {
          "data": {
            "application/vnd.jupyter.widget-view+json": {
              "model_id": "b6a45c392d0140b6a1557635ee33259c",
              "version_major": 2,
              "version_minor": 0
            },
            "text/plain": [
              "Validation: 0it [00:00, ?it/s]"
            ]
          },
          "metadata": {},
          "output_type": "display_data"
        },
        {
          "data": {
            "application/vnd.jupyter.widget-view+json": {
              "model_id": "283e32c6351642858b6ceeb3138d0152",
              "version_major": 2,
              "version_minor": 0
            },
            "text/plain": [
              "Validation: 0it [00:00, ?it/s]"
            ]
          },
          "metadata": {},
          "output_type": "display_data"
        },
        {
          "data": {
            "application/vnd.jupyter.widget-view+json": {
              "model_id": "5d9c2076fc74468ebf6d21d1b43f8d30",
              "version_major": 2,
              "version_minor": 0
            },
            "text/plain": [
              "Validation: 0it [00:00, ?it/s]"
            ]
          },
          "metadata": {},
          "output_type": "display_data"
        },
        {
          "data": {
            "application/vnd.jupyter.widget-view+json": {
              "model_id": "0aecafd66e5043b6a45657351e019ff5",
              "version_major": 2,
              "version_minor": 0
            },
            "text/plain": [
              "Validation: 0it [00:00, ?it/s]"
            ]
          },
          "metadata": {},
          "output_type": "display_data"
        },
        {
          "data": {
            "application/vnd.jupyter.widget-view+json": {
              "model_id": "f1f25ce338cc484d83ce067cdc80006f",
              "version_major": 2,
              "version_minor": 0
            },
            "text/plain": [
              "Validation: 0it [00:00, ?it/s]"
            ]
          },
          "metadata": {},
          "output_type": "display_data"
        },
        {
          "data": {
            "application/vnd.jupyter.widget-view+json": {
              "model_id": "934d08b722fb4978a5532238f5dc8473",
              "version_major": 2,
              "version_minor": 0
            },
            "text/plain": [
              "Validation: 0it [00:00, ?it/s]"
            ]
          },
          "metadata": {},
          "output_type": "display_data"
        },
        {
          "data": {
            "application/vnd.jupyter.widget-view+json": {
              "model_id": "e00b27217b1642afa1b6edf942967590",
              "version_major": 2,
              "version_minor": 0
            },
            "text/plain": [
              "Validation: 0it [00:00, ?it/s]"
            ]
          },
          "metadata": {},
          "output_type": "display_data"
        },
        {
          "data": {
            "application/vnd.jupyter.widget-view+json": {
              "model_id": "3ceebdf4021144c4abd36f67ee247189",
              "version_major": 2,
              "version_minor": 0
            },
            "text/plain": [
              "Validation: 0it [00:00, ?it/s]"
            ]
          },
          "metadata": {},
          "output_type": "display_data"
        },
        {
          "data": {
            "application/vnd.jupyter.widget-view+json": {
              "model_id": "4a9da00dc4d546e6a3107afeaeea43e8",
              "version_major": 2,
              "version_minor": 0
            },
            "text/plain": [
              "Validation: 0it [00:00, ?it/s]"
            ]
          },
          "metadata": {},
          "output_type": "display_data"
        },
        {
          "data": {
            "application/vnd.jupyter.widget-view+json": {
              "model_id": "9ea879a483f648ab9f071d8565762f83",
              "version_major": 2,
              "version_minor": 0
            },
            "text/plain": [
              "Validation: 0it [00:00, ?it/s]"
            ]
          },
          "metadata": {},
          "output_type": "display_data"
        },
        {
          "data": {
            "application/vnd.jupyter.widget-view+json": {
              "model_id": "2b8c4194d7f644f8bbe0e50d51d189fa",
              "version_major": 2,
              "version_minor": 0
            },
            "text/plain": [
              "Validation: 0it [00:00, ?it/s]"
            ]
          },
          "metadata": {},
          "output_type": "display_data"
        },
        {
          "data": {
            "application/vnd.jupyter.widget-view+json": {
              "model_id": "150d7f2494bf4b7c87d30bc85bfd4a03",
              "version_major": 2,
              "version_minor": 0
            },
            "text/plain": [
              "Validation: 0it [00:00, ?it/s]"
            ]
          },
          "metadata": {},
          "output_type": "display_data"
        },
        {
          "data": {
            "application/vnd.jupyter.widget-view+json": {
              "model_id": "e59f8823389840579330e937503e33b1",
              "version_major": 2,
              "version_minor": 0
            },
            "text/plain": [
              "Validation: 0it [00:00, ?it/s]"
            ]
          },
          "metadata": {},
          "output_type": "display_data"
        },
        {
          "data": {
            "application/vnd.jupyter.widget-view+json": {
              "model_id": "6e0f3d9d3f2247f19ff96948b1b62b7d",
              "version_major": 2,
              "version_minor": 0
            },
            "text/plain": [
              "Validation: 0it [00:00, ?it/s]"
            ]
          },
          "metadata": {},
          "output_type": "display_data"
        },
        {
          "data": {
            "application/vnd.jupyter.widget-view+json": {
              "model_id": "83248450fa4841218c422cebcf3395ab",
              "version_major": 2,
              "version_minor": 0
            },
            "text/plain": [
              "Validation: 0it [00:00, ?it/s]"
            ]
          },
          "metadata": {},
          "output_type": "display_data"
        },
        {
          "data": {
            "application/vnd.jupyter.widget-view+json": {
              "model_id": "9a81763e00894b1c84f7211853198caf",
              "version_major": 2,
              "version_minor": 0
            },
            "text/plain": [
              "Validation: 0it [00:00, ?it/s]"
            ]
          },
          "metadata": {},
          "output_type": "display_data"
        },
        {
          "data": {
            "application/vnd.jupyter.widget-view+json": {
              "model_id": "49e1b0b45e6a4bcba2797117059697bc",
              "version_major": 2,
              "version_minor": 0
            },
            "text/plain": [
              "Validation: 0it [00:00, ?it/s]"
            ]
          },
          "metadata": {},
          "output_type": "display_data"
        },
        {
          "data": {
            "application/vnd.jupyter.widget-view+json": {
              "model_id": "3e0c06e88f9b456da2c67cbbad24e6ea",
              "version_major": 2,
              "version_minor": 0
            },
            "text/plain": [
              "Validation: 0it [00:00, ?it/s]"
            ]
          },
          "metadata": {},
          "output_type": "display_data"
        },
        {
          "data": {
            "application/vnd.jupyter.widget-view+json": {
              "model_id": "711c1aa7548e46ea96e0cbeb58e2eb34",
              "version_major": 2,
              "version_minor": 0
            },
            "text/plain": [
              "Validation: 0it [00:00, ?it/s]"
            ]
          },
          "metadata": {},
          "output_type": "display_data"
        },
        {
          "data": {
            "application/vnd.jupyter.widget-view+json": {
              "model_id": "ddafb17240974e0da34e4990f8e04ea0",
              "version_major": 2,
              "version_minor": 0
            },
            "text/plain": [
              "Validation: 0it [00:00, ?it/s]"
            ]
          },
          "metadata": {},
          "output_type": "display_data"
        },
        {
          "data": {
            "application/vnd.jupyter.widget-view+json": {
              "model_id": "3dd8142116d34f49ba371517cae3585f",
              "version_major": 2,
              "version_minor": 0
            },
            "text/plain": [
              "Validation: 0it [00:00, ?it/s]"
            ]
          },
          "metadata": {},
          "output_type": "display_data"
        },
        {
          "data": {
            "application/vnd.jupyter.widget-view+json": {
              "model_id": "32f7c7bd080349148cfbf0473d5a408a",
              "version_major": 2,
              "version_minor": 0
            },
            "text/plain": [
              "Validation: 0it [00:00, ?it/s]"
            ]
          },
          "metadata": {},
          "output_type": "display_data"
        },
        {
          "data": {
            "application/vnd.jupyter.widget-view+json": {
              "model_id": "bf988b6ea2b34899b755ac1ed715bb4a",
              "version_major": 2,
              "version_minor": 0
            },
            "text/plain": [
              "Validation: 0it [00:00, ?it/s]"
            ]
          },
          "metadata": {},
          "output_type": "display_data"
        },
        {
          "data": {
            "application/vnd.jupyter.widget-view+json": {
              "model_id": "776eea2588bf40be85454b5431fa5f7c",
              "version_major": 2,
              "version_minor": 0
            },
            "text/plain": [
              "Validation: 0it [00:00, ?it/s]"
            ]
          },
          "metadata": {},
          "output_type": "display_data"
        },
        {
          "data": {
            "application/vnd.jupyter.widget-view+json": {
              "model_id": "9a322b710dbc4bd49da9d7424adfa0a0",
              "version_major": 2,
              "version_minor": 0
            },
            "text/plain": [
              "Validation: 0it [00:00, ?it/s]"
            ]
          },
          "metadata": {},
          "output_type": "display_data"
        },
        {
          "data": {
            "application/vnd.jupyter.widget-view+json": {
              "model_id": "8825bde7e0264a19bb53a89b6307cf92",
              "version_major": 2,
              "version_minor": 0
            },
            "text/plain": [
              "Validation: 0it [00:00, ?it/s]"
            ]
          },
          "metadata": {},
          "output_type": "display_data"
        },
        {
          "data": {
            "application/vnd.jupyter.widget-view+json": {
              "model_id": "2dc9f432c0564c6b89ef57898d5451ab",
              "version_major": 2,
              "version_minor": 0
            },
            "text/plain": [
              "Validation: 0it [00:00, ?it/s]"
            ]
          },
          "metadata": {},
          "output_type": "display_data"
        },
        {
          "data": {
            "application/vnd.jupyter.widget-view+json": {
              "model_id": "89a7a426e55b4580a28ab8c638b9a2fb",
              "version_major": 2,
              "version_minor": 0
            },
            "text/plain": [
              "Validation: 0it [00:00, ?it/s]"
            ]
          },
          "metadata": {},
          "output_type": "display_data"
        },
        {
          "data": {
            "application/vnd.jupyter.widget-view+json": {
              "model_id": "3c0c69642db04b54acc2ee8c08736ad5",
              "version_major": 2,
              "version_minor": 0
            },
            "text/plain": [
              "Validation: 0it [00:00, ?it/s]"
            ]
          },
          "metadata": {},
          "output_type": "display_data"
        },
        {
          "data": {
            "application/vnd.jupyter.widget-view+json": {
              "model_id": "f3ec00bb4b72489886c0ef36d6fe24f5",
              "version_major": 2,
              "version_minor": 0
            },
            "text/plain": [
              "Validation: 0it [00:00, ?it/s]"
            ]
          },
          "metadata": {},
          "output_type": "display_data"
        },
        {
          "data": {
            "application/vnd.jupyter.widget-view+json": {
              "model_id": "88c61ff796724dffb76d309786ce02ae",
              "version_major": 2,
              "version_minor": 0
            },
            "text/plain": [
              "Validation: 0it [00:00, ?it/s]"
            ]
          },
          "metadata": {},
          "output_type": "display_data"
        },
        {
          "data": {
            "application/vnd.jupyter.widget-view+json": {
              "model_id": "5016f88ca09748048373260483247322",
              "version_major": 2,
              "version_minor": 0
            },
            "text/plain": [
              "Validation: 0it [00:00, ?it/s]"
            ]
          },
          "metadata": {},
          "output_type": "display_data"
        },
        {
          "data": {
            "application/vnd.jupyter.widget-view+json": {
              "model_id": "e0ab9301825a4a9f8cbad68409e6b725",
              "version_major": 2,
              "version_minor": 0
            },
            "text/plain": [
              "Validation: 0it [00:00, ?it/s]"
            ]
          },
          "metadata": {},
          "output_type": "display_data"
        },
        {
          "data": {
            "application/vnd.jupyter.widget-view+json": {
              "model_id": "5fd6089b47a94f959b4a1482012a031c",
              "version_major": 2,
              "version_minor": 0
            },
            "text/plain": [
              "Validation: 0it [00:00, ?it/s]"
            ]
          },
          "metadata": {},
          "output_type": "display_data"
        },
        {
          "data": {
            "application/vnd.jupyter.widget-view+json": {
              "model_id": "9bbbc93a2c164971bc9ac07c55810e3a",
              "version_major": 2,
              "version_minor": 0
            },
            "text/plain": [
              "Validation: 0it [00:00, ?it/s]"
            ]
          },
          "metadata": {},
          "output_type": "display_data"
        },
        {
          "data": {
            "application/vnd.jupyter.widget-view+json": {
              "model_id": "8dffa00d50a54ca3b65354a53fa68e96",
              "version_major": 2,
              "version_minor": 0
            },
            "text/plain": [
              "Validation: 0it [00:00, ?it/s]"
            ]
          },
          "metadata": {},
          "output_type": "display_data"
        },
        {
          "data": {
            "application/vnd.jupyter.widget-view+json": {
              "model_id": "f0addc44330647858a0ba479e160f2d9",
              "version_major": 2,
              "version_minor": 0
            },
            "text/plain": [
              "Validation: 0it [00:00, ?it/s]"
            ]
          },
          "metadata": {},
          "output_type": "display_data"
        },
        {
          "data": {
            "application/vnd.jupyter.widget-view+json": {
              "model_id": "169606306be54bc2a4241649b1734504",
              "version_major": 2,
              "version_minor": 0
            },
            "text/plain": [
              "Validation: 0it [00:00, ?it/s]"
            ]
          },
          "metadata": {},
          "output_type": "display_data"
        },
        {
          "data": {
            "application/vnd.jupyter.widget-view+json": {
              "model_id": "48e006fddd0f452b93693929da96e393",
              "version_major": 2,
              "version_minor": 0
            },
            "text/plain": [
              "Validation: 0it [00:00, ?it/s]"
            ]
          },
          "metadata": {},
          "output_type": "display_data"
        },
        {
          "data": {
            "application/vnd.jupyter.widget-view+json": {
              "model_id": "fe14fb1796c04ea88a3999e73d02e5c2",
              "version_major": 2,
              "version_minor": 0
            },
            "text/plain": [
              "Validation: 0it [00:00, ?it/s]"
            ]
          },
          "metadata": {},
          "output_type": "display_data"
        },
        {
          "data": {
            "application/vnd.jupyter.widget-view+json": {
              "model_id": "b0b12ae2b3614f4fbed8d707cdab487e",
              "version_major": 2,
              "version_minor": 0
            },
            "text/plain": [
              "Validation: 0it [00:00, ?it/s]"
            ]
          },
          "metadata": {},
          "output_type": "display_data"
        },
        {
          "data": {
            "application/vnd.jupyter.widget-view+json": {
              "model_id": "35ac0a9dcff949b595eb38e92dbfc50e",
              "version_major": 2,
              "version_minor": 0
            },
            "text/plain": [
              "Validation: 0it [00:00, ?it/s]"
            ]
          },
          "metadata": {},
          "output_type": "display_data"
        },
        {
          "data": {
            "application/vnd.jupyter.widget-view+json": {
              "model_id": "cf6cb8f08c6145dc93e49033cd2c78b0",
              "version_major": 2,
              "version_minor": 0
            },
            "text/plain": [
              "Validation: 0it [00:00, ?it/s]"
            ]
          },
          "metadata": {},
          "output_type": "display_data"
        },
        {
          "data": {
            "application/vnd.jupyter.widget-view+json": {
              "model_id": "ad6cc1a34b714f369bb61b371060220b",
              "version_major": 2,
              "version_minor": 0
            },
            "text/plain": [
              "Validation: 0it [00:00, ?it/s]"
            ]
          },
          "metadata": {},
          "output_type": "display_data"
        },
        {
          "data": {
            "application/vnd.jupyter.widget-view+json": {
              "model_id": "8a9c156396c74beeab7d1dd725251761",
              "version_major": 2,
              "version_minor": 0
            },
            "text/plain": [
              "Validation: 0it [00:00, ?it/s]"
            ]
          },
          "metadata": {},
          "output_type": "display_data"
        },
        {
          "data": {
            "application/vnd.jupyter.widget-view+json": {
              "model_id": "0a59d7f8198d44b4a1c17d3eb89d4cba",
              "version_major": 2,
              "version_minor": 0
            },
            "text/plain": [
              "Validation: 0it [00:00, ?it/s]"
            ]
          },
          "metadata": {},
          "output_type": "display_data"
        },
        {
          "data": {
            "application/vnd.jupyter.widget-view+json": {
              "model_id": "cfe62e0d1c274bbbb947e5b37f6b874e",
              "version_major": 2,
              "version_minor": 0
            },
            "text/plain": [
              "Validation: 0it [00:00, ?it/s]"
            ]
          },
          "metadata": {},
          "output_type": "display_data"
        },
        {
          "data": {
            "application/vnd.jupyter.widget-view+json": {
              "model_id": "bb45b58b6d1a44d2bf69a9273b3190cd",
              "version_major": 2,
              "version_minor": 0
            },
            "text/plain": [
              "Validation: 0it [00:00, ?it/s]"
            ]
          },
          "metadata": {},
          "output_type": "display_data"
        },
        {
          "data": {
            "application/vnd.jupyter.widget-view+json": {
              "model_id": "e56c86ec25e24df18297f0051195c002",
              "version_major": 2,
              "version_minor": 0
            },
            "text/plain": [
              "Validation: 0it [00:00, ?it/s]"
            ]
          },
          "metadata": {},
          "output_type": "display_data"
        },
        {
          "data": {
            "application/vnd.jupyter.widget-view+json": {
              "model_id": "13d976ba3b444c158a82c08e2e53fc2e",
              "version_major": 2,
              "version_minor": 0
            },
            "text/plain": [
              "Validation: 0it [00:00, ?it/s]"
            ]
          },
          "metadata": {},
          "output_type": "display_data"
        },
        {
          "data": {
            "application/vnd.jupyter.widget-view+json": {
              "model_id": "2415395468884a1789de842519ad7b63",
              "version_major": 2,
              "version_minor": 0
            },
            "text/plain": [
              "Validation: 0it [00:00, ?it/s]"
            ]
          },
          "metadata": {},
          "output_type": "display_data"
        },
        {
          "data": {
            "application/vnd.jupyter.widget-view+json": {
              "model_id": "f61ffc75c1a544d3b449b2c6d0e78e7c",
              "version_major": 2,
              "version_minor": 0
            },
            "text/plain": [
              "Validation: 0it [00:00, ?it/s]"
            ]
          },
          "metadata": {},
          "output_type": "display_data"
        },
        {
          "data": {
            "application/vnd.jupyter.widget-view+json": {
              "model_id": "fad971697cb2437097f561f1814d2c4e",
              "version_major": 2,
              "version_minor": 0
            },
            "text/plain": [
              "Validation: 0it [00:00, ?it/s]"
            ]
          },
          "metadata": {},
          "output_type": "display_data"
        },
        {
          "data": {
            "application/vnd.jupyter.widget-view+json": {
              "model_id": "f224e0f4e17644c78fb486c0af81ebe3",
              "version_major": 2,
              "version_minor": 0
            },
            "text/plain": [
              "Validation: 0it [00:00, ?it/s]"
            ]
          },
          "metadata": {},
          "output_type": "display_data"
        },
        {
          "data": {
            "application/vnd.jupyter.widget-view+json": {
              "model_id": "7cbcea32d61941ed89000af061d1ca5a",
              "version_major": 2,
              "version_minor": 0
            },
            "text/plain": [
              "Validation: 0it [00:00, ?it/s]"
            ]
          },
          "metadata": {},
          "output_type": "display_data"
        },
        {
          "data": {
            "application/vnd.jupyter.widget-view+json": {
              "model_id": "c28401ac856744b6a3394660aa345de0",
              "version_major": 2,
              "version_minor": 0
            },
            "text/plain": [
              "Validation: 0it [00:00, ?it/s]"
            ]
          },
          "metadata": {},
          "output_type": "display_data"
        },
        {
          "data": {
            "application/vnd.jupyter.widget-view+json": {
              "model_id": "ce85c8dc807e4cc19be2c52092a43e42",
              "version_major": 2,
              "version_minor": 0
            },
            "text/plain": [
              "Validation: 0it [00:00, ?it/s]"
            ]
          },
          "metadata": {},
          "output_type": "display_data"
        },
        {
          "data": {
            "application/vnd.jupyter.widget-view+json": {
              "model_id": "0a51a7a1ee354cd9b7d4898981673d48",
              "version_major": 2,
              "version_minor": 0
            },
            "text/plain": [
              "Validation: 0it [00:00, ?it/s]"
            ]
          },
          "metadata": {},
          "output_type": "display_data"
        },
        {
          "data": {
            "application/vnd.jupyter.widget-view+json": {
              "model_id": "7783e6ee184641de852f5a6dbb24ce0a",
              "version_major": 2,
              "version_minor": 0
            },
            "text/plain": [
              "Validation: 0it [00:00, ?it/s]"
            ]
          },
          "metadata": {},
          "output_type": "display_data"
        },
        {
          "data": {
            "application/vnd.jupyter.widget-view+json": {
              "model_id": "2d86fdfd9e184b308bf1781bb6df6679",
              "version_major": 2,
              "version_minor": 0
            },
            "text/plain": [
              "Validation: 0it [00:00, ?it/s]"
            ]
          },
          "metadata": {},
          "output_type": "display_data"
        },
        {
          "data": {
            "application/vnd.jupyter.widget-view+json": {
              "model_id": "171988ce275a4eae9ed36e5761f68824",
              "version_major": 2,
              "version_minor": 0
            },
            "text/plain": [
              "Validation: 0it [00:00, ?it/s]"
            ]
          },
          "metadata": {},
          "output_type": "display_data"
        },
        {
          "data": {
            "application/vnd.jupyter.widget-view+json": {
              "model_id": "2399b81671254346ab7e978cfed8defb",
              "version_major": 2,
              "version_minor": 0
            },
            "text/plain": [
              "Validation: 0it [00:00, ?it/s]"
            ]
          },
          "metadata": {},
          "output_type": "display_data"
        },
        {
          "data": {
            "application/vnd.jupyter.widget-view+json": {
              "model_id": "969859216e234cde8c0fdf16acdc8755",
              "version_major": 2,
              "version_minor": 0
            },
            "text/plain": [
              "Validation: 0it [00:00, ?it/s]"
            ]
          },
          "metadata": {},
          "output_type": "display_data"
        },
        {
          "data": {
            "application/vnd.jupyter.widget-view+json": {
              "model_id": "6da63652410a43a0a05c0361e197c31a",
              "version_major": 2,
              "version_minor": 0
            },
            "text/plain": [
              "Validation: 0it [00:00, ?it/s]"
            ]
          },
          "metadata": {},
          "output_type": "display_data"
        },
        {
          "data": {
            "application/vnd.jupyter.widget-view+json": {
              "model_id": "aae667e7c8b149db8f611d6e1876c099",
              "version_major": 2,
              "version_minor": 0
            },
            "text/plain": [
              "Validation: 0it [00:00, ?it/s]"
            ]
          },
          "metadata": {},
          "output_type": "display_data"
        },
        {
          "data": {
            "application/vnd.jupyter.widget-view+json": {
              "model_id": "58ea4538ac3d46a9b2f6db93b181ecbe",
              "version_major": 2,
              "version_minor": 0
            },
            "text/plain": [
              "Validation: 0it [00:00, ?it/s]"
            ]
          },
          "metadata": {},
          "output_type": "display_data"
        },
        {
          "data": {
            "application/vnd.jupyter.widget-view+json": {
              "model_id": "29125ed02dbc477c949ea0ddbaa628f5",
              "version_major": 2,
              "version_minor": 0
            },
            "text/plain": [
              "Validation: 0it [00:00, ?it/s]"
            ]
          },
          "metadata": {},
          "output_type": "display_data"
        },
        {
          "data": {
            "application/vnd.jupyter.widget-view+json": {
              "model_id": "ccc79f8d0f354a3b9673cf07a5cebe17",
              "version_major": 2,
              "version_minor": 0
            },
            "text/plain": [
              "Validation: 0it [00:00, ?it/s]"
            ]
          },
          "metadata": {},
          "output_type": "display_data"
        },
        {
          "data": {
            "application/vnd.jupyter.widget-view+json": {
              "model_id": "1179c35a89da43c1965413a0025b6fa6",
              "version_major": 2,
              "version_minor": 0
            },
            "text/plain": [
              "Validation: 0it [00:00, ?it/s]"
            ]
          },
          "metadata": {},
          "output_type": "display_data"
        },
        {
          "data": {
            "application/vnd.jupyter.widget-view+json": {
              "model_id": "546ab9ca4a9a49f0b0fb0576e234fb9c",
              "version_major": 2,
              "version_minor": 0
            },
            "text/plain": [
              "Validation: 0it [00:00, ?it/s]"
            ]
          },
          "metadata": {},
          "output_type": "display_data"
        },
        {
          "data": {
            "application/vnd.jupyter.widget-view+json": {
              "model_id": "6fdb2014df9143d69a5b0c7447854713",
              "version_major": 2,
              "version_minor": 0
            },
            "text/plain": [
              "Validation: 0it [00:00, ?it/s]"
            ]
          },
          "metadata": {},
          "output_type": "display_data"
        },
        {
          "data": {
            "application/vnd.jupyter.widget-view+json": {
              "model_id": "4e664f6edc19451197a72dea45bc6b64",
              "version_major": 2,
              "version_minor": 0
            },
            "text/plain": [
              "Validation: 0it [00:00, ?it/s]"
            ]
          },
          "metadata": {},
          "output_type": "display_data"
        },
        {
          "data": {
            "application/vnd.jupyter.widget-view+json": {
              "model_id": "5c161b6ebd20460488c023e6b616284f",
              "version_major": 2,
              "version_minor": 0
            },
            "text/plain": [
              "Validation: 0it [00:00, ?it/s]"
            ]
          },
          "metadata": {},
          "output_type": "display_data"
        },
        {
          "data": {
            "application/vnd.jupyter.widget-view+json": {
              "model_id": "4373b70f410b49278dd67f6532139001",
              "version_major": 2,
              "version_minor": 0
            },
            "text/plain": [
              "Validation: 0it [00:00, ?it/s]"
            ]
          },
          "metadata": {},
          "output_type": "display_data"
        },
        {
          "data": {
            "application/vnd.jupyter.widget-view+json": {
              "model_id": "cc8024fa78a7416c95b3ab7a493ac66b",
              "version_major": 2,
              "version_minor": 0
            },
            "text/plain": [
              "Validation: 0it [00:00, ?it/s]"
            ]
          },
          "metadata": {},
          "output_type": "display_data"
        },
        {
          "data": {
            "application/vnd.jupyter.widget-view+json": {
              "model_id": "19eb2c7b2a374a07b4b780d4c4fc332d",
              "version_major": 2,
              "version_minor": 0
            },
            "text/plain": [
              "Validation: 0it [00:00, ?it/s]"
            ]
          },
          "metadata": {},
          "output_type": "display_data"
        },
        {
          "data": {
            "application/vnd.jupyter.widget-view+json": {
              "model_id": "35cf9dff884243a4b245f2a6b212a11e",
              "version_major": 2,
              "version_minor": 0
            },
            "text/plain": [
              "Validation: 0it [00:00, ?it/s]"
            ]
          },
          "metadata": {},
          "output_type": "display_data"
        },
        {
          "data": {
            "application/vnd.jupyter.widget-view+json": {
              "model_id": "01dc1bdbcf5249c9a881057de43cea3c",
              "version_major": 2,
              "version_minor": 0
            },
            "text/plain": [
              "Validation: 0it [00:00, ?it/s]"
            ]
          },
          "metadata": {},
          "output_type": "display_data"
        },
        {
          "data": {
            "application/vnd.jupyter.widget-view+json": {
              "model_id": "5893e2dc1e2043628124a35935a01ee2",
              "version_major": 2,
              "version_minor": 0
            },
            "text/plain": [
              "Validation: 0it [00:00, ?it/s]"
            ]
          },
          "metadata": {},
          "output_type": "display_data"
        },
        {
          "data": {
            "application/vnd.jupyter.widget-view+json": {
              "model_id": "b3e52ea8871f4e52a0a21fb56f03ba80",
              "version_major": 2,
              "version_minor": 0
            },
            "text/plain": [
              "Validation: 0it [00:00, ?it/s]"
            ]
          },
          "metadata": {},
          "output_type": "display_data"
        },
        {
          "data": {
            "application/vnd.jupyter.widget-view+json": {
              "model_id": "aebc1300c4734a7388e71c4a754cd8fd",
              "version_major": 2,
              "version_minor": 0
            },
            "text/plain": [
              "Validation: 0it [00:00, ?it/s]"
            ]
          },
          "metadata": {},
          "output_type": "display_data"
        },
        {
          "data": {
            "application/vnd.jupyter.widget-view+json": {
              "model_id": "5a80203c0b1b4b5ab2712a7151c2aa8c",
              "version_major": 2,
              "version_minor": 0
            },
            "text/plain": [
              "Validation: 0it [00:00, ?it/s]"
            ]
          },
          "metadata": {},
          "output_type": "display_data"
        },
        {
          "data": {
            "application/vnd.jupyter.widget-view+json": {
              "model_id": "0a072675323842f8b1c35ae2ca73e8a0",
              "version_major": 2,
              "version_minor": 0
            },
            "text/plain": [
              "Validation: 0it [00:00, ?it/s]"
            ]
          },
          "metadata": {},
          "output_type": "display_data"
        },
        {
          "data": {
            "application/vnd.jupyter.widget-view+json": {
              "model_id": "19093abdae2445f08430c9c58f2d11e5",
              "version_major": 2,
              "version_minor": 0
            },
            "text/plain": [
              "Validation: 0it [00:00, ?it/s]"
            ]
          },
          "metadata": {},
          "output_type": "display_data"
        },
        {
          "data": {
            "application/vnd.jupyter.widget-view+json": {
              "model_id": "b754b28e33c0413f9861b5d1202294a7",
              "version_major": 2,
              "version_minor": 0
            },
            "text/plain": [
              "Validation: 0it [00:00, ?it/s]"
            ]
          },
          "metadata": {},
          "output_type": "display_data"
        },
        {
          "data": {
            "application/vnd.jupyter.widget-view+json": {
              "model_id": "a0bc6a18968d4512803f92b01422c4d0",
              "version_major": 2,
              "version_minor": 0
            },
            "text/plain": [
              "Validation: 0it [00:00, ?it/s]"
            ]
          },
          "metadata": {},
          "output_type": "display_data"
        },
        {
          "data": {
            "application/vnd.jupyter.widget-view+json": {
              "model_id": "1d8af9a5b9194c648c5f4fff341c5a2a",
              "version_major": 2,
              "version_minor": 0
            },
            "text/plain": [
              "Validation: 0it [00:00, ?it/s]"
            ]
          },
          "metadata": {},
          "output_type": "display_data"
        },
        {
          "data": {
            "application/vnd.jupyter.widget-view+json": {
              "model_id": "03a6f17d439042af846444d50871437d",
              "version_major": 2,
              "version_minor": 0
            },
            "text/plain": [
              "Validation: 0it [00:00, ?it/s]"
            ]
          },
          "metadata": {},
          "output_type": "display_data"
        },
        {
          "data": {
            "application/vnd.jupyter.widget-view+json": {
              "model_id": "f2b6c5ce5ed04293a7631a2c307ec3c8",
              "version_major": 2,
              "version_minor": 0
            },
            "text/plain": [
              "Validation: 0it [00:00, ?it/s]"
            ]
          },
          "metadata": {},
          "output_type": "display_data"
        },
        {
          "data": {
            "application/vnd.jupyter.widget-view+json": {
              "model_id": "d6e1262ace6f42ecbff447c72d3637d9",
              "version_major": 2,
              "version_minor": 0
            },
            "text/plain": [
              "Validation: 0it [00:00, ?it/s]"
            ]
          },
          "metadata": {},
          "output_type": "display_data"
        },
        {
          "data": {
            "application/vnd.jupyter.widget-view+json": {
              "model_id": "286dfa492ecc4d6f98f50e194c737b87",
              "version_major": 2,
              "version_minor": 0
            },
            "text/plain": [
              "Validation: 0it [00:00, ?it/s]"
            ]
          },
          "metadata": {},
          "output_type": "display_data"
        },
        {
          "data": {
            "application/vnd.jupyter.widget-view+json": {
              "model_id": "d0bc501382994368be7b8a2ead586584",
              "version_major": 2,
              "version_minor": 0
            },
            "text/plain": [
              "Validation: 0it [00:00, ?it/s]"
            ]
          },
          "metadata": {},
          "output_type": "display_data"
        },
        {
          "data": {
            "application/vnd.jupyter.widget-view+json": {
              "model_id": "ffc85abe16ef43b7bdf2d5d3ae4474dd",
              "version_major": 2,
              "version_minor": 0
            },
            "text/plain": [
              "Validation: 0it [00:00, ?it/s]"
            ]
          },
          "metadata": {},
          "output_type": "display_data"
        },
        {
          "data": {
            "application/vnd.jupyter.widget-view+json": {
              "model_id": "15e8e502ccbf46e7a4000ba113717d2d",
              "version_major": 2,
              "version_minor": 0
            },
            "text/plain": [
              "Validation: 0it [00:00, ?it/s]"
            ]
          },
          "metadata": {},
          "output_type": "display_data"
        },
        {
          "data": {
            "application/vnd.jupyter.widget-view+json": {
              "model_id": "7eaeae23aa6b44e28a88d13176b8a859",
              "version_major": 2,
              "version_minor": 0
            },
            "text/plain": [
              "Validation: 0it [00:00, ?it/s]"
            ]
          },
          "metadata": {},
          "output_type": "display_data"
        },
        {
          "data": {
            "application/vnd.jupyter.widget-view+json": {
              "model_id": "98e33ff6217346149e729e667550b5e7",
              "version_major": 2,
              "version_minor": 0
            },
            "text/plain": [
              "Validation: 0it [00:00, ?it/s]"
            ]
          },
          "metadata": {},
          "output_type": "display_data"
        },
        {
          "data": {
            "application/vnd.jupyter.widget-view+json": {
              "model_id": "9a3d53bc179e48a381e411cdcdfcfefc",
              "version_major": 2,
              "version_minor": 0
            },
            "text/plain": [
              "Validation: 0it [00:00, ?it/s]"
            ]
          },
          "metadata": {},
          "output_type": "display_data"
        },
        {
          "data": {
            "application/vnd.jupyter.widget-view+json": {
              "model_id": "00fe51079e77413785e18adab57e2b00",
              "version_major": 2,
              "version_minor": 0
            },
            "text/plain": [
              "Validation: 0it [00:00, ?it/s]"
            ]
          },
          "metadata": {},
          "output_type": "display_data"
        },
        {
          "data": {
            "application/vnd.jupyter.widget-view+json": {
              "model_id": "04f2eba72f3f4da2b45584f6d50fb686",
              "version_major": 2,
              "version_minor": 0
            },
            "text/plain": [
              "Validation: 0it [00:00, ?it/s]"
            ]
          },
          "metadata": {},
          "output_type": "display_data"
        },
        {
          "data": {
            "application/vnd.jupyter.widget-view+json": {
              "model_id": "7dc3e14dd0324077976622190c99e2bc",
              "version_major": 2,
              "version_minor": 0
            },
            "text/plain": [
              "Validation: 0it [00:00, ?it/s]"
            ]
          },
          "metadata": {},
          "output_type": "display_data"
        },
        {
          "data": {
            "application/vnd.jupyter.widget-view+json": {
              "model_id": "67313c0fd01d495aba3006d96078d9f5",
              "version_major": 2,
              "version_minor": 0
            },
            "text/plain": [
              "Validation: 0it [00:00, ?it/s]"
            ]
          },
          "metadata": {},
          "output_type": "display_data"
        },
        {
          "data": {
            "application/vnd.jupyter.widget-view+json": {
              "model_id": "8e8f09a1946c4cb2a935f099566eef0d",
              "version_major": 2,
              "version_minor": 0
            },
            "text/plain": [
              "Validation: 0it [00:00, ?it/s]"
            ]
          },
          "metadata": {},
          "output_type": "display_data"
        },
        {
          "data": {
            "application/vnd.jupyter.widget-view+json": {
              "model_id": "9a3301df4bcd4c99af492a7b8d2f0fa1",
              "version_major": 2,
              "version_minor": 0
            },
            "text/plain": [
              "Validation: 0it [00:00, ?it/s]"
            ]
          },
          "metadata": {},
          "output_type": "display_data"
        },
        {
          "data": {
            "application/vnd.jupyter.widget-view+json": {
              "model_id": "aa93fe6d37b3447c85b1405ce9380b22",
              "version_major": 2,
              "version_minor": 0
            },
            "text/plain": [
              "Validation: 0it [00:00, ?it/s]"
            ]
          },
          "metadata": {},
          "output_type": "display_data"
        },
        {
          "data": {
            "application/vnd.jupyter.widget-view+json": {
              "model_id": "3629865d85004592bfcef7397dc38b24",
              "version_major": 2,
              "version_minor": 0
            },
            "text/plain": [
              "Validation: 0it [00:00, ?it/s]"
            ]
          },
          "metadata": {},
          "output_type": "display_data"
        },
        {
          "data": {
            "application/vnd.jupyter.widget-view+json": {
              "model_id": "4908477d795749eebf921178be75aa34",
              "version_major": 2,
              "version_minor": 0
            },
            "text/plain": [
              "Validation: 0it [00:00, ?it/s]"
            ]
          },
          "metadata": {},
          "output_type": "display_data"
        },
        {
          "data": {
            "application/vnd.jupyter.widget-view+json": {
              "model_id": "b8691f951db54a8493685805e4de3272",
              "version_major": 2,
              "version_minor": 0
            },
            "text/plain": [
              "Validation: 0it [00:00, ?it/s]"
            ]
          },
          "metadata": {},
          "output_type": "display_data"
        },
        {
          "data": {
            "application/vnd.jupyter.widget-view+json": {
              "model_id": "3f4ab9fb6c5e47d0b5cd95e0971866a4",
              "version_major": 2,
              "version_minor": 0
            },
            "text/plain": [
              "Validation: 0it [00:00, ?it/s]"
            ]
          },
          "metadata": {},
          "output_type": "display_data"
        },
        {
          "data": {
            "application/vnd.jupyter.widget-view+json": {
              "model_id": "d2f9a53fe2274be18d5ffc562eeb53e1",
              "version_major": 2,
              "version_minor": 0
            },
            "text/plain": [
              "Validation: 0it [00:00, ?it/s]"
            ]
          },
          "metadata": {},
          "output_type": "display_data"
        },
        {
          "data": {
            "application/vnd.jupyter.widget-view+json": {
              "model_id": "71a7b67a708d45b4b18b46d244269c78",
              "version_major": 2,
              "version_minor": 0
            },
            "text/plain": [
              "Validation: 0it [00:00, ?it/s]"
            ]
          },
          "metadata": {},
          "output_type": "display_data"
        },
        {
          "data": {
            "application/vnd.jupyter.widget-view+json": {
              "model_id": "43af4e18f28e4fe3b6097fad8a42ca83",
              "version_major": 2,
              "version_minor": 0
            },
            "text/plain": [
              "Validation: 0it [00:00, ?it/s]"
            ]
          },
          "metadata": {},
          "output_type": "display_data"
        },
        {
          "data": {
            "application/vnd.jupyter.widget-view+json": {
              "model_id": "7bac0032df8c4dd9ac7818474e522fdb",
              "version_major": 2,
              "version_minor": 0
            },
            "text/plain": [
              "Validation: 0it [00:00, ?it/s]"
            ]
          },
          "metadata": {},
          "output_type": "display_data"
        },
        {
          "data": {
            "application/vnd.jupyter.widget-view+json": {
              "model_id": "abcbf2426ceb4de081b35a6187590cdb",
              "version_major": 2,
              "version_minor": 0
            },
            "text/plain": [
              "Validation: 0it [00:00, ?it/s]"
            ]
          },
          "metadata": {},
          "output_type": "display_data"
        },
        {
          "data": {
            "application/vnd.jupyter.widget-view+json": {
              "model_id": "0169933b48ad4512bdd661cfecb708a1",
              "version_major": 2,
              "version_minor": 0
            },
            "text/plain": [
              "Validation: 0it [00:00, ?it/s]"
            ]
          },
          "metadata": {},
          "output_type": "display_data"
        },
        {
          "data": {
            "application/vnd.jupyter.widget-view+json": {
              "model_id": "01a9c4ab63f54923b45aa175e1a9be53",
              "version_major": 2,
              "version_minor": 0
            },
            "text/plain": [
              "Validation: 0it [00:00, ?it/s]"
            ]
          },
          "metadata": {},
          "output_type": "display_data"
        },
        {
          "data": {
            "application/vnd.jupyter.widget-view+json": {
              "model_id": "0c8085abb82c478e96f6399e91358bf8",
              "version_major": 2,
              "version_minor": 0
            },
            "text/plain": [
              "Validation: 0it [00:00, ?it/s]"
            ]
          },
          "metadata": {},
          "output_type": "display_data"
        },
        {
          "name": "stderr",
          "output_type": "stream",
          "text": [
            "`Trainer.fit` stopped: `max_epochs=500` reached.\n"
          ]
        },
        {
          "data": {
            "image/png": "[encoded data removed]",
            "text/plain": [
              "<Figure size 640x480 with 1 Axes>"
            ]
          },
          "metadata": {},
          "output_type": "display_data"
        },
        {
          "data": {
            "image/png": "[encoded data removed]",
            "text/plain": [
              "<Figure size 640x480 with 1 Axes>"
            ]
          },
          "metadata": {},
          "output_type": "display_data"
        }
      ],
      "source": [
        "def _train_loop():\n",
        "    seed_everything(SEED, workers=True)\n",
        "\n",
        "    print(MODEL_NAME['no_aug'])\n",
        "    model = MODEL['no_aug']()\n",
        "\n",
        "    callbacks = list()\n",
        "\n",
        "    checkpoint = ModelCheckpoint(\n",
        "        monitor=METRIC_TO_MONITOR,\n",
        "        dirpath=f\"{EXPERIMENT_DIR}/model\",\n",
        "        mode=METRIC_MODE,\n",
        "        filename=f\"{MODEL_NAME['no_aug']}_best\",\n",
        "    )\n",
        "    callbacks.append(checkpoint)\n",
        "\n",
        "    early_stopping = EarlyStopping(\n",
        "        monitor=METRIC_TO_MONITOR,\n",
        "        min_delta=0.00,\n",
        "        patience=int(\n",
        "            EARLY_STOPPING_PATIENCE * EPOCH\n",
        "        ),\n",
        "        verbose=False,\n",
        "        mode=METRIC_MODE,\n",
        "    )\n",
        "    callbacks.append(early_stopping)\n",
        "\n",
        "    if os.path.exists(BEST_MODEL_PATH[\"no_aug\"]):\n",
        "        ckpt_path = BEST_MODEL_PATH[\"no_aug\"]\n",
        "    else:\n",
        "        ckpt_path = None\n",
        "\n",
        "    trainer = Trainer(\n",
        "        accelerator=\"auto\",\n",
        "        devices=1,\n",
        "        max_epochs=500,\n",
        "        logger=False,\n",
        "        callbacks=callbacks,\n",
        "        log_every_n_steps=5,\n",
        "    )\n",
        "    trainer.fit(model, ckpt_path=ckpt_path)\n",
        "\n",
        "_train_loop()"
      ]
    },
    {
      "cell_type": "markdown",
      "metadata": {
        "id": "_lGR4WoSv-UP"
      },
      "source": []
    },
    {
      "cell_type": "markdown",
      "metadata": {
        "id": "1JwtRIubv-UP"
      },
      "source": []
    },
    {
      "cell_type": "markdown",
      "metadata": {
        "id": "Ay0Qyg3Iv-UP"
      },
      "source": []
    },
    {
      "cell_type": "markdown",
      "metadata": {
        "id": "pBm69VaGv-UP"
      },
      "source": []
    },
    {
      "cell_type": "markdown",
      "metadata": {
        "id": "ukigQBdiv-UP"
      },
      "source": []
    }
  ],
  "metadata": {
    "accelerator": "GPU",
    "colab": {
      "gpuType": "T4",
      "provenance": []
    },
    "kernelspec": {
      "display_name": "Python 3",
      "name": "python3"
    },
    "language_info": {
      "codemirror_mode": {
        "name": "ipython",
        "version": 3
      },
      "file_extension": ".py",
      "mimetype": "text/x-python",
      "name": "python",
      "nbconvert_exporter": "python",
      "pygments_lexer": "ipython3",
      "version": "3.11.7"
    },
    "widgets": {
      "application/vnd.jupyter.widget-state+json": {}
    }
  },
  "nbformat": 4,
  "nbformat_minor": 0
}